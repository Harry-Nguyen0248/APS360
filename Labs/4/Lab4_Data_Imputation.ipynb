{
 "cells": [
  {
   "cell_type": "markdown",
   "metadata": {
    "colab_type": "text",
    "id": "OhtOdxzd1ppr"
   },
   "source": [
    "# Lab 4: Data Imputation using an Autoencoder\n",
    "\n",
    "\n",
    "In this lab, you will build and train an autoencoder to impute (or \"fill in\") missing data. \n",
    "\n",
    "We will be using the\n",
    "Adult Data Set provided by the UCI Machine Learning Repository [1], available \n",
    "at https://archive.ics.uci.edu/ml/datasets/adult.\n",
    "The data set contains census record files of adults, including their\n",
    "age, martial status, the type of work they do, and other features. \n",
    "\n",
    "Normally, people use this data set to build a supervised classification\n",
    "model to classify whether a person is a high income earner.\n",
    "We will not use the dataset for this original intended purpose.\n",
    "\n",
    "Instead, we will perform the task of imputing (or \"filling in\") missing values in the dataset. For example,\n",
    "we may be missing one person's martial status, and another person's age, and\n",
    "a third person's level of education. Our model will predict the missing features \n",
    "based on the information that we do have about each person.\n",
    "\n",
    "We will use a variation of a denoising autoencoder to solve this data imputation\n",
    "problem. Our autoencoder will be trained using inputs that have one categorical feature artificially\n",
    "removed, and the goal of the autoencoder is to correctly reconstruct all features,\n",
    "including the one removed from the input.\n",
    "\n",
    "In the process, you are expected to learn to:\n",
    "\n",
    "1. Clean and process continuous and categorical data for machine learning.\n",
    "2. Implement an autoencoder that takes continuous and categorical (one-hot) inputs.\n",
    "3. Tune the hyperparameters of an autoencoder.\n",
    "4. Use baseline models to help interpret model performance.\n",
    "\n",
    "[1] Dua, D. and Karra Taniskidou, E. (2017). UCI Machine Learning Repository [http://archive.ics.uci.edu/ml]. Irvine, CA: University of California, School of Information and Computer Science.\n",
    "\n",
    "\n",
    "### What to submit\n",
    "\n",
    "Submit a PDF file containing all your code, outputs, and write-up. You can produce a PDF of your Google Colab file by going to File > Print and then save as PDF. The Colab instructions have more information.\n",
    "\n",
    "Do not submit any other files produced by your code.\n",
    "\n",
    "Include a link to your colab file in your submission.\n"
   ]
  },
  {
   "cell_type": "markdown",
   "metadata": {
    "colab_type": "text",
    "id": "zbnrp2ig1pps"
   },
   "source": [
    "## Colab Link\n",
    "\n",
    "Include a link to your Colab file here. If you would like the TA to look at your\n",
    "Colab file in case your solutions are cut off, **please make sure that your Colab\n",
    "file is publicly accessible at the time of submission**.\n",
    "\n",
    "Colab Link:"
   ]
  },
  {
   "cell_type": "code",
   "execution_count": 7,
   "metadata": {
    "colab": {},
    "colab_type": "code",
    "collapsed": true,
    "id": "z3p8N43E1ppt",
    "jupyter": {
     "outputs_hidden": true
    }
   },
   "outputs": [],
   "source": [
    "import csv\n",
    "import numpy as np\n",
    "import random\n",
    "import torch\n",
    "import torch.utils.data"
   ]
  },
  {
   "cell_type": "markdown",
   "metadata": {
    "colab_type": "text",
    "id": "8ROwtHcz1ppx"
   },
   "source": [
    "## Part 0\n",
    "\n",
    "We will be using a package called `pandas` for this assignment. \n",
    "\n",
    "If you are using Colab, `pandas` should already be available.\n",
    "If you are using your own computer,\n",
    "installation instructions for `pandas` are available here: \n",
    "https://pandas.pydata.org/pandas-docs/stable/install.html"
   ]
  },
  {
   "cell_type": "code",
   "execution_count": 8,
   "metadata": {
    "colab": {},
    "colab_type": "code",
    "collapsed": true,
    "id": "IXQ7BP151ppz",
    "jupyter": {
     "outputs_hidden": true
    }
   },
   "outputs": [],
   "source": [
    "import pandas as pd"
   ]
  },
  {
   "cell_type": "markdown",
   "metadata": {
    "colab_type": "text",
    "id": "hqXihb4Q1pp2"
   },
   "source": [
    "# Part 1. Data Cleaning [15 pt]\n",
    "\n",
    "The adult.data file is available at `https://archive.ics.uci.edu/ml/machine-learning-databases/adult/adult.data`\n",
    "\n",
    "The function `pd.read_csv` loads the adult.data file into a pandas dataframe.\n",
    "You can read about the pandas documentation for `pd.read_csv` at\n",
    "https://pandas.pydata.org/pandas-docs/stable/reference/api/pandas.read_csv.html"
   ]
  },
  {
   "cell_type": "code",
   "execution_count": 9,
   "metadata": {
    "colab": {},
    "colab_type": "code",
    "collapsed": true,
    "id": "EOMItFKn1pp3",
    "jupyter": {
     "outputs_hidden": true
    }
   },
   "outputs": [
    {
     "name": "stderr",
     "output_type": "stream",
     "text": [
      "/var/folders/9_/z_hkcvrx4150jhlxkgq00mv40000gn/T/ipykernel_9644/1831985018.py:3: ParserWarning: Length of header or names does not match length of data. This leads to a loss of data with index_col=False.\n",
      "  df = pd.read_csv(\n"
     ]
    }
   ],
   "source": [
    "header = ['age', 'work', 'fnlwgt', 'edu', 'yredu', 'marriage', 'occupation',\n",
    " 'relationship', 'race', 'sex', 'capgain', 'caploss', 'workhr', 'country']\n",
    "df = pd.read_csv(\n",
    "    \"https://archive.ics.uci.edu/ml/machine-learning-databases/adult/adult.data\",\n",
    "    names=header,\n",
    "    index_col=False)"
   ]
  },
  {
   "cell_type": "code",
   "execution_count": 10,
   "metadata": {
    "colab": {},
    "colab_type": "code",
    "id": "62Ot405q1pp5",
    "outputId": "c90e1be4-182d-4816-c20f-5d65fe414844",
    "scrolled": true
   },
   "outputs": [
    {
     "data": {
      "text/plain": [
       "(32561, 14)"
      ]
     },
     "execution_count": 10,
     "metadata": {},
     "output_type": "execute_result"
    }
   ],
   "source": [
    "df.shape # there are 32561 rows (records) in the data frame, and 14 columns (features)"
   ]
  },
  {
   "cell_type": "markdown",
   "metadata": {
    "colab_type": "text",
    "id": "Tr7YG-QY1pp8"
   },
   "source": [
    "### Part (a) Continuous Features [3 pt]\n",
    "\n",
    "For each of the columns `[\"age\", \"yredu\", \"capgain\", \"caploss\", \"workhr\"]`, report the minimum, maximum, and average value across the dataset. \n",
    "\n",
    "Then, normalize each of the features `[\"age\", \"yredu\", \"capgain\", \"caploss\", \"workhr\"]`\n",
    "so that their values are always between 0 and 1.\n",
    "Make sure that you are actually modifying the dataframe `df`. \n",
    "\n",
    "Like numpy arrays and torch tensors, \n",
    "pandas data frames can be sliced. For example, we can\n",
    "display the first 3 rows of the data frame (3 records) below."
   ]
  },
  {
   "cell_type": "code",
   "execution_count": 11,
   "metadata": {
    "colab": {},
    "colab_type": "code",
    "id": "9evSLsSa1pp9",
    "outputId": "cd1c2aee-df56-4df1-df16-3247d929a7b3"
   },
   "outputs": [
    {
     "data": {
      "text/html": [
       "<div>\n",
       "<style scoped>\n",
       "    .dataframe tbody tr th:only-of-type {\n",
       "        vertical-align: middle;\n",
       "    }\n",
       "\n",
       "    .dataframe tbody tr th {\n",
       "        vertical-align: top;\n",
       "    }\n",
       "\n",
       "    .dataframe thead th {\n",
       "        text-align: right;\n",
       "    }\n",
       "</style>\n",
       "<table border=\"1\" class=\"dataframe\">\n",
       "  <thead>\n",
       "    <tr style=\"text-align: right;\">\n",
       "      <th></th>\n",
       "      <th>age</th>\n",
       "      <th>work</th>\n",
       "      <th>fnlwgt</th>\n",
       "      <th>edu</th>\n",
       "      <th>yredu</th>\n",
       "      <th>marriage</th>\n",
       "      <th>occupation</th>\n",
       "      <th>relationship</th>\n",
       "      <th>race</th>\n",
       "      <th>sex</th>\n",
       "      <th>capgain</th>\n",
       "      <th>caploss</th>\n",
       "      <th>workhr</th>\n",
       "      <th>country</th>\n",
       "    </tr>\n",
       "  </thead>\n",
       "  <tbody>\n",
       "    <tr>\n",
       "      <th>0</th>\n",
       "      <td>39</td>\n",
       "      <td>State-gov</td>\n",
       "      <td>77516</td>\n",
       "      <td>Bachelors</td>\n",
       "      <td>13</td>\n",
       "      <td>Never-married</td>\n",
       "      <td>Adm-clerical</td>\n",
       "      <td>Not-in-family</td>\n",
       "      <td>White</td>\n",
       "      <td>Male</td>\n",
       "      <td>2174</td>\n",
       "      <td>0</td>\n",
       "      <td>40</td>\n",
       "      <td>United-States</td>\n",
       "    </tr>\n",
       "    <tr>\n",
       "      <th>1</th>\n",
       "      <td>50</td>\n",
       "      <td>Self-emp-not-inc</td>\n",
       "      <td>83311</td>\n",
       "      <td>Bachelors</td>\n",
       "      <td>13</td>\n",
       "      <td>Married-civ-spouse</td>\n",
       "      <td>Exec-managerial</td>\n",
       "      <td>Husband</td>\n",
       "      <td>White</td>\n",
       "      <td>Male</td>\n",
       "      <td>0</td>\n",
       "      <td>0</td>\n",
       "      <td>13</td>\n",
       "      <td>United-States</td>\n",
       "    </tr>\n",
       "    <tr>\n",
       "      <th>2</th>\n",
       "      <td>38</td>\n",
       "      <td>Private</td>\n",
       "      <td>215646</td>\n",
       "      <td>HS-grad</td>\n",
       "      <td>9</td>\n",
       "      <td>Divorced</td>\n",
       "      <td>Handlers-cleaners</td>\n",
       "      <td>Not-in-family</td>\n",
       "      <td>White</td>\n",
       "      <td>Male</td>\n",
       "      <td>0</td>\n",
       "      <td>0</td>\n",
       "      <td>40</td>\n",
       "      <td>United-States</td>\n",
       "    </tr>\n",
       "  </tbody>\n",
       "</table>\n",
       "</div>"
      ],
      "text/plain": [
       "   age               work  fnlwgt         edu  yredu             marriage  \\\n",
       "0   39          State-gov   77516   Bachelors     13        Never-married   \n",
       "1   50   Self-emp-not-inc   83311   Bachelors     13   Married-civ-spouse   \n",
       "2   38            Private  215646     HS-grad      9             Divorced   \n",
       "\n",
       "           occupation    relationship    race    sex  capgain  caploss  \\\n",
       "0        Adm-clerical   Not-in-family   White   Male     2174        0   \n",
       "1     Exec-managerial         Husband   White   Male        0        0   \n",
       "2   Handlers-cleaners   Not-in-family   White   Male        0        0   \n",
       "\n",
       "   workhr         country  \n",
       "0      40   United-States  \n",
       "1      13   United-States  \n",
       "2      40   United-States  "
      ]
     },
     "execution_count": 11,
     "metadata": {},
     "output_type": "execute_result"
    }
   ],
   "source": [
    "df[:3] # show the first 3 records"
   ]
  },
  {
   "cell_type": "markdown",
   "metadata": {
    "colab_type": "text",
    "id": "gBOojI6W1pqA"
   },
   "source": [
    "Alternatively, we can slice based on column names, \n",
    "for example `df[\"race\"]`, `df[\"hr\"]`, or even index multiple columns \n",
    "like below."
   ]
  },
  {
   "cell_type": "code",
   "execution_count": 12,
   "metadata": {
    "colab": {},
    "colab_type": "code",
    "id": "4v6pp73A1pqB",
    "outputId": "80c34c3c-4df7-414d-ffe4-9ff73b81b68a"
   },
   "outputs": [
    {
     "data": {
      "text/html": [
       "<div>\n",
       "<style scoped>\n",
       "    .dataframe tbody tr th:only-of-type {\n",
       "        vertical-align: middle;\n",
       "    }\n",
       "\n",
       "    .dataframe tbody tr th {\n",
       "        vertical-align: top;\n",
       "    }\n",
       "\n",
       "    .dataframe thead th {\n",
       "        text-align: right;\n",
       "    }\n",
       "</style>\n",
       "<table border=\"1\" class=\"dataframe\">\n",
       "  <thead>\n",
       "    <tr style=\"text-align: right;\">\n",
       "      <th></th>\n",
       "      <th>age</th>\n",
       "      <th>yredu</th>\n",
       "      <th>capgain</th>\n",
       "      <th>caploss</th>\n",
       "      <th>workhr</th>\n",
       "    </tr>\n",
       "  </thead>\n",
       "  <tbody>\n",
       "    <tr>\n",
       "      <th>0</th>\n",
       "      <td>39</td>\n",
       "      <td>13</td>\n",
       "      <td>2174</td>\n",
       "      <td>0</td>\n",
       "      <td>40</td>\n",
       "    </tr>\n",
       "    <tr>\n",
       "      <th>1</th>\n",
       "      <td>50</td>\n",
       "      <td>13</td>\n",
       "      <td>0</td>\n",
       "      <td>0</td>\n",
       "      <td>13</td>\n",
       "    </tr>\n",
       "    <tr>\n",
       "      <th>2</th>\n",
       "      <td>38</td>\n",
       "      <td>9</td>\n",
       "      <td>0</td>\n",
       "      <td>0</td>\n",
       "      <td>40</td>\n",
       "    </tr>\n",
       "  </tbody>\n",
       "</table>\n",
       "</div>"
      ],
      "text/plain": [
       "   age  yredu  capgain  caploss  workhr\n",
       "0   39     13     2174        0      40\n",
       "1   50     13        0        0      13\n",
       "2   38      9        0        0      40"
      ]
     },
     "execution_count": 12,
     "metadata": {},
     "output_type": "execute_result"
    }
   ],
   "source": [
    "subdf = df[[\"age\", \"yredu\", \"capgain\", \"caploss\", \"workhr\"]]\n",
    "subdf[:3] # show the first 3 records"
   ]
  },
  {
   "cell_type": "markdown",
   "metadata": {
    "colab_type": "text",
    "id": "2Nru2P0E1pqD"
   },
   "source": [
    "Numpy works nicely with pandas, like below:"
   ]
  },
  {
   "cell_type": "code",
   "execution_count": 13,
   "metadata": {
    "colab": {},
    "colab_type": "code",
    "id": "JXrS6tjp1pqE",
    "outputId": "29ee3639-30ae-4533-cb73-7cddf4be82a6"
   },
   "outputs": [
    {
     "data": {
      "text/plain": [
       "2842700"
      ]
     },
     "execution_count": 13,
     "metadata": {},
     "output_type": "execute_result"
    }
   ],
   "source": [
    "np.sum(subdf[\"caploss\"])"
   ]
  },
  {
   "cell_type": "markdown",
   "metadata": {
    "colab_type": "text",
    "id": "Mv5mbxDM1pqH"
   },
   "source": [
    "Just like numpy arrays, you can modify\n",
    "entire columns of data rather than one scalar element at a time.\n",
    "For example, the code  \n",
    "\n",
    "`df[\"age\"] = df[\"age\"] + 1` \n",
    "\n",
    "would increment everyone's age by 1."
   ]
  },
  {
   "cell_type": "code",
   "execution_count": 14,
   "metadata": {
    "colab": {},
    "colab_type": "code",
    "collapsed": true,
    "id": "k5rlWD7-1pqH",
    "jupyter": {
     "outputs_hidden": true
    }
   },
   "outputs": [
    {
     "name": "stdout",
     "output_type": "stream",
     "text": [
      "         Min    Max         Mean\n",
      "age       17     90    38.581647\n",
      "yredu      1     16    10.080679\n",
      "capgain    0  99999  1077.648844\n",
      "caploss    0   4356    87.303830\n",
      "workhr     1     99    40.437456\n"
     ]
    }
   ],
   "source": [
    "#Calculate min, max ,and average values\n",
    "columns = [\"age\", \"yredu\", \"capgain\", \"caploss\", \"workhr\"]\n",
    "min_values = df[columns].min()\n",
    "max_values = df[columns].max()\n",
    "mean_values = df[columns].mean()\n",
    "\n",
    "#Display the summary\n",
    "summary = pd.DataFrame({\n",
    "    'Min': min_values, \n",
    "    'Max': max_values,\n",
    "    'Mean': mean_values\n",
    "})\n",
    "print(summary)"
   ]
  },
  {
   "cell_type": "code",
   "execution_count": 15,
   "metadata": {},
   "outputs": [
    {
     "name": "stdout",
     "output_type": "stream",
     "text": [
      "        age     yredu  capgain  caploss    workhr\n",
      "0  0.301370  0.800000  0.02174      0.0  0.397959\n",
      "1  0.452055  0.800000  0.00000      0.0  0.122449\n",
      "2  0.287671  0.533333  0.00000      0.0  0.397959\n"
     ]
    }
   ],
   "source": [
    "#Normalize the spcified columns\n",
    "for column in columns:\n",
    "    min_val = min_values[column]\n",
    "    max_val = max_values[column]\n",
    "    df[column] = (df[column] - min_val) / (max_val - min_val)\n",
    "\n",
    "#Display the first 3 records to verify normalization\n",
    "print(df[[\"age\", \"yredu\", \"capgain\", \"caploss\", \"workhr\"]].head(3))"
   ]
  },
  {
   "cell_type": "markdown",
   "metadata": {
    "colab_type": "text",
    "id": "qbfMly4R1pqK"
   },
   "source": [
    "### Part (b) Categorical Features [1 pt]\n",
    "\n",
    "What percentage of people in our data set are male? Note that the data labels all have an unfortunate space in the beginning, e.g. \" Male\" instead of \"Male\".\n",
    "\n",
    "What percentage of people in our data set are female?"
   ]
  },
  {
   "cell_type": "code",
   "execution_count": 16,
   "metadata": {
    "colab": {},
    "colab_type": "code",
    "id": "DjAjcsB_1pqK",
    "outputId": "cd7201c3-007c-4fea-d955-4ce34ff808b6"
   },
   "outputs": [
    {
     "name": "stdout",
     "output_type": "stream",
     "text": [
      "Percentage of males: 66.92%\n",
      "Percentage of females: 33.08%\n"
     ]
    },
    {
     "data": {
      "text/plain": [
       "'\\nThe percentage of people in our data being female is 33.08%\\n'"
      ]
     },
     "execution_count": 16,
     "metadata": {},
     "output_type": "execute_result"
    }
   ],
   "source": [
    "num_males = sum(df[\"sex\"] == \" Male\")\n",
    "num_females = sum(df[\"sex\"] == \" Female\")\n",
    "\n",
    "total_entries = len(df)\n",
    "percent_males = (num_males / total_entries) * 100\n",
    "percent_females = (num_females / total_entries) * 100\n",
    "\n",
    "print(f\"Percentage of males: {percent_males:.2f}%\")\n",
    "print(f\"Percentage of females: {percent_females:.2f}%\")\n",
    "\n",
    "'''\n",
    "The percentage of people in our data being female is 33.08%\n",
    "'''\n"
   ]
  },
  {
   "cell_type": "markdown",
   "metadata": {
    "colab_type": "text",
    "id": "eGVw7pqL1pqN"
   },
   "source": [
    "### Part (c) [2 pt]\n",
    "\n",
    "Before proceeding, we will modify our data frame in a couple more ways:\n",
    "\n",
    "1. We will restrict ourselves to using a subset of the features (to simplify our autoencoder)\n",
    "2. We will remove any records (rows) already containing missing values, and store them in a second dataframe. We will only use records without missing values to train our autoencoder.\n",
    "\n",
    "Both of these steps are done for you, below.\n",
    "\n",
    "How many records contained missing features? What percentage of records were removed?"
   ]
  },
  {
   "cell_type": "code",
   "execution_count": 17,
   "metadata": {
    "colab": {},
    "colab_type": "code",
    "collapsed": true,
    "id": "z6ewPUdv1pqO",
    "jupyter": {
     "outputs_hidden": true
    }
   },
   "outputs": [],
   "source": [
    "contcols = [\"age\", \"yredu\", \"capgain\", \"caploss\", \"workhr\"]\n",
    "catcols = [\"work\", \"marriage\", \"occupation\", \"edu\", \"relationship\", \"sex\"]\n",
    "features = contcols + catcols\n",
    "df = df[features]"
   ]
  },
  {
   "cell_type": "code",
   "execution_count": 18,
   "metadata": {
    "colab": {},
    "colab_type": "code",
    "collapsed": true,
    "id": "fjdVll5a1pqQ",
    "jupyter": {
     "outputs_hidden": true
    }
   },
   "outputs": [],
   "source": [
    "missing = pd.concat([df[c] == \" ?\" for c in catcols], axis=1).any(axis=1)\n",
    "df_with_missing = df[missing]\n",
    "df_not_missing = df[~missing]"
   ]
  },
  {
   "cell_type": "code",
   "execution_count": 19,
   "metadata": {},
   "outputs": [
    {
     "name": "stdout",
     "output_type": "stream",
     "text": [
      "Number of records with missing features: 1843\n",
      "Percentage of records removed: 5.66%\n"
     ]
    }
   ],
   "source": [
    "#Count the number of records in both DataFrames\n",
    "num_missing = len(df_with_missing)\n",
    "num_not_missing = len(df_not_missing)\n",
    "total_records = len(df)\n",
    "\n",
    "#Calculate the percentage\n",
    "percent_removed = (num_missing / total_records) * 100\n",
    "\n",
    "print(f\"Number of records with missing features: {num_missing}\")\n",
    "print(f\"Percentage of records removed: {percent_removed:.2f}%\")"
   ]
  },
  {
   "cell_type": "markdown",
   "metadata": {
    "colab_type": "text",
    "id": "XuEpndTQ1pqU"
   },
   "source": [
    "### Part (d) One-Hot Encoding [1 pt]\n",
    "\n",
    "What are all the possible values of the feature \"work\" in `df_not_missing`? You may find the Python function `set` useful."
   ]
  },
  {
   "cell_type": "code",
   "execution_count": 20,
   "metadata": {
    "colab": {},
    "colab_type": "code",
    "collapsed": true,
    "id": "iKFh4owE1pqV",
    "jupyter": {
     "outputs_hidden": true
    }
   },
   "outputs": [
    {
     "name": "stdout",
     "output_type": "stream",
     "text": [
      "All possible values of the feature 'work': {work_values}\n",
      "        age     yredu  capgain  caploss    workhr  work_ Federal-gov  \\\n",
      "0  0.301370  0.800000  0.02174      0.0  0.397959              False   \n",
      "1  0.452055  0.800000  0.00000      0.0  0.122449              False   \n",
      "2  0.287671  0.533333  0.00000      0.0  0.397959              False   \n",
      "3  0.493151  0.400000  0.00000      0.0  0.397959              False   \n",
      "4  0.150685  0.800000  0.00000      0.0  0.397959              False   \n",
      "\n",
      "   work_ Local-gov  work_ Private  work_ Self-emp-inc  work_ Self-emp-not-inc  \\\n",
      "0            False          False               False                   False   \n",
      "1            False          False               False                    True   \n",
      "2            False           True               False                   False   \n",
      "3            False           True               False                   False   \n",
      "4            False           True               False                   False   \n",
      "\n",
      "   ...  edu_ Prof-school  edu_ Some-college  relationship_ Husband  \\\n",
      "0  ...             False              False                  False   \n",
      "1  ...             False              False                   True   \n",
      "2  ...             False              False                  False   \n",
      "3  ...             False              False                   True   \n",
      "4  ...             False              False                  False   \n",
      "\n",
      "   relationship_ Not-in-family  relationship_ Other-relative  \\\n",
      "0                         True                         False   \n",
      "1                        False                         False   \n",
      "2                         True                         False   \n",
      "3                        False                         False   \n",
      "4                        False                         False   \n",
      "\n",
      "   relationship_ Own-child  relationship_ Unmarried  relationship_ Wife  \\\n",
      "0                    False                    False               False   \n",
      "1                    False                    False               False   \n",
      "2                    False                    False               False   \n",
      "3                    False                    False               False   \n",
      "4                    False                    False                True   \n",
      "\n",
      "   sex_ Female  sex_ Male  \n",
      "0        False       True  \n",
      "1        False       True  \n",
      "2        False       True  \n",
      "3        False       True  \n",
      "4         True      False  \n",
      "\n",
      "[5 rows x 57 columns]\n"
     ]
    }
   ],
   "source": [
    "work_values = set(df_not_missing[\"work\"])\n",
    "df_not_missing_ecoded = pd.get_dummies(df_not_missing, \n",
    "                                       columns=catcols)\n",
    "\n",
    "print(\"All possible values of the feature 'work': {work_values}\")\n",
    "print(df_not_missing_ecoded.head())"
   ]
  },
  {
   "cell_type": "markdown",
   "metadata": {
    "colab_type": "text",
    "id": "COv3HaKr1pqY"
   },
   "source": [
    "We will be using a one-hot encoding to represent each of the categorical variables.\n",
    "Our autoencoder will be trained using these one-hot encodings.\n",
    "\n",
    "We will use the pandas function `get_dummies` to produce one-hot encodings\n",
    "for all of the categorical variables in `df_not_missing`. "
   ]
  },
  {
   "cell_type": "code",
   "execution_count": 21,
   "metadata": {
    "colab": {},
    "colab_type": "code",
    "collapsed": true,
    "id": "eKlSYmJg1pqZ",
    "jupyter": {
     "outputs_hidden": true
    }
   },
   "outputs": [],
   "source": [
    "data = pd.get_dummies(df_not_missing)"
   ]
  },
  {
   "cell_type": "code",
   "execution_count": 22,
   "metadata": {
    "colab": {},
    "colab_type": "code",
    "collapsed": true,
    "id": "3y7nTZ7H1pqb",
    "jupyter": {
     "outputs_hidden": true
    },
    "scrolled": true
   },
   "outputs": [
    {
     "data": {
      "text/html": [
       "<div>\n",
       "<style scoped>\n",
       "    .dataframe tbody tr th:only-of-type {\n",
       "        vertical-align: middle;\n",
       "    }\n",
       "\n",
       "    .dataframe tbody tr th {\n",
       "        vertical-align: top;\n",
       "    }\n",
       "\n",
       "    .dataframe thead th {\n",
       "        text-align: right;\n",
       "    }\n",
       "</style>\n",
       "<table border=\"1\" class=\"dataframe\">\n",
       "  <thead>\n",
       "    <tr style=\"text-align: right;\">\n",
       "      <th></th>\n",
       "      <th>age</th>\n",
       "      <th>yredu</th>\n",
       "      <th>capgain</th>\n",
       "      <th>caploss</th>\n",
       "      <th>workhr</th>\n",
       "      <th>work_ Federal-gov</th>\n",
       "      <th>work_ Local-gov</th>\n",
       "      <th>work_ Private</th>\n",
       "      <th>work_ Self-emp-inc</th>\n",
       "      <th>work_ Self-emp-not-inc</th>\n",
       "      <th>...</th>\n",
       "      <th>edu_ Prof-school</th>\n",
       "      <th>edu_ Some-college</th>\n",
       "      <th>relationship_ Husband</th>\n",
       "      <th>relationship_ Not-in-family</th>\n",
       "      <th>relationship_ Other-relative</th>\n",
       "      <th>relationship_ Own-child</th>\n",
       "      <th>relationship_ Unmarried</th>\n",
       "      <th>relationship_ Wife</th>\n",
       "      <th>sex_ Female</th>\n",
       "      <th>sex_ Male</th>\n",
       "    </tr>\n",
       "  </thead>\n",
       "  <tbody>\n",
       "    <tr>\n",
       "      <th>0</th>\n",
       "      <td>0.301370</td>\n",
       "      <td>0.800000</td>\n",
       "      <td>0.02174</td>\n",
       "      <td>0.0</td>\n",
       "      <td>0.397959</td>\n",
       "      <td>False</td>\n",
       "      <td>False</td>\n",
       "      <td>False</td>\n",
       "      <td>False</td>\n",
       "      <td>False</td>\n",
       "      <td>...</td>\n",
       "      <td>False</td>\n",
       "      <td>False</td>\n",
       "      <td>False</td>\n",
       "      <td>True</td>\n",
       "      <td>False</td>\n",
       "      <td>False</td>\n",
       "      <td>False</td>\n",
       "      <td>False</td>\n",
       "      <td>False</td>\n",
       "      <td>True</td>\n",
       "    </tr>\n",
       "    <tr>\n",
       "      <th>1</th>\n",
       "      <td>0.452055</td>\n",
       "      <td>0.800000</td>\n",
       "      <td>0.00000</td>\n",
       "      <td>0.0</td>\n",
       "      <td>0.122449</td>\n",
       "      <td>False</td>\n",
       "      <td>False</td>\n",
       "      <td>False</td>\n",
       "      <td>False</td>\n",
       "      <td>True</td>\n",
       "      <td>...</td>\n",
       "      <td>False</td>\n",
       "      <td>False</td>\n",
       "      <td>True</td>\n",
       "      <td>False</td>\n",
       "      <td>False</td>\n",
       "      <td>False</td>\n",
       "      <td>False</td>\n",
       "      <td>False</td>\n",
       "      <td>False</td>\n",
       "      <td>True</td>\n",
       "    </tr>\n",
       "    <tr>\n",
       "      <th>2</th>\n",
       "      <td>0.287671</td>\n",
       "      <td>0.533333</td>\n",
       "      <td>0.00000</td>\n",
       "      <td>0.0</td>\n",
       "      <td>0.397959</td>\n",
       "      <td>False</td>\n",
       "      <td>False</td>\n",
       "      <td>True</td>\n",
       "      <td>False</td>\n",
       "      <td>False</td>\n",
       "      <td>...</td>\n",
       "      <td>False</td>\n",
       "      <td>False</td>\n",
       "      <td>False</td>\n",
       "      <td>True</td>\n",
       "      <td>False</td>\n",
       "      <td>False</td>\n",
       "      <td>False</td>\n",
       "      <td>False</td>\n",
       "      <td>False</td>\n",
       "      <td>True</td>\n",
       "    </tr>\n",
       "  </tbody>\n",
       "</table>\n",
       "<p>3 rows × 57 columns</p>\n",
       "</div>"
      ],
      "text/plain": [
       "        age     yredu  capgain  caploss    workhr  work_ Federal-gov  \\\n",
       "0  0.301370  0.800000  0.02174      0.0  0.397959              False   \n",
       "1  0.452055  0.800000  0.00000      0.0  0.122449              False   \n",
       "2  0.287671  0.533333  0.00000      0.0  0.397959              False   \n",
       "\n",
       "   work_ Local-gov  work_ Private  work_ Self-emp-inc  work_ Self-emp-not-inc  \\\n",
       "0            False          False               False                   False   \n",
       "1            False          False               False                    True   \n",
       "2            False           True               False                   False   \n",
       "\n",
       "   ...  edu_ Prof-school  edu_ Some-college  relationship_ Husband  \\\n",
       "0  ...             False              False                  False   \n",
       "1  ...             False              False                   True   \n",
       "2  ...             False              False                  False   \n",
       "\n",
       "   relationship_ Not-in-family  relationship_ Other-relative  \\\n",
       "0                         True                         False   \n",
       "1                        False                         False   \n",
       "2                         True                         False   \n",
       "\n",
       "   relationship_ Own-child  relationship_ Unmarried  relationship_ Wife  \\\n",
       "0                    False                    False               False   \n",
       "1                    False                    False               False   \n",
       "2                    False                    False               False   \n",
       "\n",
       "   sex_ Female  sex_ Male  \n",
       "0        False       True  \n",
       "1        False       True  \n",
       "2        False       True  \n",
       "\n",
       "[3 rows x 57 columns]"
      ]
     },
     "execution_count": 22,
     "metadata": {},
     "output_type": "execute_result"
    }
   ],
   "source": [
    "data[:3]"
   ]
  },
  {
   "cell_type": "markdown",
   "metadata": {
    "colab_type": "text",
    "id": "HwjDg1uM1pqe"
   },
   "source": [
    "### Part (e) One-Hot Encoding [2 pt]\n",
    "\n",
    "The dataframe `data` contains the cleaned and normalized data that we will use to train our denoising autoencoder.\n",
    "\n",
    "How many **columns** (features) are in the dataframe `data`?\n",
    "\n",
    "Briefly explain where that number come from."
   ]
  },
  {
   "cell_type": "code",
   "execution_count": 23,
   "metadata": {
    "colab": {},
    "colab_type": "code",
    "collapsed": true,
    "id": "yjZ5N0Tl1pqf",
    "jupyter": {
     "outputs_hidden": true
    }
   },
   "outputs": [
    {
     "name": "stdout",
     "output_type": "stream",
     "text": [
      "Number of columns (features) in the dataframe 'data': 57\n"
     ]
    },
    {
     "data": {
      "text/plain": [
       "'The total number of columns consists of continous features\\nand categorical features (one-hot encoded). There are 5 \\ncontinous featuers among age, yredu, capgain, etc.\\nand (presumably) 52 categorical featuresd istributed among \\nwork, marriage, occupation, etc.'"
      ]
     },
     "execution_count": 23,
     "metadata": {},
     "output_type": "execute_result"
    }
   ],
   "source": [
    "data = df_not_missing_ecoded\n",
    "num_columns = data.shape[1]\n",
    "\n",
    "print(f\"Number of columns (features) in the dataframe 'data': {num_columns}\")\n",
    "\n",
    "'''The total number of columns consists of continous features\n",
    "and categorical features (one-hot encoded). There are 5 \n",
    "continous featuers among age, yredu, capgain, etc.\n",
    "and (presumably) 52 categorical featuresd istributed among \n",
    "work, marriage, occupation, etc.'''"
   ]
  },
  {
   "cell_type": "markdown",
   "metadata": {
    "colab_type": "text",
    "id": "OEJ0Ci3l1pqh"
   },
   "source": [
    "### Part (f) One-Hot Conversion [3 pt]\n",
    "\n",
    "We will convert the pandas data frame `data` into numpy, so that\n",
    "it can be further converted into a PyTorch tensor.\n",
    "However, in doing so, we lose the column label information that\n",
    "a panda data frame automatically stores.\n",
    "\n",
    "Complete the function `get_categorical_value` that will return\n",
    "the named value of a feature given a one-hot embedding.\n",
    "You may find the global variables `cat_index` and `cat_values`\n",
    "useful. (Display them and figure out what they are first.)\n",
    "\n",
    "We will need this function in the next part of the lab\n",
    "to interpret our autoencoder outputs. So, the input\n",
    "to our function `get_categorical_values` might not \n",
    "actually be \"one-hot\" -- the input may instead \n",
    "contain real-valued predictions from our neural network."
   ]
  },
  {
   "cell_type": "code",
   "execution_count": 24,
   "metadata": {
    "colab": {},
    "colab_type": "code",
    "collapsed": true,
    "id": "ZmovX6gu1pqi",
    "jupyter": {
     "outputs_hidden": true
    }
   },
   "outputs": [],
   "source": [
    "datanp = data.values.astype(np.float32)"
   ]
  },
  {
   "cell_type": "code",
   "execution_count": 25,
   "metadata": {
    "colab": {},
    "colab_type": "code",
    "collapsed": true,
    "id": "YRIa5MBd1pql",
    "jupyter": {
     "outputs_hidden": true
    }
   },
   "outputs": [],
   "source": [
    "cat_index = {}  # Mapping of feature -> start index of feature in a record\n",
    "cat_values = {} # Mapping of feature -> list of categorical values the feature can take\n",
    "\n",
    "# build up the cat_index and cat_values dictionary\n",
    "for i, header in enumerate(data.keys()):\n",
    "    if \"_\" in header: # categorical header\n",
    "        feature, value = header.split()\n",
    "        feature = feature[:-1] # remove the last char; it is always an underscore\n",
    "        if feature not in cat_index:\n",
    "            cat_index[feature] = i\n",
    "            cat_values[feature] = [value]\n",
    "        else:\n",
    "            cat_values[feature].append(value)\n",
    "\n",
    "def get_onehot(record, feature):\n",
    "    \"\"\"\n",
    "    Return the portion of `record` that is the one-hot encoding\n",
    "    of `feature`. For example, since the feature \"work\" is stored\n",
    "    in the indices [5:12] in each record, calling `get_range(record, \"work\")`\n",
    "    is equivalent to accessing `record[5:12]`.\n",
    "    \n",
    "    Args:\n",
    "        - record: a numpy array representing one record, formatted\n",
    "                  the same way as a row in `data.np`\n",
    "        - feature: a string, should be an element of `catcols`\n",
    "    \"\"\"\n",
    "    start_index = cat_index[feature]\n",
    "    stop_index = cat_index[feature] + len(cat_values[feature])\n",
    "    return record[start_index:stop_index]\n",
    "\n",
    "def get_categorical_value(onehot, feature):\n",
    "    \"\"\"\n",
    "    Return the categorical value name of a feature given\n",
    "    a one-hot vector representing the feature.\n",
    "    \n",
    "    Args:\n",
    "        - onehot: a numpy array one-hot representation of the feature\n",
    "        - feature: a string, should be an element of `catcols`\n",
    "        \n",
    "    Examples:\n",
    "    \n",
    "    >>> get_categorical_value(np.array([0., 0., 0., 0., 0., 1., 0.]), \"work\")\n",
    "    'State-gov'\n",
    "    >>> get_categorical_value(np.array([0.1, 0., 1.1, 0.2, 0., 1., 0.]), \"work\")\n",
    "    'Private'\n",
    "    \"\"\"\n",
    "    # <----- TODO: WRITE YOUR CODE HERE ----->\n",
    "    # You may find the variables `cat_index` and `cat_values` \n",
    "    # (created above) useful.\n",
    "    max_index = np.argmax(onehot)\n",
    "    return cat_values[feature][max_index]"
   ]
  },
  {
   "cell_type": "code",
   "execution_count": 26,
   "metadata": {},
   "outputs": [
    {
     "name": "stdout",
     "output_type": "stream",
     "text": [
      "Example record's 'work' feature one-hot encoding: [0. 0. 0. 0. 0. 1. 0.]\n",
      "Example records's 'work' feature categorical value: State-gov\n"
     ]
    }
   ],
   "source": [
    "#example\n",
    "example_record = datanp[0]\n",
    "example_onehot_work = get_onehot(example_record, \"work\")\n",
    "example_categorical_value = get_categorical_value(example_onehot_work,\n",
    "                                                  \"work\")\n",
    "print(f\"Example record's 'work' feature one-hot encoding: {example_onehot_work}\")\n",
    "print(f\"Example records's 'work' feature categorical value: {example_categorical_value}\")"
   ]
  },
  {
   "cell_type": "code",
   "execution_count": 27,
   "metadata": {
    "colab": {},
    "colab_type": "code",
    "collapsed": true,
    "id": "T_XXxZdh1pqv",
    "jupyter": {
     "outputs_hidden": true
    }
   },
   "outputs": [],
   "source": [
    "# more useful code, used during training, that depends on the function\n",
    "# you write above\n",
    "\n",
    "def get_feature(record, feature):\n",
    "    \"\"\"\n",
    "    Return the categorical feature value of a record\n",
    "    \"\"\"\n",
    "    onehot = get_onehot(record, feature)\n",
    "    return get_categorical_value(onehot, feature)\n",
    "\n",
    "def get_features(record):\n",
    "    \"\"\"\n",
    "    Return a dictionary of all categorical feature values of a record\n",
    "    \"\"\"\n",
    "    return { f: get_feature(record, f) for f in catcols }"
   ]
  },
  {
   "cell_type": "code",
   "execution_count": 28,
   "metadata": {},
   "outputs": [
    {
     "name": "stdout",
     "output_type": "stream",
     "text": [
      "Example record's categorical features: {'work': 'State-gov', 'marriage': 'Never-married', 'occupation': 'Adm-clerical', 'edu': 'Bachelors', 'relationship': 'Not-in-family', 'sex': 'Male'}\n"
     ]
    }
   ],
   "source": [
    "#Example\n",
    "example_categorical_features = get_features(example_record)\n",
    "print(f\"Example record's categorical features: {example_categorical_features}\")"
   ]
  },
  {
   "cell_type": "markdown",
   "metadata": {
    "colab_type": "text",
    "id": "1_5ZZR_J1pqy"
   },
   "source": [
    "### Part (g) Train/Test Split [3 pt]\n",
    "\n",
    "Randomly split the data into approximately 70% training, 15% validation and 15% test.\n",
    "\n",
    "Report the number of items in your training, validation, and test set."
   ]
  },
  {
   "cell_type": "code",
   "execution_count": 29,
   "metadata": {
    "colab": {},
    "colab_type": "code",
    "collapsed": true,
    "id": "TE_fTJJf1pqz",
    "jupyter": {
     "outputs_hidden": true
    }
   },
   "outputs": [
    {
     "name": "stdout",
     "output_type": "stream",
     "text": [
      "Number of items in the training set: 21502\n",
      "Number of items in the validation set: 4608\n",
      "Number of items in the test set: 4608\n"
     ]
    }
   ],
   "source": [
    "# set the numpy seed for reproducibility\n",
    "# https://docs.scipy.org/doc/numpy/reference/generated/numpy.random.seed.html\n",
    "np.random.seed(50)\n",
    "\n",
    "# todo\n",
    "num_records = datanp.shape[0]\n",
    "indices = np.arange(num_records)\n",
    "np.random.shuffle(indices)\n",
    "\n",
    "train_end = int(0.70 * num_records)\n",
    "val_end = int(0.85 * num_records)\n",
    "\n",
    "#Split\n",
    "train_ind = indices[:train_end]\n",
    "val_ind = indices[train_end:val_end]\n",
    "test_ind = indices[val_end:]\n",
    "\n",
    "#Create sets\n",
    "train_set = datanp[train_ind]\n",
    "val_set = datanp[val_ind]\n",
    "test_set = datanp[test_ind]\n",
    "\n",
    "num_train = train_set.shape[0]\n",
    "num_val = val_set.shape[0]\n",
    "num_test = test_set.shape[0]\n",
    "\n",
    "print(f\"Number of items in the training set: {num_train}\")\n",
    "print(f\"Number of items in the validation set: {num_val}\")\n",
    "print(f\"Number of items in the test set: {num_test}\")"
   ]
  },
  {
   "cell_type": "markdown",
   "metadata": {
    "colab_type": "text",
    "id": "h9wJAKOI1pq3"
   },
   "source": [
    "## Part 2. Model Setup [5 pt]\n",
    "\n",
    "### Part (a) [4 pt]\n",
    "\n",
    "Design a fully-connected autoencoder by modifying the `encoder` and `decoder`\n",
    "below.\n",
    "\n",
    "The input to this autoencoder will be the features of the `data`, with\n",
    "one categorical feature recorded as \"missing\". The output of the autoencoder\n",
    "should be the reconstruction of the same features, but with the missing\n",
    "value filled in.\n",
    "\n",
    "**Note**: Do not reduce the dimensionality of the input too much!\n",
    "The output of your embedding is expected to contain information \n",
    "about ~11 features."
   ]
  },
  {
   "cell_type": "code",
   "execution_count": 30,
   "metadata": {
    "colab": {},
    "colab_type": "code",
    "collapsed": true,
    "id": "f3F--tdn1pq3",
    "jupyter": {
     "outputs_hidden": true
    }
   },
   "outputs": [],
   "source": [
    "from torch import nn\n",
    "\n",
    "class AutoEncoder(nn.Module):\n",
    "    def __init__(self):\n",
    "        super(AutoEncoder, self).__init__()\n",
    "        self.encoder = nn.Sequential(\n",
    "            nn.Linear(57, 40), # TODO -- FILL OUT THE CODE HERE!\n",
    "            nn.ReLU(),\n",
    "            nn.Linear(40, 20),\n",
    "            nn.ReLU(),\n",
    "            nn.Linear(20, 11)\n",
    "        )\n",
    "        self.decoder = nn.Sequential(\n",
    "            nn.Linear(11, 20), # TODO -- FILL OUT THE CODE HERE!\n",
    "            nn.ReLU(),\n",
    "            nn.Linear(20,40),\n",
    "            nn.ReLU(),\n",
    "            nn.Linear(40,57),\n",
    "            nn.Sigmoid() # get to the range (0, 1)\n",
    "        )\n",
    "\n",
    "    def forward(self, x):\n",
    "        x = self.encoder(x)\n",
    "        x = self.decoder(x)\n",
    "        return x"
   ]
  },
  {
   "cell_type": "markdown",
   "metadata": {
    "colab_type": "text",
    "id": "kuEzTSAv1pq6"
   },
   "source": [
    "### Part (b) [1 pt]\n",
    "\n",
    "Explain why there is a sigmoid activation in the last step of the decoder.\n",
    "\n",
    "(**Note**: the values inside the data frame `data` and the training code in Part 3 might be helpful.)"
   ]
  },
  {
   "cell_type": "markdown",
   "metadata": {},
   "source": [
    "The sigmoid activation is used in the last step of the decoder since, firstly, it maps any input value to a range between 0 and 1, ensuring that the reconstructed values follow this contraint. Secondly, it's importatnt to maintain consistency between the input data distribution and the output data distribution, achieving more accurate reconstructions and stabilizing the training process. Lastly, it helps in keeping the gradient values in reasonble range during backpropagation, helping maintain a stable gradient flow which is beneficial for training deep neural networks like autoencoders."
   ]
  },
  {
   "cell_type": "markdown",
   "metadata": {
    "colab_type": "text",
    "id": "jYwqFWVl1pq8"
   },
   "source": [
    "## Part 3. Training [18] \n",
    "\n",
    "### Part (a) [6 pt]\n",
    "\n",
    "We will train our autoencoder in the following way:\n",
    "\n",
    "- In each iteration, we will hide one of the categorical features using the `zero_out_random_features` function\n",
    "- We will pass the data with one missing feature through the autoencoder, and obtain a reconstruction\n",
    "- We will check how close the reconstruction is compared to the original data -- including the value of the missing feature\n",
    "\n",
    "Complete the code to train the autoencoder, and plot the training and validation loss every few iterations.\n",
    "You may also want to plot training and validation \"accuracy\" every few iterations, as we will define in\n",
    "part (b). You may also want to checkpoint your model every few iterations or epochs.\n",
    "\n",
    "Use `nn.MSELoss()` as your loss function. (Side note: you might recognize that this loss function is not\n",
    "ideal for this problem, but we will use it anyway.)"
   ]
  },
  {
   "cell_type": "code",
   "execution_count": 2,
   "metadata": {},
   "outputs": [],
   "source": [
    "import torch\n",
    "from torch import nn, optim\n",
    "from torch.utils.data import DataLoader, TensorDataset\n",
    "import numpy as np\n",
    "import matplotlib.pyplot as plt\n",
    "import random"
   ]
  },
  {
   "cell_type": "code",
   "execution_count": 31,
   "metadata": {},
   "outputs": [],
   "source": [
    "#convert to a PyTorch tensor\n",
    "data_tensor = torch.tensor(datanp)\n",
    "train_set = data_tensor[train_ind]\n",
    "val_set = data_tensor[val_ind]\n",
    "test_set = data_tensor[test_ind]\n",
    "\n",
    "#create dataloader\n",
    "batch_size = 64\n",
    "train_loader = DataLoader(TensorDataset(train_set), \n",
    "                          batch_size=batch_size, \n",
    "                          shuffle=True)\n",
    "val_loader = DataLoader(TensorDataset(val_set), \n",
    "                        batch_size=batch_size,\n",
    "                        shuffle=False)"
   ]
  },
  {
   "cell_type": "code",
   "execution_count": 32,
   "metadata": {
    "colab": {},
    "colab_type": "code",
    "collapsed": true,
    "id": "IDQA_-dS1pq9",
    "jupyter": {
     "outputs_hidden": true
    }
   },
   "outputs": [],
   "source": [
    "def zero_out_feature(records, feature):\n",
    "    \"\"\" Set the feature missing in records, by setting the appropriate\n",
    "    columns of records to 0\n",
    "    \"\"\"\n",
    "    start_index = cat_index[feature]\n",
    "    stop_index = cat_index[feature] + len(cat_values[feature])\n",
    "    records[:, start_index:stop_index] = 0\n",
    "    return records\n",
    "\n",
    "def zero_out_random_feature(records):\n",
    "    \"\"\" Set one random feature missing in records, by setting the \n",
    "    appropriate columns of records to 0\n",
    "    \"\"\"\n",
    "    return zero_out_feature(records, random.choice(catcols))\n",
    "\n",
    "def get_accuracy(model, data_loader):\n",
    "    total = 0\n",
    "    acc = 0\n",
    "    for col in catcols:\n",
    "        for item in data_loader: # minibatches\n",
    "            data = item[0]\n",
    "            inp = data.detach().numpy()\n",
    "            out = model(zero_out_feature(data.clone(), col)).detach().numpy()\n",
    "            for i in range(out.shape[0]): # record in minibatch\n",
    "                acc += int(get_feature(out[i], col) == get_feature(inp[i], col))\n",
    "                total += 1\n",
    "    return acc / total"
   ]
  },
  {
   "cell_type": "code",
   "execution_count": 33,
   "metadata": {},
   "outputs": [],
   "source": [
    "# Training function with accuracy calculation\n",
    "def train(model, train_loader, val_loader, num_epochs=20, learning_rate=1e-4):\n",
    "    torch.manual_seed(42)\n",
    "    criterion = nn.MSELoss()\n",
    "    optimizer = torch.optim.Adam(model.parameters(), lr=learning_rate)\n",
    "    \n",
    "    train_losses = []\n",
    "    val_losses = []\n",
    "    train_accuracies = []\n",
    "    val_accuracies = []\n",
    "    \n",
    "    for epoch in range(num_epochs):\n",
    "        model.train()\n",
    "        train_loss = 0\n",
    "        for data in train_loader:\n",
    "            data = data[0]\n",
    "            datam = zero_out_random_feature(data.clone()) # zero out one categorical feature\n",
    "            recon = model(datam)\n",
    "            loss = criterion(recon, data)\n",
    "            loss.backward()\n",
    "            optimizer.step()\n",
    "            optimizer.zero_grad()\n",
    "            train_loss += loss.item()\n",
    "        \n",
    "        train_loss /= len(train_loader)\n",
    "        train_losses.append(train_loss)\n",
    "        \n",
    "        model.eval()\n",
    "        val_loss = 0\n",
    "        with torch.no_grad():\n",
    "            for data in val_loader:\n",
    "                data = data[0]\n",
    "                datam = zero_out_random_feature(data.clone())\n",
    "                recon = model(datam)\n",
    "                loss = criterion(recon, data)\n",
    "                val_loss += loss.item()\n",
    "        \n",
    "        val_loss /= len(val_loader)\n",
    "        val_losses.append(val_loss)\n",
    "        \n",
    "        train_accuracy = get_accuracy(model, train_loader)\n",
    "        val_accuracy = get_accuracy(model, val_loader)\n",
    "        train_accuracies.append(train_accuracy)\n",
    "        val_accuracies.append(val_accuracy)\n",
    "        \n",
    "        print(f'Epoch {epoch+1}/{num_epochs}, Train Loss: {train_loss:.4f}, Validation Loss: {val_loss:.4f}, Train Accuracy: {train_accuracy:.4f}, Validation Accuracy: {val_accuracy:.4f}')\n",
    "        \n",
    "        # Checkpoint the model\n",
    "        torch.save(model.state_dict(), f'autoencoder_epoch_{epoch+1}.pth')\n",
    "    \n",
    "    # Plotting the losses and accuracies\n",
    "    plt.figure(figsize=(12, 5))\n",
    "    plt.subplot(1, 2, 1)\n",
    "    plt.plot(range(1, num_epochs+1), train_losses, label='Training Loss')\n",
    "    plt.plot(range(1, num_epochs+1), val_losses, label='Validation Loss')\n",
    "    plt.xlabel('Epochs')\n",
    "    plt.ylabel('Loss')\n",
    "    plt.legend()\n",
    "    \n",
    "    plt.subplot(1, 2, 2)\n",
    "    plt.plot(range(1, num_epochs+1), train_accuracies, label='Training Accuracy')\n",
    "    plt.plot(range(1, num_epochs+1), val_accuracies, label='Validation Accuracy')\n",
    "    plt.xlabel('Epochs')\n",
    "    plt.ylabel('Accuracy')\n",
    "    plt.legend()\n",
    "    \n",
    "    plt.show()"
   ]
  },
  {
   "cell_type": "markdown",
   "metadata": {
    "colab_type": "text",
    "id": "WKk01pwx1pq_"
   },
   "source": [
    "### Part (b) [3 pt]\n",
    "\n",
    "While plotting training and validation loss is valuable, loss values are harder to compare\n",
    "than accuracy percentages. It would be nice to have a measure of \"accuracy\" in this problem.\n",
    "\n",
    "Since we will only be imputing missing categorical values, we will define an accuracy measure.\n",
    "For each record and for each categorical feature, we determine whether\n",
    "the model can predict the categorical feature given all the other features of the record.\n",
    "\n",
    "A function `get_accuracy` is written for you. It is up to you to figure out how to\n",
    "use the function. **You don't need to submit anything in this part.**\n",
    "To earn the marks, correctly plot the training and validation accuracy every few \n",
    "iterations as part of your training curve."
   ]
  },
  {
   "cell_type": "code",
   "execution_count": 49,
   "metadata": {
    "colab": {},
    "colab_type": "code",
    "collapsed": true,
    "id": "bHWLfCzM1pq_",
    "jupyter": {
     "outputs_hidden": true
    }
   },
   "outputs": [],
   "source": [
    "def get_accuracy(model, data_loader):\n",
    "    \"\"\"Return the \"accuracy\" of the autoencoder model across a data set.\n",
    "    That is, for each record and for each categorical feature, \n",
    "    we determine whether the model can successfully predict the value\n",
    "    of the categorical feature given all the other features of the \n",
    "    record. The returned \"accuracy\" measure is the percentage of times \n",
    "    that our model is successful.\n",
    "        \n",
    "    Args:\n",
    "       - model: the autoencoder model, an instance of nn.Module\n",
    "       - data_loader: an instance of torch.utils.data.DataLoader\n",
    "\n",
    "    Example (to illustrate how get_accuracy is intended to be called.\n",
    "             Depending on your variable naming this code might require\n",
    "             modification.)\n",
    "\n",
    "        >>> model = AutoEncoder()\n",
    "        >>> vdl = torch.utils.data.DataLoader(data_valid, batch_size=256, shuffle=True)\n",
    "        >>> get_accuracy(model, vdl)\n",
    "    \"\"\"\n",
    "    total = 0\n",
    "    acc = 0\n",
    "    for col in catcols:\n",
    "        for item in data_loader: # minibatches\n",
    "            data = item[0]\n",
    "            inp = data.detach().numpy()\n",
    "            out = model(zero_out_feature(data.clone(), col)).detach().numpy()\n",
    "            for i in range(out.shape[0]): # record in minibatch\n",
    "                acc += int(get_feature(out[i], col) == get_feature(inp[i], col))\n",
    "                total += 1\n",
    "    return acc / total"
   ]
  },
  {
   "cell_type": "markdown",
   "metadata": {
    "colab_type": "text",
    "id": "SxCTlXoV1prB"
   },
   "source": [
    "### Part (c) [4 pt]\n",
    "\n",
    "Run your updated training code, using reasonable initial hyperparameters.\n",
    "\n",
    "Include your training curve in your submission."
   ]
  },
  {
   "cell_type": "code",
   "execution_count": 55,
   "metadata": {
    "colab": {},
    "colab_type": "code",
    "collapsed": true,
    "id": "nj5b71l-1prC",
    "jupyter": {
     "outputs_hidden": true
    }
   },
   "outputs": [
    {
     "name": "stdout",
     "output_type": "stream",
     "text": [
      "Epoch 1/20, Train Loss: 0.2183, Validation Loss: 0.1407, Train Accuracy: 0.3853, Validation Accuracy: 0.3843\n",
      "Epoch 2/20, Train Loss: 0.0811, Validation Loss: 0.0713, Train Accuracy: 0.4598, Validation Accuracy: 0.4586\n",
      "Epoch 3/20, Train Loss: 0.0707, Validation Loss: 0.0702, Train Accuracy: 0.4598, Validation Accuracy: 0.4586\n",
      "Epoch 4/20, Train Loss: 0.0698, Validation Loss: 0.0695, Train Accuracy: 0.4598, Validation Accuracy: 0.4586\n",
      "Epoch 5/20, Train Loss: 0.0690, Validation Loss: 0.0684, Train Accuracy: 0.4598, Validation Accuracy: 0.4586\n",
      "Epoch 6/20, Train Loss: 0.0678, Validation Loss: 0.0669, Train Accuracy: 0.4598, Validation Accuracy: 0.4586\n",
      "Epoch 7/20, Train Loss: 0.0656, Validation Loss: 0.0637, Train Accuracy: 0.4892, Validation Accuracy: 0.4882\n",
      "Epoch 8/20, Train Loss: 0.0612, Validation Loss: 0.0585, Train Accuracy: 0.5222, Validation Accuracy: 0.5219\n",
      "Epoch 9/20, Train Loss: 0.0572, Validation Loss: 0.0558, Train Accuracy: 0.5414, Validation Accuracy: 0.5434\n",
      "Epoch 10/20, Train Loss: 0.0556, Validation Loss: 0.0551, Train Accuracy: 0.5537, Validation Accuracy: 0.5547\n",
      "Epoch 11/20, Train Loss: 0.0548, Validation Loss: 0.0548, Train Accuracy: 0.5635, Validation Accuracy: 0.5651\n",
      "Epoch 12/20, Train Loss: 0.0544, Validation Loss: 0.0542, Train Accuracy: 0.5651, Validation Accuracy: 0.5664\n",
      "Epoch 13/20, Train Loss: 0.0539, Validation Loss: 0.0535, Train Accuracy: 0.5679, Validation Accuracy: 0.5690\n",
      "Epoch 14/20, Train Loss: 0.0534, Validation Loss: 0.0529, Train Accuracy: 0.5700, Validation Accuracy: 0.5703\n",
      "Epoch 15/20, Train Loss: 0.0529, Validation Loss: 0.0527, Train Accuracy: 0.5706, Validation Accuracy: 0.5712\n",
      "Epoch 16/20, Train Loss: 0.0522, Validation Loss: 0.0510, Train Accuracy: 0.5748, Validation Accuracy: 0.5747\n",
      "Epoch 17/20, Train Loss: 0.0502, Validation Loss: 0.0489, Train Accuracy: 0.5722, Validation Accuracy: 0.5748\n",
      "Epoch 18/20, Train Loss: 0.0482, Validation Loss: 0.0473, Train Accuracy: 0.5694, Validation Accuracy: 0.5709\n",
      "Epoch 19/20, Train Loss: 0.0470, Validation Loss: 0.0464, Train Accuracy: 0.5743, Validation Accuracy: 0.5752\n",
      "Epoch 20/20, Train Loss: 0.0466, Validation Loss: 0.0460, Train Accuracy: 0.5770, Validation Accuracy: 0.5780\n"
     ]
    },
    {
     "data": {
      "image/png": "[encoded data removed]",
      "text/plain": [
       "<Figure size 1200x500 with 2 Axes>"
      ]
     },
     "metadata": {},
     "output_type": "display_data"
    }
   ],
   "source": [
    "model = AutoEncoder()\n",
    "train(model, train_loader, val_loader, num_epochs=20, learning_rate=1e-4)"
   ]
  },
  {
   "cell_type": "markdown",
   "metadata": {
    "colab_type": "text",
    "id": "h9xTwIf51prF"
   },
   "source": [
    "### Part (d) [5 pt]\n",
    "\n",
    "Tune your hyperparameters, training at least 4 different models (4 sets of hyperparameters).\n",
    "\n",
    "Do not include all your training curves. Instead, explain what hyperparameters\n",
    "you tried, what their effect was, and what your thought process was as you \n",
    "chose the next set of hyperparameters to try."
   ]
  },
  {
   "cell_type": "code",
   "execution_count": 36,
   "metadata": {},
   "outputs": [],
   "source": [
    "from torch import nn\n",
    "\n",
    "# Define the custom AutoEncoder class with tunable hyperparameters\n",
    "class customAutoEncoder(nn.Module):\n",
    "    def __init__(self, input_dim=57, \n",
    "                 hidden_dims_encoder=[40, 20, 11], \n",
    "                 hidden_dims_decoder=[20, 40, 57]):\n",
    "        super(customAutoEncoder, self).__init__()\n",
    "        # Build the encoder\n",
    "        encoder_layers = []\n",
    "        prev_dim = input_dim\n",
    "        for hidden_dim in hidden_dims_encoder:\n",
    "            encoder_layers.append(nn.Linear(prev_dim, hidden_dim))\n",
    "            encoder_layers.append(nn.ReLU())\n",
    "            prev_dim = hidden_dim\n",
    "        self.encoder = nn.Sequential(*encoder_layers)\n",
    "\n",
    "        # Build the decoder\n",
    "        decoder_layers = []\n",
    "        prev_dim = hidden_dims_encoder[-1]\n",
    "        for hidden_dim in hidden_dims_decoder:\n",
    "            decoder_layers.append(nn.Linear(prev_dim, hidden_dim))\n",
    "            decoder_layers.append(nn.ReLU())\n",
    "            prev_dim = hidden_dim\n",
    "        decoder_layers[-1] = nn.Sigmoid()  # Replace last ReLU with Sigmoid\n",
    "        self.decoder = nn.Sequential(*decoder_layers)\n",
    "\n",
    "    def forward(self, x):\n",
    "        x = self.encoder(x)\n",
    "        x = self.decoder(x)\n",
    "        return x"
   ]
  },
  {
   "cell_type": "code",
   "execution_count": 37,
   "metadata": {},
   "outputs": [],
   "source": [
    "# Define different sets of hyperparameters to tune\n",
    "input_dims = [57]  # Keeping it consistent for now\n",
    "hidden_dims_encoder = [[40, 20, 11], \n",
    "                       [60, 30, 11]]  # Increased dims encoder\n",
    "hidden_dims_decoder = [[20, 40, 57], \n",
    "                       [30, 60, 57]]  # Increased dims decoder\n",
    "learning_rates = [1e-4, \n",
    "                  1e-3]  # increased learning rates\n",
    "batch_sizes = [64, \n",
    "               32]  # decreased learning rates"
   ]
  },
  {
   "cell_type": "code",
   "execution_count": 45,
   "metadata": {},
   "outputs": [],
   "source": [
    "import os\n",
    "\n",
    "# Hyperparameter tuning function\n",
    "def hyperpara_tuned(model, checkpoint_dir, num_epochs=20, learning_rate=1e-4, batch_size=64):\n",
    "    torch.manual_seed(42)\n",
    "    criterion = nn.MSELoss()\n",
    "    optimizer = torch.optim.Adam(model.parameters(), lr=learning_rate)\n",
    "\n",
    "    train_loader = DataLoader(TensorDataset(train_set), batch_size=batch_size, shuffle=True)\n",
    "    val_loader = DataLoader(TensorDataset(val_set), batch_size=batch_size, shuffle=False)\n",
    "\n",
    "    last_train_loss = float('inf')\n",
    "    last_val_loss = float('inf')\n",
    "    last_train_acc = 0\n",
    "    last_val_acc = 0\n",
    "\n",
    "    #Make sure the checkpoint directory exists\n",
    "    os.makedirs(checkpoint_dir, exist_ok=True)\n",
    "    \n",
    "    for epoch in range(num_epochs):\n",
    "        model.train()\n",
    "        train_loss = 0\n",
    "        for data in train_loader:\n",
    "            data = data[0]\n",
    "            datam = zero_out_random_feature(data.clone())  # zero out one categorical feature\n",
    "            recon = model(datam)\n",
    "            loss = criterion(recon, data)\n",
    "            loss.backward()\n",
    "            optimizer.step()\n",
    "            optimizer.zero_grad()\n",
    "            train_loss += loss.item()\n",
    "        \n",
    "        train_loss /= len(train_loader)\n",
    "        \n",
    "        model.eval()\n",
    "        val_loss = 0\n",
    "        with torch.no_grad():\n",
    "            for data in val_loader:\n",
    "                data = data[0]\n",
    "                datam = zero_out_random_feature(data.clone())\n",
    "                recon = model(datam)\n",
    "                loss = criterion(recon, data)\n",
    "                val_loss += loss.item()\n",
    "        \n",
    "        val_loss /= len(val_loader)\n",
    "        \n",
    "        train_accuracy = get_accuracy(model, train_loader)\n",
    "        val_accuracy = get_accuracy(model, val_loader)\n",
    "\n",
    "        if train_loss < last_train_loss:\n",
    "            last_train_loss = train_loss\n",
    "\n",
    "        if val_loss < last_val_loss:\n",
    "            last_val_loss = val_loss\n",
    "        \n",
    "        if train_accuracy > last_train_acc:\n",
    "            last_train_acc = train_accuracy\n",
    "\n",
    "        if val_accuracy > last_val_acc:\n",
    "            last_val_acc = val_accuracy\n",
    "\n",
    "        # Save the model checkpoint for each epoch\n",
    "        checkpoint_path = os.path.join(checkpoint_dir, f'epoch_{epoch+1}.pth')\n",
    "        torch.save(model.state_dict(), checkpoint_path)\n",
    "\n",
    "    print(f'Train Loss: {last_train_loss:.4f}, Validation Loss: {last_val_loss:.4f}, Train Accuracy: {last_train_acc:.4f}, Validation Accuracy: {last_val_acc:.4f}')"
   ]
  },
  {
   "cell_type": "code",
   "execution_count": 50,
   "metadata": {},
   "outputs": [
    {
     "name": "stdout",
     "output_type": "stream",
     "text": [
      "Training with input_dim=57, enc_dims=[40, 20, 11], dec_dims=[20, 40, 57], lr=0.0001, batch_size=64\n",
      "Train Loss: 0.0499, Validation Loss: 0.0492, Train Accuracy: 0.5837, Validation Accuracy: 0.5826\n",
      "Training with input_dim=57, enc_dims=[40, 20, 11], dec_dims=[20, 40, 57], lr=0.0001, batch_size=32\n",
      "Train Loss: 0.0430, Validation Loss: 0.0428, Train Accuracy: 0.5920, Validation Accuracy: 0.5888\n",
      "Training with input_dim=57, enc_dims=[40, 20, 11], dec_dims=[20, 40, 57], lr=0.001, batch_size=64\n",
      "Train Loss: 0.0275, Validation Loss: 0.0275, Train Accuracy: 0.6218, Validation Accuracy: 0.6162\n",
      "Training with input_dim=57, enc_dims=[40, 20, 11], dec_dims=[20, 40, 57], lr=0.001, batch_size=32\n",
      "Train Loss: 0.0198, Validation Loss: 0.0196, Train Accuracy: 0.6245, Validation Accuracy: 0.6225\n",
      "Training with input_dim=57, enc_dims=[60, 30, 11], dec_dims=[30, 60, 57], lr=0.0001, batch_size=64\n",
      "Train Loss: 0.0410, Validation Loss: 0.0406, Train Accuracy: 0.5923, Validation Accuracy: 0.5936\n",
      "Training with input_dim=57, enc_dims=[60, 30, 11], dec_dims=[30, 60, 57], lr=0.0001, batch_size=32\n",
      "Train Loss: 0.0364, Validation Loss: 0.0365, Train Accuracy: 0.5990, Validation Accuracy: 0.5974\n",
      "Training with input_dim=57, enc_dims=[60, 30, 11], dec_dims=[30, 60, 57], lr=0.001, batch_size=64\n",
      "Train Loss: 0.0184, Validation Loss: 0.0190, Train Accuracy: 0.6302, Validation Accuracy: 0.6250\n",
      "Training with input_dim=57, enc_dims=[60, 30, 11], dec_dims=[30, 60, 57], lr=0.001, batch_size=32\n",
      "Train Loss: 0.0163, Validation Loss: 0.0168, Train Accuracy: 0.6378, Validation Accuracy: 0.6323\n"
     ]
    }
   ],
   "source": [
    "checkpoint_dirs = [f'/Users/harrynguyen/Documents/GitHub/APS360/Labs/4/model1_checkpoint',\n",
    "                  f'/Users/harrynguyen/Documents/GitHub/APS360/Labs/4/model2_checkpoint',\n",
    "                  f'/Users/harrynguyen/Documents/GitHub/APS360/Labs/4/model3_checkpoint',\n",
    "                  f'/Users/harrynguyen/Documents/GitHub/APS360/Labs/4/model4_checkpoint',\n",
    "                  f'/Users/harrynguyen/Documents/GitHub/APS360/Labs/4/model5_checkpoint',\n",
    "                  f'/Users/harrynguyen/Documents/GitHub/APS360/Labs/4/model6_checkpoint',\n",
    "                  f'/Users/harrynguyen/Documents/GitHub/APS360/Labs/4/model7_checkpoint',\n",
    "                  f'/Users/harrynguyen/Documents/GitHub/APS360/Labs/4/model8_checkpoint']\n",
    "\n",
    "# Tuning hyperparameters\n",
    "i = 0\n",
    "for input_dim in input_dims:\n",
    "    for enc_dims, dec_dims in zip(hidden_dims_encoder, hidden_dims_decoder):\n",
    "        for lr in learning_rates:\n",
    "            for batch_size in batch_sizes:\n",
    "                print(f'Training with input_dim={input_dim}, enc_dims={enc_dims}, dec_dims={dec_dims}, lr={lr}, batch_size={batch_size}')\n",
    "                model = customAutoEncoder(input_dim=input_dim, hidden_dims_encoder=enc_dims, hidden_dims_decoder=dec_dims)\n",
    "                hyperpara_tuned(model, checkpoint_dir=checkpoint_dirs[i], num_epochs=20, learning_rate=lr, batch_size=batch_size)\n",
    "                i += 1"
   ]
  },
  {
   "cell_type": "code",
   "execution_count": null,
   "metadata": {},
   "outputs": [],
   "source": [
    "'''\n",
    "Please note that I am aware of making 8 models in total since\n",
    "I am genuinely curious of the connection within a change of each\n",
    "parameter that would lead to my decision on the final pick.\n",
    "'''"
   ]
  },
  {
   "cell_type": "code",
   "execution_count": null,
   "metadata": {},
   "outputs": [],
   "source": [
    "'''\n",
    "Model 1: (original)\n",
    "    - input_dim: 57\n",
    "    - enc_dims = [40, 20, 11]\n",
    "    - dec_dims = [20, 40, 57]\n",
    "    - lr = 0.0001\n",
    "    - batch size = 64\n",
    "--> Train accuracy: 58.37%\n",
    "--> Validation accuracy: 58.26%\n",
    "- This baseline model provides a starting point for comparing \n",
    "the effects of other hyperparameters.\n",
    "\n",
    "Model 2: (Decreased batch size with original config dims and lr)\n",
    "    - input_dim: 57\n",
    "    - enc_dims = [40, 20, 11]\n",
    "    - dec_dims = [20, 40, 57]\n",
    "    - lr = 0.0001\n",
    "    - batch size = 32\n",
    "--> Train accuracy: 59.20%\n",
    "--> validation accuracy: 58.88%\n",
    "- Reducing the batch size resulted in more stable updates and \n",
    "slightly  improved the validation and training accuracy. \n",
    "\n",
    "Model 3: (Increased learning rate with original config dims and batch size)\n",
    "    - input_dim: 57\n",
    "    - enc_dims = [40, 20, 11]\n",
    "    - dec_dims = [20, 40, 57]\n",
    "    - lr = 0.001\n",
    "    - batch size = 64\n",
    "--> Train accuracy: 62.18%\n",
    "--> validation accuracy: 61.62%\n",
    "- A higher learning rate led to faster convergence initially \n",
    "but caused the model to overfit quickly. The observed validation \n",
    "and training accuracy slighty improved. \n",
    "\n",
    "Model 4: (Increased lr and decreased batch size with original config dims)\n",
    "    - input_dim: 57\n",
    "    - enc_dims = [40, 20, 11]\n",
    "    - dec_dims = [20, 40, 57]\n",
    "    - lr = 0.001\n",
    "    - batch size = 32\n",
    "--> Train accuracy: 62.45%\n",
    "--> validation accuracy: 62.25%\n",
    "- Both higher learning rate and lower batch size would inherit the\n",
    "advantage of more stable updates and faster convergence, leading\n",
    "to the most accurate train and validation yet.\n",
    "\n",
    "Model 5: (Increased config dims with original lr and batch size)\n",
    "    - input_dim: 57\n",
    "    - enc_dims = [60, 30, 11]\n",
    "    - dec_dims = [30, 60, 57]\n",
    "    - lr = 0.0001\n",
    "    - batch size = 64\n",
    "--> Train accuracy: 59.23%\n",
    "--> validation accuracy: 59.36%\n",
    "- Increasing the number of hidden units in the encoder and decoder layers \n",
    "improved both training and validation accuracy (compared to model 1)\n",
    "This might be due to the model benefiting from higher capacity, allowing it to \n",
    "better learn and reconstruct the features.\n",
    "\n",
    "Model 6: (Decreased batch size with increased config dims, orignial lr)\n",
    "    - input_dim: 57\n",
    "    - enc_dims = [60, 30, 11]\n",
    "    - dec_dims = [30, 60, 57]\n",
    "    - lr = 0.0001\n",
    "    - batch size = 32\n",
    "--> Train accuracy: 59.90%\n",
    "--> validation accuracy: 59.74%\n",
    "- Decreasing batch size at a higher capacity led to more improved accuracies \n",
    "in both train and validation when comparing to the Model 2. \n",
    "\n",
    "Model 7: (Increased lr with increased config dims, original batch size)\n",
    "    - input_dim: 57\n",
    "    - enc_dims = [60, 30, 11]\n",
    "    - dec_dims = [30, 60, 57]\n",
    "    - lr = 0.001\n",
    "    - batch size = 64\n",
    "--> Train accuracy: 63.02%\n",
    "--> validation accuracy: 62.50%\n",
    "- Increasing learning rate at a higher capacity improved both accuracies \n",
    "with the highest jump yet.\n",
    "\n",
    "Model 8: (Increased lr and config dims with decreased batch size)\n",
    "    - input_dim: 57\n",
    "    - enc_dims = [60, 30, 11]\n",
    "    - dec_dims = [30, 60, 57]\n",
    "    - lr = 0.001\n",
    "    - batch size = 32\n",
    "--> Train accuracy: 63.78%\n",
    "--> validation accuracy: 63.23%\n",
    "- Increasing learning rate and decreaing the batch size at a higher capacity\n",
    "led to the highest train and the second highest validation accuracy.\n",
    "--> **CHOOSE THIS MODEL OF HYPERPARAMETERS** \n",
    "\n",
    "'''"
   ]
  },
  {
   "cell_type": "markdown",
   "metadata": {
    "colab_type": "text",
    "id": "ymCsZH291prI"
   },
   "source": [
    "## Part 4. Testing [12 pt]\n",
    "\n",
    "### Part (a) [2 pt]\n",
    "\n",
    "Compute and report the test accuracy."
   ]
  },
  {
   "cell_type": "code",
   "execution_count": 51,
   "metadata": {
    "colab": {},
    "colab_type": "code",
    "collapsed": true,
    "id": "0OkSbup91prJ",
    "jupyter": {
     "outputs_hidden": true
    }
   },
   "outputs": [
    {
     "name": "stdout",
     "output_type": "stream",
     "text": [
      "Test Accuracy: 0.6284\n"
     ]
    }
   ],
   "source": [
    "# Use the best values from the hyperparameter tuning\n",
    "batch_size = 32\n",
    "test_loader = DataLoader(TensorDataset(test_set), batch_size=batch_size, shuffle=False)\n",
    "\n",
    "best_input_dim = 57\n",
    "best_hidden_dims_encoder = [60, 30, 11]  \n",
    "best_hidden_dims_decoder = [30, 60, 57]\n",
    "best_learning_rate = 1e-3  \n",
    "\n",
    "\n",
    "best_model = customAutoEncoder(input_dim=best_input_dim, hidden_dims_encoder=best_hidden_dims_encoder, hidden_dims_decoder=best_hidden_dims_decoder)\n",
    "best_epoch = '/Users/harrynguyen/Documents/GitHub/APS360/Labs/4/model8_checkpoint/epoch_20.pth'\n",
    "best_model.load_state_dict(torch.load(best_epoch))  # Load the saved model\n",
    "best_model.eval()\n",
    "\n",
    "# Compute test accuracy\n",
    "test_accuracy = get_accuracy(best_model, test_loader)\n",
    "print(f'Test Accuracy: {test_accuracy:.4f}')\n"
   ]
  },
  {
   "cell_type": "markdown",
   "metadata": {
    "colab_type": "text",
    "id": "UEe9yt6L1prM"
   },
   "source": [
    "### Part (b) [4 pt]\n",
    "\n",
    "Based on the test accuracy alone, it is difficult to assess whether our model\n",
    "is actually performing well. We don't know whether a high accuracy is due to\n",
    "the simplicity of the problem, or if a poor accuracy is a result of the inherent\n",
    "difficulty of the problem.\n",
    "\n",
    "It is therefore very important to be able to compare our model to at least one\n",
    "alternative. In particular, we consider a simple **baseline**\n",
    "model that is not very computationally expensive. Our neural network\n",
    "should at least outperform this baseline model. If our network is not much\n",
    "better than the baseline, then it is not doing well.\n",
    "\n",
    "For our data imputation problem, consider the following baseline model:\n",
    "to predict a missing feature, the baseline model will look at the **most common value** of the feature in the training set. \n",
    "\n",
    "For example, if the feature \"marriage\" is missing, then this model's prediction will be the most common value for \"marriage\" in the training set, which happens to be \"Married-civ-spouse\".\n",
    "\n",
    "What would be the test accuracy of this baseline model?\n"
   ]
  },
  {
   "cell_type": "code",
   "execution_count": 81,
   "metadata": {},
   "outputs": [
    {
     "name": "stdout",
     "output_type": "stream",
     "text": [
      "Index(['age', 'yredu', 'capgain', 'caploss', 'workhr', 'work_ Federal-gov',\n",
      "       'work_ Local-gov', 'work_ Private', 'work_ Self-emp-inc',\n",
      "       'work_ Self-emp-not-inc', 'work_ State-gov', 'work_ Without-pay',\n",
      "       'marriage_ Divorced', 'marriage_ Married-AF-spouse',\n",
      "       'marriage_ Married-civ-spouse', 'marriage_ Married-spouse-absent',\n",
      "       'marriage_ Never-married', 'marriage_ Separated', 'marriage_ Widowed',\n",
      "       'occupation_ Adm-clerical', 'occupation_ Armed-Forces',\n",
      "       'occupation_ Craft-repair', 'occupation_ Exec-managerial',\n",
      "       'occupation_ Farming-fishing', 'occupation_ Handlers-cleaners',\n",
      "       'occupation_ Machine-op-inspct', 'occupation_ Other-service',\n",
      "       'occupation_ Priv-house-serv', 'occupation_ Prof-specialty',\n",
      "       'occupation_ Protective-serv', 'occupation_ Sales',\n",
      "       'occupation_ Tech-support', 'occupation_ Transport-moving', 'edu_ 10th',\n",
      "       'edu_ 11th', 'edu_ 12th', 'edu_ 1st-4th', 'edu_ 5th-6th',\n",
      "       'edu_ 7th-8th', 'edu_ 9th', 'edu_ Assoc-acdm', 'edu_ Assoc-voc',\n",
      "       'edu_ Bachelors', 'edu_ Doctorate', 'edu_ HS-grad', 'edu_ Masters',\n",
      "       'edu_ Preschool', 'edu_ Prof-school', 'edu_ Some-college',\n",
      "       'relationship_ Husband', 'relationship_ Not-in-family',\n",
      "       'relationship_ Other-relative', 'relationship_ Own-child',\n",
      "       'relationship_ Unmarried', 'relationship_ Wife', 'sex_ Female',\n",
      "       'sex_ Male'],\n",
      "      dtype='object')\n"
     ]
    }
   ],
   "source": [
    "print(data.columns)"
   ]
  },
  {
   "cell_type": "code",
   "execution_count": 95,
   "metadata": {},
   "outputs": [],
   "source": [
    "# Identify the prefix for each categorical feature\n",
    "catcol_prefixes = {\n",
    "    \"work\": \"work_\",\n",
    "    \"marriage\": \"marriage_\",\n",
    "    \"occupation\": \"occupation_\",\n",
    "    \"edu\": \"edu_\",\n",
    "    \"relationship\": \"relationship_\",\n",
    "    \"sex\": \"sex_\"\n",
    "}\n",
    "\n",
    "# Calculate the most common value for each categorical feature in the training set\n",
    "most_common_values = {}\n",
    "for feature, prefix in catcol_prefixes.items():\n",
    "    feature_cols = [col for col in data.columns if col.startswith(prefix)]\n",
    "    feature_data = data[feature_cols].iloc[train_ind]\n",
    "    most_common_col = feature_data.sum().idxmax()  # Column with the highest sum\n",
    "    most_common_value = most_common_col.replace(prefix, \"\")\n",
    "    most_common_values[feature] = most_common_value"
   ]
  },
  {
   "cell_type": "code",
   "execution_count": 96,
   "metadata": {},
   "outputs": [
    {
     "name": "stdout",
     "output_type": "stream",
     "text": [
      "Most common values for each categorical feature in the training set:\n",
      "{'work': ' Private', 'marriage': ' Married-civ-spouse', 'occupation': ' Prof-specialty', 'edu': ' HS-grad', 'relationship': ' Husband', 'sex': ' Male'}\n"
     ]
    }
   ],
   "source": [
    "print(\"Most common values for each categorical feature in the training set:\")\n",
    "print(most_common_values)"
   ]
  },
  {
   "cell_type": "code",
   "execution_count": 101,
   "metadata": {},
   "outputs": [],
   "source": [
    "# Define function to compute baseline accuracy\n",
    "def baseline_accuracy2(test_set, most_common_values, catcol_prefixes):\n",
    "    correct_predictions = 0\n",
    "    total_predictions = 0\n",
    "    \n",
    "    for feature, prefix in catcol_prefixes.items():\n",
    "        feature_cols = [col for col in data.columns if col.startswith(prefix)]\n",
    "        feature_indices = [data.columns.get_loc(col) for col in feature_cols]\n",
    "        feature_data = test_set[:, feature_indices]\n",
    "        most_common_value = most_common_values[feature]\n",
    "        most_common_col = f\"{prefix}{most_common_value}\"\n",
    "        most_common_index = data.columns.get_loc(most_common_col)\n",
    "        # Check if the most common value is the max value (argmax) in the one-hot encoding\n",
    "        correct_predictions += (feature_data.argmax(axis=1) == (feature_indices.index(most_common_index))).sum().item()\n",
    "        total_predictions += feature_data.shape[0]\n",
    "    \n",
    "    return correct_predictions / total_predictions"
   ]
  },
  {
   "cell_type": "code",
   "execution_count": 102,
   "metadata": {},
   "outputs": [
    {
     "name": "stdout",
     "output_type": "stream",
     "text": [
      "Baseline Test Accuracy: 0.4569\n"
     ]
    }
   ],
   "source": [
    "# Create DataLoader for test set\n",
    "test_loader = DataLoader(TensorDataset(test_set), batch_size=batch_size, shuffle=False)\n",
    "\n",
    "# Calculate the test accuracy of this baseline model\n",
    "baseline_test_accuracy = baseline_accuracy2(data_tensor[test_ind], most_common_values, catcol_prefixes)\n",
    "print(f'Baseline Test Accuracy: {baseline_test_accuracy:.4f}')"
   ]
  },
  {
   "cell_type": "markdown",
   "metadata": {
    "colab_type": "text",
    "id": "QlHu0wxh1prP"
   },
   "source": [
    "### Part (c) [1 pt]\n",
    "\n",
    "How does your test accuracy from part (a) compared to your basline test accuracy in part (b)?"
   ]
  },
  {
   "cell_type": "markdown",
   "metadata": {},
   "source": [
    "The test accuracy from part (a) is 62.84%, which is significantly higher than the baseline test accuracy of 45.69% in part (b). This indicates that the neural network model is performing better than the baseline model, demonstrating its ability to learn and generalize from the data more effectively."
   ]
  },
  {
   "cell_type": "markdown",
   "metadata": {
    "colab_type": "text",
    "id": "DfQPgu1Q1prS"
   },
   "source": [
    "### Part (d) [1 pt]\n",
    "\n",
    "Look at the first item in your test data. \n",
    "Do you think it is reasonable for a human\n",
    "to be able to guess this person's education level\n",
    "based on their other features? Explain."
   ]
  },
  {
   "cell_type": "code",
   "execution_count": 110,
   "metadata": {},
   "outputs": [
    {
     "name": "stdout",
     "output_type": "stream",
     "text": [
      "Original Feature Values of the First Test Item:\n",
      "{'work': ' Private', 'marriage': ' Divorced', 'occupation': ' Prof-specialty', 'edu': ' Bachelors', 'relationship': ' Not-in-family', 'sex': ' Male', 'age': 0.65753424, 'hours_per_week': 0.39795917}\n"
     ]
    },
    {
     "data": {
      "text/plain": [
       "\"\\nBased on the given features, especially the occupation and work class, \\nit is possible for a human to make an educated guess about the person's education level. \\nHowever, without knowing the specific details of the person's educational background, \\nit would still be challenging to make an accurate guess.\\n\""
      ]
     },
     "execution_count": 110,
     "metadata": {},
     "output_type": "execute_result"
    }
   ],
   "source": [
    "import pandas as pd\n",
    "import numpy as np\n",
    "\n",
    "# Convert \n",
    "test_data_df = pd.DataFrame(data_tensor[test_ind].numpy(), columns=data.columns)\n",
    "\n",
    "# Extract \n",
    "first_test_item = test_data_df.iloc[0]\n",
    "\n",
    "# Create a more readable representation \n",
    "def get_original_features(row):\n",
    "    original_features = {}\n",
    "    for feature, prefix in catcol_prefixes.items():\n",
    "        for col in test_data_df.columns:\n",
    "            if col.startswith(prefix) and row[col] == 1:\n",
    "                original_features[feature] = col.replace(prefix, '')\n",
    "                break\n",
    "    return original_features\n",
    "\n",
    "original_first_test_item = get_original_features(first_test_item)\n",
    "original_first_test_item['age'] = first_test_item['age']\n",
    "original_first_test_item['hours_per_week'] = first_test_item['workhr']\n",
    "\n",
    "print(\"Original Feature Values of the First Test Item:\")\n",
    "print(original_first_test_item)\n",
    "\n",
    "# print(\"\\nAnalysis:\")\n",
    "# print(\"Age:\", original_first_test_item['age'])\n",
    "# print(\"Work Class:\", original_first_test_item.get('work', 'Unknown'))\n",
    "# print(\"Marital Status:\", original_first_test_item.get('marriage', 'Unknown'))\n",
    "# print(\"Occupation:\", original_first_test_item.get('occupation', 'Unknown'))\n",
    "# print(\"Relationship:\", original_first_test_item.get('relationship', 'Unknown'))\n",
    "# print(\"Sex:\", original_first_test_item.get('sex', 'Unknown'))\n",
    "# print(\"Hours per Week:\", original_first_test_item['hours_per_week'])\n",
    "# print(\"Native Country:\", original_first_test_item.get('native_country', 'Unknown'))\n",
    "\n",
    "\"\"\"\n",
    "Based on the given features, especially the occupation and work class, \n",
    "it is possible for a human to make an educated guess about the person's \n",
    "education level, assuming level of education is not given. However, \n",
    "without knowing the  specific details of the person's educational \n",
    "background, it would still be challenging to make an accurate guess.\n",
    "\"\"\"\n"
   ]
  },
  {
   "cell_type": "markdown",
   "metadata": {
    "colab_type": "text",
    "id": "p_d5uuAY1prZ"
   },
   "source": [
    "### Part (e) [2 pt]\n",
    "\n",
    "What is your model's prediction of this person's education\n",
    "level, given their other features?\n"
   ]
  },
  {
   "cell_type": "code",
   "execution_count": 52,
   "metadata": {
    "colab": {},
    "colab_type": "code",
    "collapsed": true,
    "id": "kBY5gKXR1pra",
    "jupyter": {
     "outputs_hidden": true
    }
   },
   "outputs": [
    {
     "name": "stdout",
     "output_type": "stream",
     "text": [
      "Model's predicted education level: Bachelors\n"
     ]
    },
    {
     "data": {
      "text/plain": [
       "\"\\nThe model's predicted education level for the first test item is \\nAssociate degree - academic, which is reasonable but incorrect.\\n\""
      ]
     },
     "execution_count": 52,
     "metadata": {},
     "output_type": "execute_result"
    }
   ],
   "source": [
    "# Extract\n",
    "first_test_item_tensor = test_set[0].unsqueeze(0)\n",
    "\n",
    "# Zero out the education feature\n",
    "first_test_item_tensor_zerod = zero_out_feature(first_test_item_tensor.clone(), 'edu')\n",
    "\n",
    "# Pass the modified item \n",
    "best_model.eval()\n",
    "with torch.no_grad():\n",
    "    reconstructed = best_model(first_test_item_tensor_zerod)\n",
    "\n",
    "# Get the one-hot encoded output\n",
    "edu_start_index = cat_index['edu']\n",
    "edu_stop_index = edu_start_index + len(cat_values['edu'])\n",
    "predicted_edu_one_hot = reconstructed[:, edu_start_index:edu_stop_index]\n",
    "\n",
    "predicted_edu_index = predicted_edu_one_hot.argmax(dim=1).item()\n",
    "predicted_edu = list(cat_values['edu'])[predicted_edu_index]\n",
    "\n",
    "print(f\"Model's predicted education level: {predicted_edu}\")\n",
    "\n",
    "'''\n",
    "The model's predicted education level for the first test item is \n",
    "Bachelors, which is correct!\n",
    "'''"
   ]
  },
  {
   "cell_type": "markdown",
   "metadata": {
    "colab_type": "text",
    "id": "fdLNA0ce1prd"
   },
   "source": [
    "### Part (f) [2 pt]\n",
    "\n",
    "What is the baseline model's prediction\n",
    "of this person's education level?"
   ]
  },
  {
   "cell_type": "code",
   "execution_count": 114,
   "metadata": {
    "colab": {},
    "colab_type": "code",
    "collapsed": true,
    "id": "TXgoM9qk1prd",
    "jupyter": {
     "outputs_hidden": true
    }
   },
   "outputs": [
    {
     "name": "stdout",
     "output_type": "stream",
     "text": [
      "Baseline Model's predicted education level: HS-grad\n"
     ]
    }
   ],
   "source": [
    "from collections import Counter\n",
    "\n",
    "# Extract the most common value for the education feature in the training set\n",
    "edu_prefix = 'edu_'\n",
    "edu_cols = [col for col in data.columns if col.startswith(edu_prefix)]\n",
    "edu_counts = data[edu_cols].iloc[train_ind].sum()\n",
    "most_common_edu_col = edu_counts.idxmax()\n",
    "most_common_edu_value = most_common_edu_col.replace(edu_prefix, '').strip()\n",
    "\n",
    "print(f\"Baseline Model's predicted education level: {most_common_edu_value}\")\n",
    "\n",
    "''' \n",
    "This baseline model uses the most common value for the education feature \n",
    "from the training set to predict the education level for any individual \n",
    "in the test set, including the first person in the testing set.\n",
    "HS-grad turned out to be the most common level of education, hence the\n",
    "guess. However, this is not quite accurate as it guesses HS-grad.\n",
    "'''"
   ]
  }
 ],
 "metadata": {
  "colab": {
   "collapsed_sections": [
    "HwjDg1uM1pqe",
    "OEJ0Ci3l1pqh",
    "1_5ZZR_J1pqy",
    "WKk01pwx1pq_",
    "SxCTlXoV1prB",
    "h9xTwIf51prF",
    "UEe9yt6L1prM",
    "QlHu0wxh1prP",
    "DfQPgu1Q1prS",
    "p_d5uuAY1prZ",
    "fdLNA0ce1prd"
   ],
   "name": "Lab 4 - Data Imputation",
   "provenance": []
  },
  "kernelspec": {
   "display_name": "Python 3 (ipykernel)",
   "language": "python",
   "name": "python3"
  },
  "language_info": {
   "codemirror_mode": {
    "name": "ipython",
    "version": 3
   },
   "file_extension": ".py",
   "mimetype": "text/x-python",
   "name": "python",
   "nbconvert_exporter": "python",
   "pygments_lexer": "ipython3",
   "version": "3.12.1"
  }
 },
 "nbformat": 4,
 "nbformat_minor": 4
}
