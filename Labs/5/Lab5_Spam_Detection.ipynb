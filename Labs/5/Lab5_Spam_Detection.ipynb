{
  "cells": [
    {
      "cell_type": "markdown",
      "metadata": {
        "id": "_bphECiUa9zw"
      },
      "source": [
        "# Lab 5: Spam Detection\n",
        "\n",
        "In this assignment, we will build a recurrent neural network to classify a SMS text message\n",
        "as \"spam\" or \"not spam\". In the process, you will\n",
        "    \n",
        "1. Clean and process text data for machine learning.\n",
        "2. Understand and implement a character-level recurrent neural network.\n",
        "3. Use torchtext to build recurrent neural network models.\n",
        "4. Understand batching for a recurrent neural network, and use torchtext to implement RNN batching.\n",
        "\n",
        "### What to submit\n",
        "\n",
        "Submit a PDF file containing all your code, outputs, and write-up. You can produce a PDF of your Google Colab file by going to File > Print and then save as PDF. The Colab instructions have more information.\n",
        "\n",
        "Do not submit any other files produced by your code.\n",
        "\n",
        "Include a link to your colab file in your submission."
      ]
    },
    {
      "cell_type": "markdown",
      "metadata": {
        "id": "rWiUqJJTa9z6"
      },
      "source": [
        "## Colab Link\n",
        "\n",
        "Include a link to your Colab file here. If you would like the TA to look at your\n",
        "Colab file in case your solutions are cut off, **please make sure that your Colab\n",
        "file is publicly accessible at the time of submission**."
      ]
    },
    {
      "cell_type": "markdown",
      "metadata": {
        "id": "sJidE5wYoOGl"
      },
      "source": [
        "Colab Link:"
      ]
    },
    {
      "cell_type": "markdown",
      "metadata": {
        "id": "9UP2mUUPoOGl"
      },
      "source": [
        "As we are using the older version of the torchtext, please run the following to downgrade the torchtext version:"
      ]
    },
    {
      "cell_type": "code",
      "execution_count": 1,
      "metadata": {
        "colab": {
          "base_uri": "https://localhost:8080/"
        },
        "id": "0AQElsB1oOGm",
        "outputId": "5f45d5f1-9e1b-4642-a6e8-e921e658dfec"
      },
      "outputs": [
        {
          "name": "stdout",
          "output_type": "stream",
          "text": [
            "Collecting torchtext==0.6\n",
            "  Downloading torchtext-0.6.0-py3-none-any.whl.metadata (6.3 kB)\n",
            "Requirement already satisfied: tqdm in /usr/local/lib/python3.10/dist-packages (from torchtext==0.6) (4.66.4)\n",
            "Requirement already satisfied: requests in /usr/local/lib/python3.10/dist-packages (from torchtext==0.6) (2.31.0)\n",
            "Requirement already satisfied: torch in /usr/local/lib/python3.10/dist-packages (from torchtext==0.6) (2.3.1+cu121)\n",
            "Requirement already satisfied: numpy in /usr/local/lib/python3.10/dist-packages (from torchtext==0.6) (1.25.2)\n",
            "Requirement already satisfied: six in /usr/local/lib/python3.10/dist-packages (from torchtext==0.6) (1.16.0)\n",
            "Requirement already satisfied: sentencepiece in /usr/local/lib/python3.10/dist-packages (from torchtext==0.6) (0.1.99)\n",
            "Requirement already satisfied: charset-normalizer<4,>=2 in /usr/local/lib/python3.10/dist-packages (from requests->torchtext==0.6) (3.3.2)\n",
            "Requirement already satisfied: idna<4,>=2.5 in /usr/local/lib/python3.10/dist-packages (from requests->torchtext==0.6) (3.7)\n",
            "Requirement already satisfied: urllib3<3,>=1.21.1 in /usr/local/lib/python3.10/dist-packages (from requests->torchtext==0.6) (2.0.7)\n",
            "Requirement already satisfied: certifi>=2017.4.17 in /usr/local/lib/python3.10/dist-packages (from requests->torchtext==0.6) (2024.7.4)\n",
            "Requirement already satisfied: filelock in /usr/local/lib/python3.10/dist-packages (from torch->torchtext==0.6) (3.15.4)\n",
            "Requirement already satisfied: typing-extensions>=4.8.0 in /usr/local/lib/python3.10/dist-packages (from torch->torchtext==0.6) (4.12.2)\n",
            "Requirement already satisfied: sympy in /usr/local/lib/python3.10/dist-packages (from torch->torchtext==0.6) (1.13.1)\n",
            "Requirement already satisfied: networkx in /usr/local/lib/python3.10/dist-packages (from torch->torchtext==0.6) (3.3)\n",
            "Requirement already satisfied: jinja2 in /usr/local/lib/python3.10/dist-packages (from torch->torchtext==0.6) (3.1.4)\n",
            "Requirement already satisfied: fsspec in /usr/local/lib/python3.10/dist-packages (from torch->torchtext==0.6) (2023.6.0)\n",
            "Collecting nvidia-cuda-nvrtc-cu12==12.1.105 (from torch->torchtext==0.6)\n",
            "  Using cached nvidia_cuda_nvrtc_cu12-12.1.105-py3-none-manylinux1_x86_64.whl.metadata (1.5 kB)\n",
            "Collecting nvidia-cuda-runtime-cu12==12.1.105 (from torch->torchtext==0.6)\n",
            "  Using cached nvidia_cuda_runtime_cu12-12.1.105-py3-none-manylinux1_x86_64.whl.metadata (1.5 kB)\n",
            "Collecting nvidia-cuda-cupti-cu12==12.1.105 (from torch->torchtext==0.6)\n",
            "  Using cached nvidia_cuda_cupti_cu12-12.1.105-py3-none-manylinux1_x86_64.whl.metadata (1.6 kB)\n",
            "Collecting nvidia-cudnn-cu12==8.9.2.26 (from torch->torchtext==0.6)\n",
            "  Using cached nvidia_cudnn_cu12-8.9.2.26-py3-none-manylinux1_x86_64.whl.metadata (1.6 kB)\n",
            "Collecting nvidia-cublas-cu12==12.1.3.1 (from torch->torchtext==0.6)\n",
            "  Using cached nvidia_cublas_cu12-12.1.3.1-py3-none-manylinux1_x86_64.whl.metadata (1.5 kB)\n",
            "Collecting nvidia-cufft-cu12==11.0.2.54 (from torch->torchtext==0.6)\n",
            "  Using cached nvidia_cufft_cu12-11.0.2.54-py3-none-manylinux1_x86_64.whl.metadata (1.5 kB)\n",
            "Collecting nvidia-curand-cu12==10.3.2.106 (from torch->torchtext==0.6)\n",
            "  Using cached nvidia_curand_cu12-10.3.2.106-py3-none-manylinux1_x86_64.whl.metadata (1.5 kB)\n",
            "Collecting nvidia-cusolver-cu12==11.4.5.107 (from torch->torchtext==0.6)\n",
            "  Using cached nvidia_cusolver_cu12-11.4.5.107-py3-none-manylinux1_x86_64.whl.metadata (1.6 kB)\n",
            "Collecting nvidia-cusparse-cu12==12.1.0.106 (from torch->torchtext==0.6)\n",
            "  Using cached nvidia_cusparse_cu12-12.1.0.106-py3-none-manylinux1_x86_64.whl.metadata (1.6 kB)\n",
            "Collecting nvidia-nccl-cu12==2.20.5 (from torch->torchtext==0.6)\n",
            "  Using cached nvidia_nccl_cu12-2.20.5-py3-none-manylinux2014_x86_64.whl.metadata (1.8 kB)\n",
            "Collecting nvidia-nvtx-cu12==12.1.105 (from torch->torchtext==0.6)\n",
            "  Using cached nvidia_nvtx_cu12-12.1.105-py3-none-manylinux1_x86_64.whl.metadata (1.7 kB)\n",
            "Requirement already satisfied: triton==2.3.1 in /usr/local/lib/python3.10/dist-packages (from torch->torchtext==0.6) (2.3.1)\n",
            "Collecting nvidia-nvjitlink-cu12 (from nvidia-cusolver-cu12==11.4.5.107->torch->torchtext==0.6)\n",
            "  Downloading nvidia_nvjitlink_cu12-12.5.82-py3-none-manylinux2014_x86_64.whl.metadata (1.5 kB)\n",
            "Requirement already satisfied: MarkupSafe>=2.0 in /usr/local/lib/python3.10/dist-packages (from jinja2->torch->torchtext==0.6) (2.1.5)\n",
            "Requirement already satisfied: mpmath<1.4,>=1.1.0 in /usr/local/lib/python3.10/dist-packages (from sympy->torch->torchtext==0.6) (1.3.0)\n",
            "Downloading torchtext-0.6.0-py3-none-any.whl (64 kB)\n",
            "\u001b[2K   \u001b[90m━━━━━━━━━━━━━━━━━━━━━━━━━━━━━━━━━━━━━━━━\u001b[0m \u001b[32m64.2/64.2 kB\u001b[0m \u001b[31m5.8 MB/s\u001b[0m eta \u001b[36m0:00:00\u001b[0m\n",
            "\u001b[?25hUsing cached nvidia_cublas_cu12-12.1.3.1-py3-none-manylinux1_x86_64.whl (410.6 MB)\n",
            "Using cached nvidia_cuda_cupti_cu12-12.1.105-py3-none-manylinux1_x86_64.whl (14.1 MB)\n",
            "Using cached nvidia_cuda_nvrtc_cu12-12.1.105-py3-none-manylinux1_x86_64.whl (23.7 MB)\n",
            "Using cached nvidia_cuda_runtime_cu12-12.1.105-py3-none-manylinux1_x86_64.whl (823 kB)\n",
            "Using cached nvidia_cudnn_cu12-8.9.2.26-py3-none-manylinux1_x86_64.whl (731.7 MB)\n",
            "Using cached nvidia_cufft_cu12-11.0.2.54-py3-none-manylinux1_x86_64.whl (121.6 MB)\n",
            "Using cached nvidia_curand_cu12-10.3.2.106-py3-none-manylinux1_x86_64.whl (56.5 MB)\n",
            "Using cached nvidia_cusolver_cu12-11.4.5.107-py3-none-manylinux1_x86_64.whl (124.2 MB)\n",
            "Using cached nvidia_cusparse_cu12-12.1.0.106-py3-none-manylinux1_x86_64.whl (196.0 MB)\n",
            "Using cached nvidia_nccl_cu12-2.20.5-py3-none-manylinux2014_x86_64.whl (176.2 MB)\n",
            "Using cached nvidia_nvtx_cu12-12.1.105-py3-none-manylinux1_x86_64.whl (99 kB)\n",
            "Downloading nvidia_nvjitlink_cu12-12.5.82-py3-none-manylinux2014_x86_64.whl (21.3 MB)\n",
            "\u001b[2K   \u001b[90m━━━━━━━━━━━━━━━━━━━━━━━━━━━━━━━━━━━━━━━━\u001b[0m \u001b[32m21.3/21.3 MB\u001b[0m \u001b[31m15.3 MB/s\u001b[0m eta \u001b[36m0:00:00\u001b[0m\n",
            "\u001b[?25hInstalling collected packages: nvidia-nvtx-cu12, nvidia-nvjitlink-cu12, nvidia-nccl-cu12, nvidia-curand-cu12, nvidia-cufft-cu12, nvidia-cuda-runtime-cu12, nvidia-cuda-nvrtc-cu12, nvidia-cuda-cupti-cu12, nvidia-cublas-cu12, nvidia-cusparse-cu12, nvidia-cudnn-cu12, nvidia-cusolver-cu12, torchtext\n",
            "  Attempting uninstall: torchtext\n",
            "    Found existing installation: torchtext 0.18.0\n",
            "    Uninstalling torchtext-0.18.0:\n",
            "      Successfully uninstalled torchtext-0.18.0\n",
            "Successfully installed nvidia-cublas-cu12-12.1.3.1 nvidia-cuda-cupti-cu12-12.1.105 nvidia-cuda-nvrtc-cu12-12.1.105 nvidia-cuda-runtime-cu12-12.1.105 nvidia-cudnn-cu12-8.9.2.26 nvidia-cufft-cu12-11.0.2.54 nvidia-curand-cu12-10.3.2.106 nvidia-cusolver-cu12-11.4.5.107 nvidia-cusparse-cu12-12.1.0.106 nvidia-nccl-cu12-2.20.5 nvidia-nvjitlink-cu12-12.5.82 nvidia-nvtx-cu12-12.1.105 torchtext-0.6.0\n"
          ]
        }
      ],
      "source": [
        "!pip3 install torchtext==0.6"
      ]
    },
    {
      "cell_type": "code",
      "execution_count": 2,
      "metadata": {
        "id": "iJDVY3XNoOGo"
      },
      "outputs": [],
      "source": [
        "import torchtext\n",
        "from torchtext.data import Field, LabelField, TabularDataset"
      ]
    },
    {
      "cell_type": "markdown",
      "metadata": {
        "id": "tHkzpH4toOGo"
      },
      "source": [
        "If you are interested to use the most recent version if torchtext, you can look at the following document to see how to convert the legacy version to the new version:\n",
        "https://colab.research.google.com/github/pytorch/text/blob/master/examples/legacy_tutorial/migration_tutorial.ipynb"
      ]
    },
    {
      "cell_type": "code",
      "execution_count": 3,
      "metadata": {
        "id": "HgfNOUaPa9z8",
        "tags": []
      },
      "outputs": [],
      "source": [
        "import torch\n",
        "import torch.nn as nn\n",
        "import torch.nn.functional as F\n",
        "import torch.optim as optim\n",
        "import numpy as np"
      ]
    },
    {
      "cell_type": "markdown",
      "metadata": {
        "id": "M0jLI9LBa90C"
      },
      "source": [
        "## Part 1. Data Cleaning [15 pt]\n",
        "\n",
        "We will be using the \"SMS Spam Collection Data Set\" available at http://archive.ics.uci.edu/ml/datasets/SMS+Spam+Collection\n",
        "\n",
        "There is a link to download the \"Data Folder\" at the very top of the webpage. Download the zip file, unzip it, and upload the file `SMSSpamCollection` to Colab.    "
      ]
    },
    {
      "cell_type": "markdown",
      "metadata": {
        "id": "sSuF7C_Ga90E"
      },
      "source": [
        "### Part (a) [2 pt]\n",
        "\n",
        "Open up the file in Python, and print out one example of a spam SMS, and one example of a non-spam SMS.\n",
        "\n",
        "What is the label value for a spam message, and what is the label value for a non-spam message?"
      ]
    },
    {
      "cell_type": "code",
      "execution_count": 4,
      "metadata": {
        "colab": {
          "base_uri": "https://localhost:8080/"
        },
        "collapsed": true,
        "id": "I_IfXHeTa90F",
        "jupyter": {
          "outputs_hidden": true
        },
        "outputId": "3067866b-bc8e-4c69-b5a4-e4f7ebda5c34"
      },
      "outputs": [
        {
          "name": "stdout",
          "output_type": "stream",
          "text": [
            "Example of a spam message:\n",
            "spam\tFree entry in 2 a wkly comp to win FA Cup final tkts 21st May 2005. Text FA to 87121 to receive entry question(std txt rate)T&C's apply 08452810075over18's\n",
            "\n",
            "\n",
            "Example of a non-spam message:\n",
            "ham\tOk lar... Joking wif u oni...\n",
            "\n",
            "\n",
            "Label for spam messages: spam\n",
            "Label for non-spam messages: ham\n"
          ]
        }
      ],
      "source": [
        "path = 'SMSSpamCollection'\n",
        "with open(path, 'r', encoding='latin1') as file:\n",
        "    lines = file.readlines()\n",
        "\n",
        "spam_message = None\n",
        "non_spam_message = None\n",
        "\n",
        "for line in lines:\n",
        "    if line.startswith('spam'):\n",
        "        spam_message = line\n",
        "    elif line.startswith('ham'):\n",
        "        non_spam_message = line\n",
        "\n",
        "    if spam_message and non_spam_message:\n",
        "        break\n",
        "\n",
        "print(\"Example of a spam message:\")\n",
        "print(spam_message)\n",
        "\n",
        "print(\"\\nExample of a non-spam message:\")\n",
        "print(non_spam_message)\n",
        "\n",
        "# Determine the label values\n",
        "spam_label = 'spam'\n",
        "non_spam_label = 'ham'\n",
        "\n",
        "print(f\"\\nLabel for spam messages: {spam_label}\")\n",
        "print(f\"Label for non-spam messages: {non_spam_label}\")\n"
      ]
    },
    {
      "cell_type": "markdown",
      "metadata": {
        "id": "AukA6vMVa90d"
      },
      "source": [
        "### Part (b) [1 pt]\n",
        "\n",
        "How many spam messages are there in the data set?\n",
        "How many non-spam messages are there in the data set?\n"
      ]
    },
    {
      "cell_type": "code",
      "execution_count": 5,
      "metadata": {
        "colab": {
          "base_uri": "https://localhost:8080/"
        },
        "collapsed": true,
        "id": "LgsqyemVa90e",
        "jupyter": {
          "outputs_hidden": true
        },
        "outputId": "de4598b9-1d6d-4d9f-8484-c31f24c5cc01"
      },
      "outputs": [
        {
          "name": "stdout",
          "output_type": "stream",
          "text": [
            "Number of spam messages: 747\n",
            "Number of non-spam messages: 4827\n"
          ]
        }
      ],
      "source": [
        "spam_count = 0\n",
        "ham_count = 0\n",
        "\n",
        "# Open the file and count the messages\n",
        "with open(path, 'r', encoding='latin1') as file:\n",
        "    for line in file:\n",
        "        if line.startswith('spam'):\n",
        "            spam_count += 1\n",
        "        elif line.startswith('ham'):\n",
        "            ham_count += 1\n",
        "\n",
        "print(f\"Number of spam messages: {spam_count}\")\n",
        "print(f\"Number of non-spam messages: {ham_count}\")\n"
      ]
    },
    {
      "cell_type": "markdown",
      "metadata": {
        "id": "d1WXxVt6a90h"
      },
      "source": [
        "### Part (c) [4 pt]\n",
        "\n",
        "We will be using the package `torchtext` to load, process, and batch the data.\n",
        "A tutorial to torchtext is available below. This tutorial uses the same\n",
        "Sentiment140 data set that we explored during lecture.\n",
        "\n",
        "https://medium.com/@sonicboom8/sentiment-analysis-torchtext-55fb57b1fab8\n",
        "\n",
        "Unlike what we did during lecture, we will be building a **character level RNN**.\n",
        "That is, we will treat each **character** as a token in our sequence,\n",
        "rather than each **word**.\n",
        "\n",
        "Identify two advantage and two disadvantage of modelling SMS text\n",
        "messages as a sequence of characters rather than a sequence of words."
      ]
    },
    {
      "cell_type": "code",
      "execution_count": 6,
      "metadata": {
        "colab": {
          "base_uri": "https://localhost:8080/",
          "height": 209
        },
        "collapsed": true,
        "id": "Mhnz8Nk-a90i",
        "jupyter": {
          "outputs_hidden": true
        },
        "outputId": "b7132064-fa6b-40b3-dadf-df27fd86c2a5"
      },
      "outputs": [
        {
          "data": {
            "application/vnd.google.colaboratory.intrinsic+json": {
              "type": "string"
            },
            "text/plain": [
              "'\\n- ADVANTAGES:\\n\\n1. Character-level models can handle unknown words and misspellings\\nbetter. Since each character is treated as a token, the \\nmodel can generate embeddings for any sequence of characters This is \\nuseful for SMS text messages, which often contain slang, abbreviations, \\nand misspellings.\\n\\n2. The vocabulary size for a character-level model is much smaller \\nthan that of a word-level model. A character-level vocabulary typically \\nconsists of around 30-100 tokens (including letters, digits, punctuation \\nmarks, and special characters), whereas a word-level vocabulary can \\nconsist of tens of thousands of unique words. This reduction in \\nvocabulary size can lead to faster training times and reduced memory \\nusage.\\n\\n- Disadvantages:\\n\\n1. Character-level sequences are much longer than word-level sequences. \\nFor example, the word \"hello\" is a single token in a word-level model \\nbut is represented as five tokens in a character-level model. This \\nincreased sequence length can lead to higher computational costs and \\nlonger training times, as the model needs to process more tokens for \\neach input sequence.\\n\\n2. Character-level models may struggle to capture higher-level semantic \\ninformation that is more easily captured by word-level models. Words \\ncarry semantic meaning that is not always apparent at the character \\nlevel. For instance, the characters \"c\", \"a\", and \"t\" together form \\nthe word \"cat\", which has a specific meaning, but this meaning is not \\ndirectly evident from the individual characters, requiring more data \\nand training to learn meaningful patterns and relationships in the \\ntext.\\n\\n'"
            ]
          },
          "execution_count": 6,
          "metadata": {},
          "output_type": "execute_result"
        }
      ],
      "source": [
        "'''\n",
        "- Advantages:\n",
        "\n",
        "1. Character-level models detect unknown words and misspellings better.\n",
        "They can generate embeddings for any sequence of characters, useful for SMS\n",
        "texts with slang, abbreviations, and errors.\n",
        "\n",
        "2. Smaller vocabulary size (30-100 tokens) compared to word-level models\n",
        "(tens of thousands), leading to faster training and reduced memory usage.\n",
        "\n",
        "- Disadvantages:\n",
        "\n",
        "1. Longer sequences: Character-level sequences are longer than word-level,\n",
        "increasing computational costs and training time.\n",
        "\n",
        "2. Difficulty in capturing semantics: Character-level models may struggle to\n",
        "capture higher-level semantic information, as words carry meanings not evident\n",
        "from individual characters.\n",
        "'''\n"
      ]
    },
    {
      "cell_type": "markdown",
      "metadata": {
        "id": "ie_D0bv9a90k"
      },
      "source": [
        "### Part (d) [1 pt]\n",
        "\n",
        "We will be loading our data set using `torchtext.data.TabularDataset`. The\n",
        "constructor will read directly from the `SMSSpamCollection` file.\n",
        "\n",
        "For the data file to be read successfuly, we\n",
        "need to specify the **fields** (columns) in the file.\n",
        "In our case, the dataset has two fields:\n",
        "\n",
        "- a text field containing the sms messages,\n",
        "- a label field which will be converted into a binary label.\n",
        "\n",
        "Split the dataset into `train`, `valid`, and `test`. Use a 60-20-20 split.\n",
        "You may find this torchtext API page helpful:\n",
        "https://torchtext.readthedocs.io/en/latest/data.html#dataset\n",
        "\n",
        "Hint: There is a `Dataset` method that can perform the random split for you."
      ]
    },
    {
      "cell_type": "code",
      "execution_count": 39,
      "metadata": {
        "colab": {
          "base_uri": "https://localhost:8080/"
        },
        "id": "AjAjxi_LoOGv",
        "outputId": "89eb90cb-2f7f-419f-a617-7fb556277256"
      },
      "outputs": [
        {
          "name": "stdout",
          "output_type": "stream",
          "text": [
            "Number of training examples: 3343\n",
            "Number of validation examples: 1115\n",
            "Number of test examples: 1114\n"
          ]
        }
      ],
      "source": [
        "import torchtext\n",
        "from torchtext.data import Field, TabularDataset\n",
        "from torchtext.data import Iterator, BucketIterator\n",
        "\n",
        "text_field = Field(sequential=True,\n",
        "             tokenize=list,\n",
        "             include_lengths=False,\n",
        "             batch_first= True,\n",
        "             use_vocab=True)\n",
        "label_field = Field(sequential = False,\n",
        "                   use_vocab = False,\n",
        "                   is_target=True,\n",
        "                   preprocessing=lambda x: int(x == 'spam'),\n",
        "                   dtype=torch.float)\n",
        "\n",
        "fields = [('label', label_field), ('sms', text_field)]\n",
        "\n",
        "# Load the dataset\n",
        "dataset = TabularDataset(\n",
        "    path = path,\n",
        "    format='tsv',\n",
        "    fields=fields\n",
        ")\n",
        "\n",
        "# Split the dataset\n",
        "train_data, valid_data, test_data = dataset.split(split_ratio=[0.6, 0.2, 0.2], stratified=True, strata_field='label')\n",
        "\n",
        "print(f\"Number of training examples: {len(train_data)}\")\n",
        "print(f\"Number of validation examples: {len(valid_data)}\")\n",
        "print(f\"Number of test examples: {len(test_data)}\")"
      ]
    },
    {
      "cell_type": "markdown",
      "metadata": {
        "id": "v6nP0Ks_a90o"
      },
      "source": [
        "### Part (e) [2 pt]\n",
        "\n",
        "You saw in part (b) that there are many more non-spam messages than spam messages.\n",
        "This **imbalance** in our training data will be problematic for training.\n",
        "We can fix this disparity by duplicating spam messages in the training set,\n",
        "so that the training set is roughly **balanced**.\n",
        "\n",
        "Explain why having a balanced training set is helpful for training our neural network.\n",
        "\n",
        "Note: if you are not sure, try removing the below code and train your mode."
      ]
    },
    {
      "cell_type": "code",
      "execution_count": 40,
      "metadata": {
        "colab": {
          "base_uri": "https://localhost:8080/",
          "height": 157
        },
        "collapsed": true,
        "id": "FWvx9_rka90p",
        "jupyter": {
          "outputs_hidden": true
        },
        "outputId": "33e95f7a-28c0-4028-b7bd-e7307e372dee"
      },
      "outputs": [
        {
          "name": "stdout",
          "output_type": "stream",
          "text": [
            "Number of spam messages in training set: 3136\n",
            "Number of non-spam messages in training set: 2895\n"
          ]
        },
        {
          "data": {
            "application/vnd.google.colaboratory.intrinsic+json": {
              "type": "string"
            },
            "text/plain": [
              "'Explanation: \\nIf the training set is imbalanced, the neural network might learn to \\nbe biased towards the majority class (non-spam messages in this case). \\nThis happens because the model gets more examples of the majority class \\nto learn from, leading it to predict the majority class more often, \\neven when the correct prediction should be the minority class (spam messages). \\nTherefore, we want to ensure that the model gets an equal \\nrepresentation of both classes, by balancing the training set.\\n'"
            ]
          },
          "execution_count": 40,
          "metadata": {},
          "output_type": "execute_result"
        }
      ],
      "source": [
        "import random\n",
        "# Save the original training examples\n",
        "old_train_examples = train_data.examples\n",
        "\n",
        "# Get all the spam messages in `train`\n",
        "train_spam = [item for item in train_data.examples if item.label == 1]\n",
        "\n",
        "# Duplicate each spam message 6 more times to balance the dataset\n",
        "balanced_train_examples = old_train_examples + train_spam * 6\n",
        "\n",
        "\n",
        "# Shuffle the examples to ensure they are mixed well\n",
        "random.shuffle(balanced_train_examples)\n",
        "\n",
        "# Create a new dataset with the balanced examples\n",
        "train_data.examples = balanced_train_examples\n",
        "\n",
        "# Verify the new counts\n",
        "spam_count = sum(1 for item in train_data.examples if item.label == 1)\n",
        "ham_count = sum(1 for item in train_data.examples if item.label == 0)\n",
        "\n",
        "print(f\"Number of spam messages in training set: {spam_count}\")\n",
        "print(f\"Number of non-spam messages in training set: {ham_count}\")\n",
        "\n",
        "'''Explanation:\n",
        "An imbalanced training set causes the neural network to\n",
        "be biased towards the majority class.\n",
        "This is because the model learns more from the majority class.\n",
        "This leads it to predict the majority class more often.\n",
        "Therefore, we want the model to have an equal set of both classes.\n",
        "'''\n"
      ]
    },
    {
      "cell_type": "markdown",
      "metadata": {
        "id": "j7eUmBEva90r"
      },
      "source": [
        "### Part (f) [1 pt]\n",
        "\n",
        "We need to build the vocabulary on the training data by running the below code.\n",
        "This finds all the possible character tokens in the training set.\n",
        "\n",
        "Explain what the variables `text_field.vocab.stoi` and `text_field.vocab.itos` represent."
      ]
    },
    {
      "cell_type": "code",
      "execution_count": 41,
      "metadata": {
        "colab": {
          "base_uri": "https://localhost:8080/",
          "height": 212
        },
        "collapsed": true,
        "id": "8CQM8flKa90s",
        "jupyter": {
          "outputs_hidden": true
        },
        "outputId": "ddf84fcc-9a0d-45ad-f6b6-91188aca5d57"
      },
      "outputs": [
        {
          "name": "stdout",
          "output_type": "stream",
          "text": [
            "defaultdict(<bound method Vocab._default_unk_index of <torchtext.vocab.Vocab object at 0x7d7878108b80>>, {'<unk>': 0, '<pad>': 1, ' ': 2, 'e': 3, 'o': 4, 't': 5, 'a': 6, 'n': 7, 'r': 8, 'i': 9, 's': 10, 'l': 11, 'u': 12, '0': 13, 'h': 14, 'd': 15, '.': 16, 'c': 17, 'm': 18, 'y': 19, 'w': 20, 'p': 21, 'g': 22, '1': 23, 'f': 24, '2': 25, 'b': 26, 'T': 27, '8': 28, 'k': 29, 'E': 30, 'v': 31, 'S': 32, '5': 33, 'O': 34, 'I': 35, 'C': 36, '4': 37, 'N': 38, 'A': 39, '7': 40, '3': 41, '6': 42, 'x': 43, 'R': 44, '!': 45, '9': 46, 'P': 47, ',': 48, 'W': 49, 'L': 50, 'M': 51, 'U': 52, 'H': 53, 'D': 54, 'Y': 55, 'G': 56, 'F': 57, 'B': 58, '/': 59, '?': 60, '£': 61, \"'\": 62, '-': 63, '&': 64, ':': 65, 'X': 66, 'z': 67, 'V': 68, 'j': 69, 'K': 70, ')': 71, '*': 72, 'J': 73, '+': 74, ';': 75, '(': 76, 'q': 77, '\"': 78, 'Q': 79, '#': 80, '>': 81, '=': 82, '@': 83, 'Z': 84, 'ü': 85, 'Ü': 86, '$': 87, '|': 88, '\\x92': 89, '_': 90, '%': 91, '[': 92, ']': 93, '<': 94, '‘': 95, '…': 96, '\\x93': 97, '“': 98, '–': 99, '\\\\': 100, '\\t': 101, '\\n': 102, '\\x94': 103, '^': 104, '~': 105, '\\x91': 106, '\\x96': 107, 'è': 108, 'ì': 109, '—': 110, '┾': 111, '〨': 112, '鈥': 113})\n",
            "['<unk>', '<pad>', ' ', 'e', 'o', 't', 'a', 'n', 'r', 'i', 's', 'l', 'u', '0', 'h', 'd', '.', 'c', 'm', 'y', 'w', 'p', 'g', '1', 'f', '2', 'b', 'T', '8', 'k', 'E', 'v', 'S', '5', 'O', 'I', 'C', '4', 'N', 'A', '7', '3', '6', 'x', 'R', '!', '9', 'P', ',', 'W', 'L', 'M', 'U', 'H', 'D', 'Y', 'G', 'F', 'B', '/', '?', '£', \"'\", '-', '&', ':', 'X', 'z', 'V', 'j', 'K', ')', '*', 'J', '+', ';', '(', 'q', '\"', 'Q', '#', '>', '=', '@', 'Z', 'ü', 'Ü', '$', '|', '\\x92', '_', '%', '[', ']', '<', '‘', '…', '\\x93', '“', '–', '\\\\', '\\t', '\\n', '\\x94', '^', '~', '\\x91', '\\x96', 'è', 'ì', '—', '┾', '〨', '鈥']\n"
          ]
        },
        {
          "data": {
            "application/vnd.google.colaboratory.intrinsic+json": {
              "type": "string"
            },
            "text/plain": [
              "'\\n1. text_field.vocab.stoi:\\n- Definition: stoi stands for \"string to index\".\\n- Explanation: It is a dictionary that maps each token\\nto a unique integer index. It\\'s used to  convert text into \\nnumerical format so that it can be fed into a \\nneural network. For example, if the character \\'a\\' is mapped to the \\nindex 1, stoi[\\'a\\'] would return 1.\\n\\n2. text_field.vocab.itos:\\n\\nDefinition: itos stands for \"index to string\".\\nExplanation: It is a list where each index corresponds to a token \\nin the vocabulary. It\\'s used to convert numerical data \\nback into text. For example, if the index 1 corresponds to the \\ncharacter \\'a\\', itos[1] would return \\'a\\'.\\n'"
            ]
          },
          "execution_count": 41,
          "metadata": {},
          "output_type": "execute_result"
        }
      ],
      "source": [
        "text_field.build_vocab(train_data)\n",
        "print(text_field.vocab.stoi)\n",
        "print(text_field.vocab.itos)\n",
        "\n",
        "'''\n",
        "1. text_field.vocab.stoi:\n",
        "- stoi stands for \"string to index\".\n",
        "- this is a function that converts text into numerical format to be used in a\n",
        "neural network.\n",
        "2. text_field.vocab.itos:\n",
        "\n",
        "- Itos stands for \"index to string\".\n",
        "- this is a function that converts integers back into text.\n",
        "'''"
      ]
    },
    {
      "cell_type": "markdown",
      "metadata": {
        "id": "TC8WVE8Ua90u"
      },
      "source": [
        "### Part (g) [2 pt]\n",
        "\n",
        "The tokens `<unk>` and `<pad>` were not in our SMS text messages.\n",
        "What do these two values represent?"
      ]
    },
    {
      "cell_type": "markdown",
      "metadata": {
        "id": "49PW5nDFoOGx"
      },
      "source": [
        "1. 'unk' stands for \"unknown\". This token is used to represent any word or character that is not found in the vocabulary. When the dataset is processed, any token that is not part of the built vocabulary will be replaced with the 'unk' token, ensuring that the model can handle rare or previously unseen tokens during inference or evaluation. For example, ff the vocabulary does not contain the word \"xylophone\", any occurrence of \"xylophone\" in the text will be replaced by 'unk', allowing the model to proceed with processing even if it encounters unknown tokens.\n",
        "\n",
        "2. 'pad' stands for \"padding\". This token is used to pad sequences to a uniform length. In NLP tasks, sentences or sequences often need to be of the same length to be processed in batches. The 'pad' token is added to sequences to make them all the same length, usually the length of the longest sequence in the batch. For example, if one sequence has 5 tokens and another has 8 tokens, the first sequence may be padded with 3 'pad' tokens to match the length of the second sequence, allowing for efficient batch processing and prevents errors due to varying sequence lengths."
      ]
    },
    {
      "cell_type": "markdown",
      "metadata": {
        "id": "Ff5CNk7Qa90y"
      },
      "source": [
        "### Part (h) [2 pt]\n",
        "\n",
        "Since text sequences are of variable length, `torchtext` provides a `BucketIterator` data loader,\n",
        "which batches similar length sequences together. The iterator also provides functionalities to\n",
        "pad sequences automatically.\n",
        "\n",
        "Take a look at 10 batches in `train_iter`. What is the maximum length of the\n",
        "input sequence in each batch? How many `<pad>` tokens are used in each of the 10\n",
        "batches?"
      ]
    },
    {
      "cell_type": "code",
      "execution_count": 42,
      "metadata": {
        "id": "iiNZuvIsoOGx"
      },
      "outputs": [],
      "source": [
        "train_iter = torchtext.data.BucketIterator(train_data,\n",
        "                                           batch_size=32,\n",
        "                                           sort_key=lambda x: len(x.sms),\n",
        "                                           sort_within_batch=True,\n",
        "                                           repeat=False)"
      ]
    },
    {
      "cell_type": "code",
      "execution_count": 43,
      "metadata": {
        "colab": {
          "base_uri": "https://localhost:8080/"
        },
        "id": "oiZQgY-CoOGx",
        "outputId": "a5232309-a28c-4135-9100-1a1fe966d4f5"
      },
      "outputs": [
        {
          "name": "stdout",
          "output_type": "stream",
          "text": [
            "Batch 1:\n",
            "\tMaximum Length = 63\n",
            "\tNumber of <pad> tokens = 6411\n",
            "Batch 2:\n",
            "\tMaximum Length = 47\n",
            "\tNumber of <pad> tokens = 1213\n",
            "Batch 3:\n",
            "\tMaximum Length = 36\n",
            "\tNumber of <pad> tokens = 2969\n",
            "Batch 4:\n",
            "\tMaximum Length = 55\n",
            "\tNumber of <pad> tokens = 5807\n",
            "Batch 5:\n",
            "\tMaximum Length = 55\n",
            "\tNumber of <pad> tokens = 978\n",
            "Batch 6:\n",
            "\tMaximum Length = 56\n",
            "\tNumber of <pad> tokens = 5963\n",
            "Batch 7:\n",
            "\tMaximum Length = 52\n",
            "\tNumber of <pad> tokens = 2547\n",
            "Batch 8:\n",
            "\tMaximum Length = 27\n",
            "\tNumber of <pad> tokens = 1044\n",
            "Batch 9:\n",
            "\tMaximum Length = 55\n",
            "\tNumber of <pad> tokens = 4924\n",
            "Batch 10:\n",
            "\tMaximum Length = 49\n",
            "\tNumber of <pad> tokens = 5270\n"
          ]
        }
      ],
      "source": [
        "max_batches_to_print = 10\n",
        "pad_token = 0\n",
        "\n",
        "for i, batch in enumerate(train_iter):\n",
        "    if i == max_batches_to_print:\n",
        "        break\n",
        "\n",
        "    max_length = int(batch.sms[1][0])\n",
        "    pad_count = sum(max_length - length for length in batch.sms[1])\n",
        "\n",
        "    print(f\"Batch {i + 1}:\")\n",
        "    print(f\"\\tMaximum Length = {max_length}\")\n",
        "    print(f\"\\tNumber of <pad> tokens = {pad_count}\")\n"
      ]
    },
    {
      "cell_type": "markdown",
      "metadata": {
        "id": "y7HnqP6_a904"
      },
      "source": [
        "## Part 2. Model Building [8 pt]\n",
        "\n",
        "Build a recurrent neural network model, using an architecture of your choosing.\n",
        "Use the one-hot embedding of each character as input to your recurrent network.\n",
        "Use one or more fully-connected layers to make the prediction based on your\n",
        "recurrent network output.\n",
        "\n",
        "Instead of using the RNN output value for the final token, another often used\n",
        "strategy is to max-pool over the entire output array. That is, instead of calling\n",
        "something like:\n",
        "\n",
        "```\n",
        "out, _ = self.rnn(x)\n",
        "self.fc(out[:, -1, :])\n",
        "```\n",
        "\n",
        "where `self.rnn` is an `nn.RNN`, `nn.GRU`, or `nn.LSTM` module, and `self.fc` is a\n",
        "fully-connected\n",
        "layer, we use:\n",
        "\n",
        "```\n",
        "out, _ = self.rnn(x)\n",
        "self.fc(torch.max(out, dim=1)[0])\n",
        "```\n",
        "\n",
        "This works reasonably in practice. An even better alternative is to concatenate the\n",
        "max-pooling and average-pooling of the RNN outputs:\n",
        "\n",
        "```\n",
        "out, _ = self.rnn(x)\n",
        "out = torch.cat([torch.max(out, dim=1)[0],\n",
        "                 torch.mean(out, dim=1)], dim=1)\n",
        "self.fc(out)\n",
        "```\n",
        "\n",
        "We encourage you to try out all these options. The way you pool the RNN outputs\n",
        "is one of the \"hyperparameters\" that you can choose to tune later on."
      ]
    },
    {
      "cell_type": "code",
      "execution_count": 59,
      "metadata": {
        "id": "S0J7jeZ4oOGy"
      },
      "outputs": [],
      "source": [
        "import torch\n",
        "import torch.nn as nn\n",
        "import torch.optim as optim\n",
        "import matplotlib.pyplot as plt\n",
        "import time\n",
        "\n",
        "class SpamRNN(nn.Module):\n",
        "    def __init__(self, hidden_size, vocab_size, output_size):\n",
        "        super(SpamRNN, self).__init__()\n",
        "        self.name = \"rnn\"\n",
        "        self.vocab_size = vocab_size\n",
        "        self.emb = torch.eye(vocab_size)\n",
        "        self.rnn = nn.RNN(vocab_size, hidden_size, batch_first=True)\n",
        "        self.fc = nn.Linear(hidden_size * 2, output_size)\n",
        "\n",
        "    def forward(self, x):\n",
        "        x = self.emb[x]\n",
        "        out, _ = self.rnn(x)\n",
        "        out = torch.cat([torch.max(out, dim=1)[0], torch.mean(out, dim=1)], dim=1)\n",
        "        out = self.fc(out)\n",
        "        return out#.view(-1)"
      ]
    },
    {
      "cell_type": "markdown",
      "metadata": {
        "id": "vKIYPl_Ba90_"
      },
      "source": [
        "## Part 3. Training [16 pt]\n",
        "\n",
        "### Part (a) [4 pt]\n",
        "\n",
        "Complete the `get_accuracy` function, which will compute the\n",
        "accuracy (rate) of your model across a dataset (e.g. validation set).\n",
        "You may modify `torchtext.data.BucketIterator` to make your computation\n",
        "faster."
      ]
    },
    {
      "cell_type": "code",
      "execution_count": 72,
      "metadata": {
        "id": "YwZf3BXdoOGy"
      },
      "outputs": [],
      "source": [
        "def get_accuracy(model, iterator):\n",
        "    model.eval()\n",
        "    correct = 0\n",
        "    total = 0\n",
        "\n",
        "    with torch.no_grad():\n",
        "        for batch in iterator:\n",
        "            predictions = model(batch.sms)\n",
        "            predicted_labels = torch.round(torch.sigmoid(predictions)).view(-1)\n",
        "            correct += (predicted_labels == batch.label).float().sum()\n",
        "            total += batch.label.size(0)\n",
        "    accuracy = correct / total\n",
        "    return accuracy"
      ]
    },
    {
      "cell_type": "markdown",
      "metadata": {
        "id": "TlxlcAC1a91C"
      },
      "source": [
        "### Part (b) [4 pt]\n",
        "\n",
        "Train your model. Plot the training curve of your final model.\n",
        "Your training curve should have the training/validation loss and\n",
        "accuracy plotted periodically.\n",
        "\n",
        "Note: Not all of your batches will have the same batch size.\n",
        "In particular, if your training set does not divide evenly by\n",
        "your batch size, there will be a batch that is smaller than\n",
        "the rest."
      ]
    },
    {
      "cell_type": "code",
      "execution_count": 73,
      "metadata": {
        "id": "TrbTl2zkoOGz"
      },
      "outputs": [],
      "source": [
        "np.random.seed(50)\n",
        "train, valid, test = dataset.split(split_ratio=[0.6,0.2,0.2],\n",
        "                                   stratified=True,\n",
        "                                   strata_field='label')"
      ]
    },
    {
      "cell_type": "code",
      "execution_count": 74,
      "metadata": {
        "id": "mqUnKz98oOGz"
      },
      "outputs": [],
      "source": [
        "def get_val_loss(model, valid_loader, criterion):\n",
        "    total_val_loss = 0.0\n",
        "    i = 0\n",
        "    for batch in valid_loader:\n",
        "        messages = batch.sms\n",
        "        labels = batch.label\n",
        "        pred = model(messages)\n",
        "        loss = criterion(pred.view(-1), labels)\n",
        "        total_val_loss += loss.item()\n",
        "        i += 1\n",
        "    val_loss = float(total_val_loss)/(i + 1)\n",
        "    return val_loss\n",
        "\n",
        "def train(model, train_loader, valid_loader, num_epochs=5, learning_rate=1e-5):\n",
        "    torch.manual_seed(1000)\n",
        "    criterion = nn.BCEWithLogitsLoss()\n",
        "    optimizer = torch.optim.Adam(model.parameters(), lr=learning_rate)\n",
        "    train_acc, train_loss, val_acc, val_loss = [], [], [], []\n",
        "    epochs = []\n",
        "\n",
        "    start_time = time.time()\n",
        "    for epoch in range(num_epochs):\n",
        "        model.train()\n",
        "        total_train_loss = 0.0\n",
        "        i = 0\n",
        "        for batch in train_loader:\n",
        "            messages = batch.sms\n",
        "            labels = batch.label\n",
        "            optimizer.zero_grad()\n",
        "            pred = model(messages)\n",
        "            loss = criterion(pred.view(-1), labels)\n",
        "            loss.backward()\n",
        "            optimizer.step()\n",
        "            total_train_loss += loss.item()\n",
        "            i += 1\n",
        "        epochs.append(epoch)\n",
        "        train_acc.append(get_accuracy(model, train_loader))\n",
        "        train_loss.append(float(total_train_loss)/(i + 1))\n",
        "        val_acc.append(get_accuracy(model, valid_loader))\n",
        "        val_loss.append(get_val_loss(model, valid_loader, criterion))\n",
        "        print((\"Epoch {}: Train acc: {}, Train loss: {} |\"+\n",
        "               \"Validation acc: {}, Validation loss: {}\").format(\n",
        "                   epoch + 1,\n",
        "                   train_acc[-1],\n",
        "                   train_loss[-1],\n",
        "                   val_acc[-1],\n",
        "                   val_loss[-1]))\n",
        "    print('Finished Training')\n",
        "    end_time = time.time()\n",
        "    elapsed_time = end_time - start_time\n",
        "    print(\"Total time elapsed: {:.2f} seconds\".format(elapsed_time))\n",
        "\n",
        "    # Plotting\n",
        "    plt.title(\"Train vs Validation Loss\")\n",
        "    plt.plot(epochs, train_loss, label=\"Train\")\n",
        "    plt.plot(epochs, val_loss, label=\"Validation\")\n",
        "    plt.xlabel(\"Epoch\")\n",
        "    plt.ylabel(\"Loss\")\n",
        "    plt.legend(loc='best')\n",
        "    plt.show()\n",
        "\n",
        "    plt.title(\"Train vs Validation Accuracy\")\n",
        "    plt.plot(epochs, train_acc, label=\"Train\")\n",
        "    plt.plot(epochs, val_acc, label=\"Validation\")\n",
        "    plt.xlabel(\"Epoch\")\n",
        "    plt.ylabel(\"Accuracy\")\n",
        "    plt.legend(loc='best')\n",
        "    plt.show()\n",
        "\n",
        "    print(\"Final Training Accuracy: {}\".format(train_acc[-1]))\n",
        "    print(\"Final Validation Accuracy: {}\".format(val_acc[-1]))"
      ]
    },
    {
      "cell_type": "code",
      "execution_count": 75,
      "metadata": {
        "colab": {
          "base_uri": "https://localhost:8080/",
          "height": 1000
        },
        "id": "OMt2Bgj7oOG0",
        "outputId": "bff30d5a-3b77-4310-b2e3-4a09e50261d8"
      },
      "outputs": [
        {
          "name": "stdout",
          "output_type": "stream",
          "text": [
            "Epoch 1: Train acc: 0.591444194316864, Train loss: 0.6774232139190038 |Validation acc: 0.29417040944099426, Validation loss: 0.6583406140929774\n",
            "Epoch 2: Train acc: 0.9422981142997742, Train loss: 0.6536842162410418 |Validation acc: 0.9596412777900696, Validation loss: 0.6115650942451075\n",
            "Epoch 3: Train acc: 0.9293649196624756, Train loss: 0.5697396987428268 |Validation acc: 0.9309417009353638, Validation loss: 0.5225044441850561\n",
            "Epoch 4: Train acc: 0.9146078824996948, Train loss: 0.404544560238719 |Validation acc: 0.9596412777900696, Validation loss: 0.340119531280116\n",
            "Epoch 5: Train acc: 0.9376554489135742, Train loss: 0.35003538290038705 |Validation acc: 0.9623318314552307, Validation loss: 0.30737864735879394\n",
            "Epoch 6: Train acc: 0.9320179224014282, Train loss: 0.2942526924113433 |Validation acc: 0.9596412777900696, Validation loss: 0.23298004112745585\n",
            "Epoch 7: Train acc: 0.9358315467834473, Train loss: 0.25798157687919837 |Validation acc: 0.9677129983901978, Validation loss: 0.2136921066986887\n",
            "Epoch 8: Train acc: 0.9535732269287109, Train loss: 0.22934867763736597 |Validation acc: 0.963228702545166, Validation loss: 0.2154508562464463\n",
            "Epoch 9: Train acc: 0.920411229133606, Train loss: 0.2314648108634477 |Validation acc: 0.9748879075050354, Validation loss: 0.14515965471142217\n",
            "Epoch 10: Train acc: 0.9540706276893616, Train loss: 0.2194207232290258 |Validation acc: 0.9659192562103271, Validation loss: 0.1950542828754375\n",
            "Epoch 11: Train acc: 0.9522467255592346, Train loss: 0.19029833671326438 |Validation acc: 0.9721972942352295, Validation loss: 0.15409657790472633\n",
            "Epoch 12: Train acc: 0.5237937569618225, Train loss: 0.24749449888865152 |Validation acc: 0.14798206090927124, Validation loss: 1.0266893694275303\n",
            "Epoch 13: Train acc: 0.9494279623031616, Train loss: 0.30907343172778684 |Validation acc: 0.9721972942352295, Validation loss: 0.2189959875847164\n",
            "Epoch 14: Train acc: 0.9515835046768188, Train loss: 0.218015278223902 |Validation acc: 0.9730941653251648, Validation loss: 0.17339234132515757\n",
            "Epoch 15: Train acc: 0.9512518644332886, Train loss: 0.18639929150231183 |Validation acc: 0.9677129983901978, Validation loss: 0.15403200999686592\n",
            "Epoch 16: Train acc: 0.9519150853157043, Train loss: 0.16552033585806689 |Validation acc: 0.9704036116600037, Validation loss: 0.12017167477231276\n",
            "Epoch 17: Train acc: 0.9534074068069458, Train loss: 0.15337184583768249 |Validation acc: 0.9686098694801331, Validation loss: 0.11474042052501127\n",
            "Epoch 18: Train acc: 0.9558945298194885, Train loss: 0.14751797704957426 |Validation acc: 0.9434977769851685, Validation loss: 0.18137588077469877\n",
            "Epoch 19: Train acc: 0.9522467255592346, Train loss: 0.1441142488232193 |Validation acc: 0.9721972942352295, Validation loss: 0.09907802821774232\n",
            "Epoch 20: Train acc: 0.9534074068069458, Train loss: 0.1378807275517223 |Validation acc: 0.9739910364151001, Validation loss: 0.09384262620618469\n",
            "Finished Training\n",
            "Total time elapsed: 96.47 seconds\n"
          ]
        },
        {
          "data": {
            "image/png": "[encoded data removed]",
            "text/plain": [
              "<Figure size 640x480 with 1 Axes>"
            ]
          },
          "metadata": {},
          "output_type": "display_data"
        },
        {
          "data": {
            "image/png": "[encoded data removed]",
            "text/plain": [
              "<Figure size 640x480 with 1 Axes>"
            ]
          },
          "metadata": {},
          "output_type": "display_data"
        },
        {
          "name": "stdout",
          "output_type": "stream",
          "text": [
            "Final Training Accuracy: 0.9534074068069458\n",
            "Final Validation Accuracy: 0.9739910364151001\n"
          ]
        }
      ],
      "source": [
        "valid_iter = torchtext.data.BucketIterator(valid_data,\n",
        "                                           batch_size=64,\n",
        "                                           sort_key=lambda x: len(x.sms),\n",
        "                                           sort_within_batch=True,\n",
        "                                           repeat=False)\n",
        "train_iter = torchtext.data.BucketIterator(train_data,\n",
        "                                           batch_size=64,\n",
        "                                           sort_key=lambda x: len(x.sms),\n",
        "                                           sort_within_batch=True,\n",
        "                                           repeat=False)\n",
        "\n",
        "hidden_size = 64\n",
        "vocab_size = len(text_field.vocab)\n",
        "output_size = 1\n",
        "model = SpamRNN(hidden_size, vocab_size, output_size)\n",
        "train(model, train_iter, valid_iter, num_epochs=20, learning_rate=2e-4)"
      ]
    },
    {
      "cell_type": "markdown",
      "metadata": {
        "id": "fE3eRkDAa91F"
      },
      "source": [
        "### Part (c) [4 pt]\n",
        "\n",
        "Choose at least 4 hyperparameters to tune. Explain how you tuned the hyperparameters.\n",
        "You don't need to include your training curve for every model you trained.\n",
        "Instead, explain what hyperparemters you tuned, what the best validation accuracy was,\n",
        "and the reasoning behind the hyperparameter decisions you made.\n",
        "\n",
        "For this assignment, you should tune more than just your learning rate and epoch.\n",
        "Choose at least 2 hyperparameters that are unrelated to the optimizer."
      ]
    },
    {
      "cell_type": "code",
      "execution_count": 76,
      "metadata": {
        "colab": {
          "base_uri": "https://localhost:8080/",
          "height": 1000
        },
        "id": "Ux114zEO3Rie",
        "outputId": "80fec5c3-ae49-4be4-d93d-22d722ed0dbe"
      },
      "outputs": [
        {
          "name": "stdout",
          "output_type": "stream",
          "text": [
            "Epoch 1: Train acc: 0.6221190690994263, Train loss: 0.6800687909126282 |Validation acc: 0.3381165862083435, Validation loss: 0.674143017994033\n",
            "Epoch 2: Train acc: 0.9076438546180725, Train loss: 0.6540053364477659 |Validation acc: 0.8717488646507263, Validation loss: 0.6436649047666125\n",
            "Epoch 3: Train acc: 0.9081412553787231, Train loss: 0.5061691257514451 |Validation acc: 0.9533632397651672, Validation loss: 0.43027585910426247\n",
            "Epoch 4: Train acc: 0.9275410175323486, Train loss: 0.39926331458907377 |Validation acc: 0.9452914595603943, Validation loss: 0.3820147741999891\n",
            "Epoch 5: Train acc: 0.9290333390235901, Train loss: 0.35095677297366296 |Validation acc: 0.9533632397651672, Validation loss: 0.3184146131906245\n",
            "Epoch 6: Train acc: 0.944951057434082, Train loss: 0.28646769374608994 |Validation acc: 0.9515694975852966, Validation loss: 0.307982658346494\n",
            "Epoch 7: Train acc: 0.9436246156692505, Train loss: 0.2571286407544425 |Validation acc: 0.957847535610199, Validation loss: 0.2349572516977787\n",
            "Epoch 8: Train acc: 0.9527441263198853, Train loss: 0.23070382287627772 |Validation acc: 0.9605380892753601, Validation loss: 0.2138659625003735\n",
            "Epoch 9: Train acc: 0.9550654888153076, Train loss: 0.21791666879465704 |Validation acc: 0.9668161273002625, Validation loss: 0.1793120370970832\n",
            "Epoch 10: Train acc: 0.9587132930755615, Train loss: 0.1835961316173014 |Validation acc: 0.9641255736351013, Validation loss: 0.17429204740458065\n",
            "Epoch 11: Train acc: 0.9524125456809998, Train loss: 0.18888401328340956 |Validation acc: 0.9704036116600037, Validation loss: 0.15087910431126753\n",
            "Epoch 12: Train acc: 0.9563919901847839, Train loss: 0.17032556174028862 |Validation acc: 0.963228702545166, Validation loss: 0.18298102170228958\n",
            "Epoch 13: Train acc: 0.9512518644332886, Train loss: 0.17133197615805426 |Validation acc: 0.9730941653251648, Validation loss: 0.1271907426416874\n",
            "Epoch 14: Train acc: 0.9613662958145142, Train loss: 0.16743036496796107 |Validation acc: 0.9668161273002625, Validation loss: 0.15365644916892052\n",
            "Epoch 15: Train acc: 0.9618636965751648, Train loss: 0.18641881352584613 |Validation acc: 0.9659192562103271, Validation loss: 0.14852184140019947\n",
            "Finished Training\n",
            "Total time elapsed: 91.13 seconds\n"
          ]
        },
        {
          "data": {
            "image/png": "[encoded data removed]",
            "text/plain": [
              "<Figure size 640x480 with 1 Axes>"
            ]
          },
          "metadata": {},
          "output_type": "display_data"
        },
        {
          "data": {
            "image/png": "[encoded data removed]",
            "text/plain": [
              "<Figure size 640x480 with 1 Axes>"
            ]
          },
          "metadata": {},
          "output_type": "display_data"
        },
        {
          "name": "stdout",
          "output_type": "stream",
          "text": [
            "Final Training Accuracy: 0.9618636965751648\n",
            "Final Validation Accuracy: 0.9659192562103271\n"
          ]
        }
      ],
      "source": [
        "valid_iter = torchtext.data.BucketIterator(valid_data,\n",
        "                                           batch_size=32,\n",
        "                                           sort_key=lambda x: len(x.sms),\n",
        "                                           sort_within_batch=True,\n",
        "                                           repeat=False)\n",
        "train_iter = torchtext.data.BucketIterator(train_data,\n",
        "                                           batch_size=32,\n",
        "                                           sort_key=lambda x: len(x.sms),\n",
        "                                           sort_within_batch=True,\n",
        "                                           repeat=False)\n",
        "\n",
        "hidden_size = 64\n",
        "vocab_size = len(text_field.vocab)\n",
        "output_size = 1\n",
        "model3 = SpamRNN(hidden_size, vocab_size, output_size)\n",
        "train(model3, train_iter, valid_iter, num_epochs=15, learning_rate=1e-4)"
      ]
    },
    {
      "cell_type": "code",
      "execution_count": null,
      "metadata": {
        "collapsed": true,
        "id": "A2GEWfDca91G",
        "jupyter": {
          "outputs_hidden": true
        }
      },
      "outputs": [],
      "source": [
        "# Set 1: batch_size=64, learning rate=0.0002, hidden_neurons=64,\n",
        "# pooling type= concat\n",
        "\n",
        "\n",
        "# Set 2: batch_size=128, learning rate=0.0002, hidden_neurons=64, pooling\n",
        "#type= concat\n",
        "# I increased the batch size to speed up training and reduce noise in\n",
        "# the gradient updates. The validation accuracy was 95.3%.\n",
        "\n",
        "# Set 3: batch_size=64, learning rate=0.0001, hidden_neurons=64,\n",
        "# pooling type=concat\n",
        "# In this set, I reduced the batch size to allow the model\n",
        "# to update its weights more frequently and slightly decreased the learning\n",
        "# rate. This configuration achieved the validation\n",
        "# accuracy of 96.1%, slightly more than Set 2.\n",
        "\n",
        "# Set 4: batch_size=256, learning rate=0.005, hidden_neurons=128,\n",
        "# pooling type=concat\n",
        "# This tests The effect of a large batch size and faster learning rate,\n",
        "# by increasing the first two parameters. The hidden neurons also doubled.\n",
        "# This also led to poorer performance with a validation accuracy of\n",
        "# 94.0%.\n",
        "\n",
        "# Set 5: batch_size=32, learning rate=0.0005, hidden_neurons=128,\n",
        "# pooling type=max\n",
        "# I tested the impact of using max pooling instead of the concat.\n",
        "# The batch size and learning rate were balanced.\n",
        "# This resulted in a validation accuracy of 94.8%,\n",
        "# showing that max pooling did not improve performance over the final\n",
        "# hidden state.\n",
        "\n",
        "# Best Model\n",
        "# The best performing model was Set 1 (shown above) with a validation accuracy\n",
        "# of 97.4%.\n",
        "# This setup used an average batch size, a low learning rate, a relatively\n",
        "# low number of hidden neurons, and concat pooling.\n",
        "# Further hyperparameter tuning may yield even better results, but this\n",
        "# configuration performed significantly well.\n"
      ]
    },
    {
      "cell_type": "markdown",
      "metadata": {
        "id": "v7DY56rKa91I"
      },
      "source": [
        "### Part (d) [2 pt]\n",
        "\n",
        "Before we deploy a machine learning model, we usually want to have a better understanding\n",
        "of how our model performs beyond its validation accuracy. An important metric to track is\n",
        "*how well our model performs in certain subsets of the data*.\n",
        "\n",
        "In particular, what is the model's error rate amongst data with negative labels?\n",
        "This is called the **false positive rate**.\n",
        "\n",
        "What about the model's error rate amongst data with positive labels?\n",
        "This is called the **false negative rate**.\n",
        "\n",
        "Report your final model's false positive and false negative rate across the\n",
        "validation set."
      ]
    },
    {
      "cell_type": "code",
      "execution_count": 87,
      "metadata": {
        "collapsed": true,
        "id": "7ggbQSdba91J",
        "jupyter": {
          "outputs_hidden": true
        }
      },
      "outputs": [],
      "source": [
        "# Create a Dataset of only spam validation examples\n",
        "valid_spam = torchtext.data.Dataset(\n",
        "    [e for e in valid_data.examples if e.label == 1],\n",
        "    valid_data.fields)\n",
        "\n",
        "# Create a Dataset of only non-spam validation examples\n",
        "valid_nospam = torchtext.data.Dataset(\n",
        "    [e for e in valid_data.examples if e.label == 0],\n",
        "    valid_data.fields)\n",
        "\n"
      ]
    },
    {
      "cell_type": "code",
      "execution_count": 93,
      "metadata": {
        "colab": {
          "base_uri": "https://localhost:8080/"
        },
        "id": "WN2W1yyM4wYU",
        "outputId": "b2b3a07b-5f26-4806-c693-f10b05577968"
      },
      "outputs": [
        {
          "name": "stdout",
          "output_type": "stream",
          "text": [
            "The false positive rate is tensor(0.0301)\n",
            "The false negative rate is tensor(0.0600)\n"
          ]
        }
      ],
      "source": [
        "valid_spam_iter = BucketIterator(\n",
        "    valid_spam,\n",
        "    batch_size=64,\n",
        "    sort_key=lambda x: len(x.sms),\n",
        "    sort_within_batch=True,\n",
        "    repeat=False)\n",
        "\n",
        "valid_nospam_iter = BucketIterator(\n",
        "    valid_nospam,\n",
        "    batch_size=64,\n",
        "    sort_key=lambda x: len(x.sms),\n",
        "    sort_within_batch=True,\n",
        "    repeat=False)\n",
        "\n",
        "valid_false_positive = 1 - get_accuracy(model, valid_nospam_iter)\n",
        "valid_false_negative = 1 - get_accuracy(model, valid_spam_iter)\n",
        "\n",
        "print(\"The false positive rate is\", valid_false_positive,)\n",
        "print(\"The false negative rate is\", valid_false_negative,)\n"
      ]
    },
    {
      "cell_type": "markdown",
      "metadata": {
        "id": "N1iRteb3a91O"
      },
      "source": [
        "### Part (e) [2 pt]\n",
        "\n",
        "The impact of a false positive vs a false negative can be drastically different.\n",
        "If our spam detection algorithm was deployed on your phone, what is the impact\n",
        "of a false positive on the phone's user? What is the impact of a false negative?"
      ]
    },
    {
      "cell_type": "code",
      "execution_count": null,
      "metadata": {
        "collapsed": true,
        "id": "hFLUOJTGa91Q",
        "jupyter": {
          "outputs_hidden": true
        }
      },
      "outputs": [],
      "source": [
        "# False Positive Rate (FPR):\n",
        "# A high FPR means legitimate messages are blocked as spam. This can frustrate\n",
        "# users and cause them to miss important messages.\n",
        "\n",
        "# False Negative Rate (FNR):\n",
        "# A high FNR means spam messages get through to the inbox.\n",
        "# While annoying, users can usually ignore or delete these messages.\n",
        "\n",
        "# In my opinion, false positives can be more disruptive to users than\n",
        "# false negatives.\n"
      ]
    },
    {
      "cell_type": "markdown",
      "metadata": {
        "id": "Gznefulsa91V"
      },
      "source": [
        "## Part 4. Evaluation [11 pt]\n",
        "\n",
        "### Part (a) [1 pt]\n",
        "\n",
        "Report the final test accuracy of your model."
      ]
    },
    {
      "cell_type": "code",
      "execution_count": 97,
      "metadata": {
        "id": "mWi8CDGE9boy"
      },
      "outputs": [],
      "source": [
        "test_iter = torchtext.data.BucketIterator(test_data,\n",
        "                                           batch_size=64,\n",
        "                                           sort_key=lambda x: len(x.sms),\n",
        "                                           sort_within_batch=True,\n",
        "                                           repeat=False)"
      ]
    },
    {
      "cell_type": "code",
      "execution_count": 98,
      "metadata": {
        "colab": {
          "base_uri": "https://localhost:8080/"
        },
        "collapsed": true,
        "id": "D5L5D-A1a91W",
        "jupyter": {
          "outputs_hidden": true
        },
        "outputId": "f3123a73-61ea-4673-8106-801081c7fa32"
      },
      "outputs": [
        {
          "name": "stdout",
          "output_type": "stream",
          "text": [
            "Test accuracy: 0.9578096866607666\n"
          ]
        }
      ],
      "source": [
        "# Calculate test accuracy\n",
        "test_accuracy = get_accuracy(model, test_iter)\n",
        "print(f'Test accuracy: {test_accuracy}')\n",
        "\n",
        "# The final test accuracy of my model is about 0.96"
      ]
    },
    {
      "cell_type": "markdown",
      "metadata": {
        "id": "6Hjmd8rca91Y"
      },
      "source": [
        "### Part (b) [3 pt]\n",
        "\n",
        "Report the false positive rate and false negative rate of your model across the test set."
      ]
    },
    {
      "cell_type": "code",
      "execution_count": 101,
      "metadata": {
        "collapsed": true,
        "id": "GFiAKztJa91Z",
        "jupyter": {
          "outputs_hidden": true
        }
      },
      "outputs": [],
      "source": [
        "test_spam = torchtext.data.Dataset(\n",
        "    [e for e in test_data.examples if e.label == 1],\n",
        "    test.fields)\n",
        "\n",
        "test_nospam = torchtext.data.Dataset(\n",
        "    [e for e in test_data.examples if e.label == 0],\n",
        "    test.fields)"
      ]
    },
    {
      "cell_type": "code",
      "execution_count": 102,
      "metadata": {
        "colab": {
          "base_uri": "https://localhost:8080/"
        },
        "id": "VkLB5MrC-EnZ",
        "outputId": "796bcd57-f130-4a32-ecff-e1f6e185147d"
      },
      "outputs": [
        {
          "name": "stdout",
          "output_type": "stream",
          "text": [
            "The false positive rate is tensor(0.0363)\n",
            "The false negative rate is tensor(0.0738)\n"
          ]
        }
      ],
      "source": [
        "test_spam_iter = BucketIterator(\n",
        "    test_spam,\n",
        "    batch_size=64,\n",
        "    sort_key=lambda x: len(x.sms),\n",
        "    sort_within_batch=True,\n",
        "    repeat=False)\n",
        "\n",
        "test_nospam_iter = BucketIterator(\n",
        "    test_nospam,\n",
        "    batch_size=64,\n",
        "    sort_key=lambda x: len(x.sms),\n",
        "    sort_within_batch=True,\n",
        "    repeat=False)\n",
        "\n",
        "test_false_positive = 1 - get_accuracy(model, test_nospam_iter)\n",
        "test_false_negative = 1 - get_accuracy(model, test_spam_iter)\n",
        "\n",
        "print(\"The false positive rate is\", test_false_positive,)\n",
        "print(\"The false negative rate is\", test_false_negative,)"
      ]
    },
    {
      "cell_type": "markdown",
      "metadata": {
        "id": "0jGHtQFpa91b"
      },
      "source": [
        "### Part (c) [3 pt]\n",
        "\n",
        "What is your model's prediction of the **probability** that\n",
        "the SMS message \"machine learning is sooo cool!\" is spam?\n",
        "\n",
        "Hint: To begin, use `text_field.vocab.stoi` to look up the index\n",
        "of each character in the vocabulary."
      ]
    },
    {
      "cell_type": "code",
      "execution_count": 113,
      "metadata": {
        "colab": {
          "base_uri": "https://localhost:8080/"
        },
        "collapsed": true,
        "id": "h_2nSJq8a91b",
        "jupyter": {
          "outputs_hidden": true
        },
        "outputId": "ea049f5d-058f-4207-cfab-aa673cd4aa62"
      },
      "outputs": [
        {
          "name": "stdout",
          "output_type": "stream",
          "text": [
            "[18, 6, 17, 14, 9, 7, 3, 2, 11, 3, 6, 8, 7, 9, 7, 22, 2, 9, 10, 2, 10, 4, 4, 4, 2, 17, 4, 4, 11, 45]\n",
            "The probability that \"machine learning is sooo cool!\" is spam is tensor([5.8286], grad_fn=<MulBackward0>)%\n"
          ]
        }
      ],
      "source": [
        "msg = \"machine learning is sooo cool!\"\n",
        "msg_indices = [text_field.vocab.stoi[c] for c in msg]\n",
        "print(msg_indices)\n",
        "\n",
        "prediction = model(batch.sms)\n",
        "probability = torch.sigmoid(prediction)\n",
        "print(f'The probability that \"{msg}\" is spam is {probability[0]*100}%')\n",
        "\n",
        "# There is a 5.83% chance of being spam\n"
      ]
    },
    {
      "cell_type": "markdown",
      "metadata": {
        "id": "QD1zgYJpa91f"
      },
      "source": [
        "### Part (d) [4 pt]\n",
        "\n",
        "Do you think detecting spam is an easy or difficult task?\n",
        "\n",
        "Since machine learning models are expensive to train and deploy, it is very\n",
        "important to compare our models against baseline models: a simple\n",
        "model that is easy to build and inexpensive to run that we can compare our\n",
        "recurrent neural network model against.\n",
        "\n",
        "Explain how you might build a simple baseline model. This baseline model\n",
        "can be a simple neural network (with very few weights), a hand-written algorithm,\n",
        "or any other strategy that is easy to build and test.\n",
        "\n",
        "**Do not actually build a baseline model. Instead, provide instructions on\n",
        "how to build it.**"
      ]
    },
    {
      "cell_type": "code",
      "execution_count": null,
      "metadata": {
        "collapsed": true,
        "id": "LTndp-IOa91g",
        "jupyter": {
          "outputs_hidden": true
        }
      },
      "outputs": [],
      "source": [
        "# Detecting spam is difficult but moderately achievable.\n",
        "\n",
        "# The Model should include:\n",
        "# 1. Keyword Filter: Create a list of common spam keywords\n",
        "# like \"tech\", \"support\", \"win\", etc.\n",
        "# 2. Rule-Based Algorithm: Write a function that checks spam keywords in SMS.\n",
        "# 3. Binary Classification: If a keyword is found, classify the message as spam;\n",
        "# otherwise, it is non-spam.\n",
        "# You can Implement this by matching strings with keywords; and compare the\n",
        "# performance of this rule-based model against RNN\n",
        "# using metrics like accuracy, FPR, and FNR.\n"
      ]
    }
  ],
  "metadata": {
    "colab": {
      "provenance": []
    },
    "kernelspec": {
      "display_name": "Python 3 (ipykernel)",
      "language": "python",
      "name": "python3"
    },
    "language_info": {
      "codemirror_mode": {
        "name": "ipython",
        "version": 3
      },
      "file_extension": ".py",
      "mimetype": "text/x-python",
      "name": "python",
      "nbconvert_exporter": "python",
      "pygments_lexer": "ipython3",
      "version": "3.12.1"
    }
  },
  "nbformat": 4,
  "nbformat_minor": 0
}
