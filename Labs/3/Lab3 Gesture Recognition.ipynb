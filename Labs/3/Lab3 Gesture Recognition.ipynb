{
 "cells": [
  {
   "cell_type": "markdown",
   "metadata": {
    "colab_type": "text",
    "id": "X6WDvajSqIDs"
   },
   "source": [
    "# Lab 3: Gesture Recognition using Convolutional Neural Networks\n",
    "\n",
    "In this lab you will train a convolutional neural network to make classifications on different hand gestures. By the end of the lab, you should be able to:\n",
    "\n",
    "1. Load and split data for training, validation and testing\n",
    "2. Train a Convolutional Neural Network\n",
    "3. Apply transfer learning to improve your model\n",
    "\n",
    "Note that for this lab we will not be providing you with any starter code. You should be able to take the code used in previous labs, tutorials and lectures and modify it accordingly to complete the tasks outlined below.\n",
    "\n",
    "### What to submit\n",
    "\n",
    "Submit a PDF file containing all your code, outputs, and write-up\n",
    "from parts 1-5. You can produce a PDF of your Google Colab file by\n",
    "going to **File > Print** and then save as PDF. The Colab instructions\n",
    "has more information. Make sure to review the PDF submission to ensure that your answers are easy to read. Make sure that your text is not cut off at the margins. \n",
    "\n",
    "**Do not submit any other files produced by your code.**\n",
    "\n",
    "Include a link to your colab file in your submission.\n",
    "\n",
    "Please use Google Colab to complete this assignment. If you want to use Jupyter Notebook, please complete the assignment and upload your Jupyter Notebook file to Google Colab for submission. "
   ]
  },
  {
   "cell_type": "markdown",
   "metadata": {
    "colab_type": "text",
    "id": "LfiFE_WOqIDu"
   },
   "source": [
    "## Colab Link\n",
    "\n",
    "Include a link to your colab file here\n",
    "\n",
    "Colab Link: "
   ]
  },
  {
   "cell_type": "markdown",
   "metadata": {
    "colab_type": "text",
    "id": "kvTXpH_kqIDy"
   },
   "source": [
    "## Dataset\n",
    "\n",
    "American Sign Language (ASL) is a complete, complex language that employs signs made by moving the\n",
    "hands combined with facial expressions and postures of the body. It is the primary language of many\n",
    "North Americans who are deaf and is one of several communication options used by people who are deaf or\n",
    "hard-of-hearing. The hand gestures representing English alphabet are shown below. This lab focuses on classifying a subset\n",
    "of these hand gesture images using convolutional neural networks. Specifically, given an image of a hand\n",
    "showing one of the letters A-I, we want to detect which letter is being represented.\n",
    "\n",
    "![alt text](https://www.disabled-world.com/pics/1/asl-alphabet.jpg)"
   ]
  },
  {
   "cell_type": "markdown",
   "metadata": {
    "colab_type": "text",
    "id": "bJxMgWGNqID2"
   },
   "source": [
    "## Part B. Building a CNN [50 pt]\n",
    "\n",
    "For this lab, we are not going to give you any starter code. You will be writing a convolutional neural network\n",
    "from scratch. You are welcome to use any code from previous labs, lectures and tutorials. You should also\n",
    "write your own code.\n",
    "\n",
    "You may use the PyTorch documentation freely. You might also find online tutorials helpful. However, all\n",
    "code that you submit must be your own.\n",
    "\n",
    "Make sure that your code is vectorized, and does not contain obvious inefficiencies (for example, unecessary\n",
    "for loops, or unnecessary calls to unsqueeze()). Ensure enough comments are included in the code so that\n",
    "your TA can understand what you are doing. It is your responsibility to show that you understand what you\n",
    "write.\n",
    "\n",
    "**This is much more challenging and time-consuming than the previous labs.** Make sure that you\n",
    "give yourself plenty of time by starting early."
   ]
  },
  {
   "cell_type": "markdown",
   "metadata": {
    "colab_type": "text",
    "id": "MiDuQaAh56sT"
   },
   "source": [
    "### 1. Data Loading and Splitting [5 pt]\n",
    "\n",
    "Download the anonymized data provided on Quercus. To allow you to get a heads start on this project we will provide you with sample data from previous years. Split the data into training, validation, and test sets.\n",
    "\n",
    "Note: Data splitting is not as trivial in this lab. We want our test set to closely resemble the setting in which\n",
    "our model will be used. In particular, our test set should contain hands that are never seen in training!\n",
    "\n",
    "Explain how you split the data, either by describing what you did, or by showing the code that you used.\n",
    "Justify your choice of splitting strategy. How many training, validation, and test images do you have?\n",
    "\n",
    "For loading the data, you can use plt.imread as in Lab 1, or any other method that you choose. You may find\n",
    "torchvision.datasets.ImageFolder helpful. (see https://pytorch.org/docs/stable/torchvision/datasets.html?highlight=image%20folder#torchvision.datasets.ImageFolder\n",
    ") "
   ]
  },
  {
   "cell_type": "code",
   "execution_count": 8,
   "metadata": {
    "colab": {},
    "colab_type": "code",
    "collapsed": true,
    "id": "WBrH5kBqRLa6",
    "jupyter": {
     "outputs_hidden": true
    }
   },
   "outputs": [
    {
     "name": "stdout",
     "output_type": "stream",
     "text": [
      "Number of training images:  1477\n",
      "Number of validation images:  981\n",
      "Number of test images:  1238\n"
     ]
    }
   ],
   "source": [
    "import random\n",
    "import os\n",
    "import shutil\n",
    "from sklearn.model_selection import train_test_split\n",
    "from torchvision.datasets import ImageFolder\n",
    "\n",
    "random.seed(42)\n",
    "\n",
    "#Path to dataset\n",
    "data_dir = '/Users/harrynguyen/Documents/GitHub/APS360/Labs/3/Lab3_Gestures_Summer'\n",
    "\n",
    "#Get all individuals \n",
    "individuals = [name for name in os.listdir(data_dir) \n",
    "               if os.path.isdir(os.path.join(data_dir, name))]\n",
    "\n",
    "#Split individuals into train, val, test sets \n",
    "#(30% random for combined validation and test set)\n",
    "train_individuals, test_individuals = train_test_split(individuals, \n",
    "                                                       test_size=0.30, \n",
    "                                                       random_state=42)\n",
    "#(50% random for validation and 50 for test set)\n",
    "val_individuals, test_individuals = train_test_split(individuals, \n",
    "                                                     test_size=0.50, \n",
    "                                                     random_state=42)\n",
    "\n",
    "\n",
    "#create directories for the splits\n",
    "train_dir = '/Users/harrynguyen/Documents/GitHub/APS360/Labs/3/asl_train'\n",
    "val_dir = '/Users/harrynguyen/Documents/GitHub/APS360/Labs/3/asl_val'\n",
    "test_dir = '/Users/harrynguyen/Documents/GitHub/APS360/Labs/3/asl_test'\n",
    "\n",
    "os.makedirs(train_dir, exist_ok=True)\n",
    "os.makedirs(val_dir, exist_ok=True)\n",
    "os.makedirs(test_dir, exist_ok=True)\n",
    "\n",
    "#Define a function to copy images to new directories\n",
    "def copy_images(individuals, source_dir, dest_dir):\n",
    "    for individual in individuals:\n",
    "        individual_dir = os.path.join(source_dir, individual)\n",
    "        if os.path.isdir(individual_dir):\n",
    "            shutil.copytree(individual_dir, os.path.join(dest_dir, \n",
    "                                                         individual), \n",
    "                                                         dirs_exist_ok=True)\n",
    "\n",
    "copy_images(train_individuals, data_dir, train_dir)\n",
    "copy_images(val_individuals, data_dir, val_dir)\n",
    "copy_images(test_individuals, data_dir, test_dir)\n",
    "\n",
    "#Load dataset via ImageFolder\n",
    "train_dataset = ImageFolder(train_dir)\n",
    "val_dataset = ImageFolder(val_dir)\n",
    "test_dataset = ImageFolder(test_dir)\n",
    "\n",
    "#Check output of each set\n",
    "print(f\"Number of training images: \", len(train_dataset))\n",
    "print(f\"Number of validation images: \", len(val_dataset))\n",
    "print(f\"Number of test images: \", len(test_dataset))\n",
    "\n",
    "\n",
    "'''\n",
    "Justification for the splitting procedure\n",
    "\n",
    "- There are two splits, the initial and the further splits. The initial split\n",
    "ensures a clear separation between training data and the data used for \n",
    "validation and testing. The further split ensures that the data used for model \n",
    "evaluation and final performance assessement are distinct.\n",
    "\n",
    "- Initial split comes at 70/30, in which 70% training and 30% combined \n",
    "validation and test. I believe 70% training would ensure enough data for \n",
    "learning without overfitting and the rest 30% would provide enough data \n",
    "for evaluation and tuning its hyperparameters. \n",
    "\n",
    "- During both the tuning and final evaluation phases, having the combined \n",
    "validation and test set equally split ensures a reliable peroformance metrics.\n",
    "\n",
    "However, this is the initial guess and I'll document if any changes would \n",
    "be made.\n",
    "'''\n",
    "\n"
   ]
  },
  {
   "cell_type": "markdown",
   "metadata": {
    "colab_type": "text",
    "id": "5VWX4DGY5gQE"
   },
   "source": [
    "### 2. Model Building and Sanity Checking [15 pt]\n",
    "\n",
    "### Part (a) Convolutional Network - 5 pt\n",
    "\n",
    "Build a convolutional neural network model that takes the (224x224 RGB) image as input, and predicts the gesture\n",
    "letter. Your model should be a subclass of nn.Module. Explain your choice of neural network architecture: how\n",
    "many layers did you choose? What types of layers did you use? Were they fully-connected or convolutional?\n",
    "What about other decisions like pooling layers, activation functions, number of channels / hidden units?"
   ]
  },
  {
   "cell_type": "code",
   "execution_count": 80,
   "metadata": {
    "colab": {},
    "colab_type": "code",
    "collapsed": true,
    "id": "2dtx1z5951fS",
    "jupyter": {
     "outputs_hidden": true
    }
   },
   "outputs": [
    {
     "data": {
      "text/plain": [
       "'\\n1. I chose 4 convolutional layers with increasing numbers of filters (64, 128\\n256, 512), as this helps in capturing various levels of abstraction\\n\\n2. I chose 2 separately fully connected layers with 1024 and 512 hidden units,\\nrespectively, allowing for learning combinations of the extracted featuers. \\nThe final fully connected layer maps these features to the output classes \\n(gesture letters).\\n\\n3. Pooling layers: reduce the spatial dimensions by half after each conv. layer\\n\\n4. Activation function: ReLU activation functions introduce non-linearity, which\\nis crucial for learning such patterns. \\n\\n'"
      ]
     },
     "execution_count": 80,
     "metadata": {},
     "output_type": "execute_result"
    }
   ],
   "source": [
    "import torch\n",
    "import torch.nn as nn\n",
    "import torch.nn.functional as F\n",
    "\n",
    "class ASLClassifier(nn.Module):\n",
    "    def __init__(self, num_classes = 9):\n",
    "        super(ASLClassifier, self).__init__()\n",
    "        self.name = \"ASLClassifier\"\n",
    "\n",
    "        # output (h and w) = (224 - 2*1 + 3) + 1 = 224 = input (h and w)\n",
    "\n",
    "        #Convolutional layers (increasing numbers of filters)\n",
    "        self.conv1 = nn.Conv2d(in_channels = 3, out_channels=64, \n",
    "                               kernel_size = 3, stride=1, padding=1)\n",
    "        self.conv2 = nn.Conv2d(in_channels = 64, out_channels=128, \n",
    "                               kernel_size = 3, stride=1, padding=1)\n",
    "        self.conv3 = nn.Conv2d(in_channels = 128, out_channels=256, \n",
    "                               kernel_size = 3, stride=1, padding=1)\n",
    "        self.conv4 = nn.Conv2d(in_channels = 256, out_channels=512, \n",
    "                               kernel_size = 3, stride=1, padding=1)\n",
    "        \n",
    "        #Max-pooling layers \n",
    "        #reducing spatial dimensinons by half after each layer\n",
    "        self.pool = nn.MaxPool2d(kernel_size=2, stride=2, padding=0)\n",
    "\n",
    "        # 224/(2^4) = 14\n",
    "\n",
    "        #Fully connected layers\n",
    "        self.fc1 = nn.Linear(in_features=512 * 14 * 14, out_features=1024)\n",
    "        self.fc2 = nn.Linear(in_features=1024, out_features=512)\n",
    "        self.fc3 = nn.Linear(in_features=512, out_features=num_classes)\n",
    "\n",
    "    def forward(self, x):\n",
    "        #Convlutional layers with ReLU and pooling\n",
    "        x = self.pool(F.relu(self.conv1(x)))\n",
    "        x = self.pool(F.relu(self.conv2(x)))\n",
    "        x = self.pool(F.relu(self.conv3(x)))\n",
    "        x = self.pool(F.relu(self.conv4(x)))\n",
    "\n",
    "        #Flatten the feature map\n",
    "        x = x.view(-1, 512*14*14)\n",
    "\n",
    "        #Fully connected layers with ReLU\n",
    "        x = F.relu(self.fc1(x))\n",
    "        x = F.relu(self.fc2(x))\n",
    "        x = self.fc3(x) #handled by loss fuction \n",
    "\n",
    "        return x\n",
    "\n",
    "model = ASLClassifier(num_classes=9)\n",
    "\n",
    "'''\n",
    "1. I chose 4 convolutional layers with increasing numbers of filters (64, 128\n",
    "256, 512), as this helps in capturing various levels of abstraction\n",
    "\n",
    "2. I chose 2 separately fully connected layers with 1024 and 512 hidden units,\n",
    "respectively, allowing for learning combinations of the extracted featuers. \n",
    "The final fully connected layer maps these features to the output classes \n",
    "(gesture letters).\n",
    "\n",
    "3. Pooling layers: reduce the spatial dimensions by half after each conv. layer\n",
    "\n",
    "4. Activation function: ReLU activation functions introduce non-linearity, which\n",
    "is crucial for learning such patterns. \n",
    "\n",
    "'''"
   ]
  },
  {
   "cell_type": "markdown",
   "metadata": {
    "colab_type": "text",
    "id": "XeGvelvb515e"
   },
   "source": [
    "### Part (b) Training Code - 5 pt\n",
    "\n",
    "Write code that trains your neural network given some training data. Your training code should make it easy\n",
    "to tweak the usual hyperparameters, like batch size, learning rate, and the model object itself. Make sure\n",
    "that you are checkpointing your models from time to time (the frequency is up to you). Explain your choice\n",
    "of loss function and optimizer."
   ]
  },
  {
   "cell_type": "code",
   "execution_count": 33,
   "metadata": {},
   "outputs": [],
   "source": [
    "import torchvision\n",
    "import torchvision.transforms as transforms\n",
    "from torchvision import datasets\n",
    "import torch.optim as optim\n",
    "import numpy as np\n",
    "import time\n",
    "from torch.utils.data.sampler import SubsetRandomSampler"
   ]
  },
  {
   "cell_type": "markdown",
   "metadata": {},
   "source": [
    "### Helper Functions (Inspired from Lab 2)"
   ]
  },
  {
   "cell_type": "code",
   "execution_count": 107,
   "metadata": {},
   "outputs": [],
   "source": [
    "###############################################################################\n",
    "# Data Loading\n",
    "\n",
    "def get_relevant_indices(dataset, classes, target_classes):\n",
    "    \"\"\" Return the indices for datapoints in the dataset that belongs to the\n",
    "    desired target classes, a subset of all possible classes.\n",
    "\n",
    "    Args:\n",
    "        dataset: Dataset object\n",
    "        classes: A list of strings denoting the name of each class\n",
    "        target_classes: A list of strings denoting the name of desired classes\n",
    "                        Should be a subset of the 'classes'\n",
    "    Returns:\n",
    "        indices: list of indices that have labels corresponding to one of the\n",
    "                 target classes\n",
    "    \"\"\"\n",
    "    indices = []\n",
    "    for i in range(len(dataset)):\n",
    "        # Check if the label is in the target classes\n",
    "        label_index = dataset[i][1] # ex: 3\n",
    "        label_class = classes[label_index] # ex: 'cat'\n",
    "        if label_class in target_classes:\n",
    "            indices.append(i)\n",
    "    return indices\n",
    "\n",
    "def get_data_loader(target_classes, batch_size):\n",
    "    \"\"\" Loads images of cats and dogs, splits the data into training, validation\n",
    "    and testing datasets. Returns data loaders for the three preprocessed datasets.\n",
    "\n",
    "    Args:\n",
    "        target_classes: A list of strings denoting the name of the desired\n",
    "                        classes. Should be a subset of the argument 'classes'\n",
    "        batch_size: A int representing the number of samples per batch\n",
    "    \n",
    "    Returns:\n",
    "        train_loader: iterable training dataset organized according to batch size\n",
    "        val_loader: iterable validation dataset organized according to batch size\n",
    "        test_loader: iterable testing dataset organized according to batch size\n",
    "        classes: A list of strings denoting the name of each class\n",
    "    \"\"\"\n",
    "\n",
    "    classes = ('A', 'B', 'C', 'D', 'E', 'F', 'G', 'H', 'I')\n",
    "    ########################################################################\n",
    "    # The output of torchvision datasets are PILImage images of range [0, 1].\n",
    "    # We transform them to Tensors of normalized range [-1, 1].\n",
    "    transform = transforms.Compose([\n",
    "        transforms.Resize((224,224)),\n",
    "        transforms.ToTensor(),\n",
    "         transforms.Normalize((0.485, 0.456, 0.406), (0.229, 0.224, 0.225))])\n",
    "    # Load training data\n",
    "    trainset = datasets.ImageFolder('/Users/harrynguyen/Documents/GitHub/APS360/Labs/3/asl_train',\n",
    "                                    transform=transform)\n",
    "    # Get the list of indices to sample from\n",
    "    relevant_indices = get_relevant_indices(trainset, classes, target_classes)\n",
    "    \n",
    "    # Split into train and validation\n",
    "    np.random.seed(1000) # Fixed numpy random seed for reproducible shuffling\n",
    "    np.random.shuffle(relevant_indices)\n",
    "    split = int(len(relevant_indices) * 0.8) #split at 80%\n",
    "    \n",
    "    # split into training and validation indices\n",
    "    relevant_train_indices, relevant_val_indices = relevant_indices[:split], relevant_indices[split:]  \n",
    "    train_sampler = SubsetRandomSampler(relevant_train_indices)\n",
    "    train_loader = torch.utils.data.DataLoader(trainset, batch_size=batch_size,\n",
    "                                               num_workers=1, sampler=train_sampler)\n",
    "    val_sampler = SubsetRandomSampler(relevant_val_indices)\n",
    "    val_loader = torch.utils.data.DataLoader(trainset, batch_size=batch_size,\n",
    "                                              num_workers=1, sampler=val_sampler)\n",
    "    # Load testing data\n",
    "    testset = datasets.ImageFolder('/Users/harrynguyen/Documents/GitHub/APS360/Labs/3/asl_test',\n",
    "                                   transform=transform)\n",
    "    # Get the list of indices to sample from\n",
    "    relevant_test_indices = get_relevant_indices(testset, classes, target_classes)\n",
    "    test_sampler = SubsetRandomSampler(relevant_test_indices)\n",
    "    test_loader = torch.utils.data.DataLoader(testset, batch_size=batch_size,\n",
    "                                             num_workers=1, sampler=test_sampler)\n",
    "    return train_loader, val_loader, test_loader, classes\n",
    "\n",
    "###############################################################################\n",
    "# Training\n",
    "def get_model_name(name, batch_size, learning_rate, epoch):\n",
    "    \"\"\" Generate a name for the model consisting of all the hyperparameter values\n",
    "\n",
    "    Args:\n",
    "        config: Configuration object containing the hyperparameters\n",
    "    Returns:\n",
    "        path: A string with the hyperparameter name and value concatenated\n",
    "    \"\"\"\n",
    "    path = \"model_{0}_bs{1}_lr{2}_epoch{3}\".format(name,\n",
    "                                                   batch_size,\n",
    "                                                   learning_rate,\n",
    "                                                   epoch)\n",
    "    return path\n",
    "\n",
    "def normalize_label(labels):\n",
    "    \"\"\"\n",
    "    Given a tensor containing 2 possible values, normalize this to 0/1\n",
    "\n",
    "    Args:\n",
    "        labels: a 1D tensor containing two possible scalar values\n",
    "    Returns:\n",
    "        A tensor normalize to 0/1 value\n",
    "    \"\"\"\n",
    "    max_val = torch.max(labels)\n",
    "    min_val = torch.min(labels)\n",
    "    norm_labels = ((labels - min_val)/(max_val - min_val))\n",
    "    return norm_labels\n",
    "\n",
    "def evaluate(net, loader, criterion):\n",
    "    \"\"\" Evaluate the network on the validation set.\n",
    "\n",
    "     Args:\n",
    "         net: PyTorch neural network object\n",
    "         loader: PyTorch data loader for the validation set\n",
    "         criterion: The loss function\n",
    "     Returns:\n",
    "         err: A scalar for the avg classification error over the validation set\n",
    "         loss: A scalar for the average loss function over the validation set\n",
    "     \"\"\"\n",
    "    net.eval()\n",
    "    total_loss = 0.0\n",
    "    total_err = 0.0\n",
    "    total_epoch = 0\n",
    "    with torch.no_grad():\n",
    "        for data in loader:\n",
    "            inputs, labels = data\n",
    "            labels = normalize_label(labels)\n",
    "            labels = labels.long() \n",
    "            outputs = net(inputs)\n",
    "            loss = criterion(outputs, labels.float())\n",
    "            corr = (outputs.argmax(dim=1) != labels).sum().item()\n",
    "            total_err += corr\n",
    "            total_loss += loss.item()\n",
    "            total_epoch += len(labels)\n",
    "    err = float(total_err) / total_epoch\n",
    "    loss = float(total_loss) / len(loader)\n",
    "    return err, loss\n",
    "\n",
    "def save_files(model_name, batch_size, learning_rate, epoch, checkpoint_dir, \n",
    "               train_err, train_loss, val_err=None, val_loss=None):\n",
    "    \"\"\"\n",
    "    Saves training and optionally validation error and loss to CSV files.\n",
    "\n",
    "    Args:\n",
    "        model_name (str): Name of the model.\n",
    "        batch_size (int): Batch size used during training.\n",
    "        learning_rate (float): Learning rate used during training.\n",
    "        epoch (int): Current epoch number.\n",
    "        checkpoint_dir (str): Directory to save the checkpoint files.\n",
    "        train_err (np.array): Array of training errors.\n",
    "        train_loss (np.array): Array of training losses.\n",
    "        val_err (np.array, optional): Array of validation errors.\n",
    "        val_loss (np.array, optional): Array of validation losses.\n",
    "    \"\"\"\n",
    "    model_path = get_model_name(model_name, batch_size, learning_rate, epoch)\n",
    "    \n",
    "    train_err_path = os.path.join(checkpoint_dir, f\"{model_path}_train_err.csv\")\n",
    "    train_loss_path = os.path.join(checkpoint_dir, f\"{model_path}_train_loss.csv\")\n",
    "    np.savetxt(train_err_path, train_err, delimiter=',')\n",
    "    np.savetxt(train_loss_path, train_loss, delimiter=',')\n",
    "    \n",
    "    if val_err is not None and val_loss is not None:\n",
    "        val_err_path = os.path.join(checkpoint_dir, f\"{model_path}_val_err.csv\")\n",
    "        val_loss_path = os.path.join(checkpoint_dir, f\"{model_path}_val_loss.csv\")\n",
    "        np.savetxt(val_err_path, val_err, delimiter=',')\n",
    "        np.savetxt(val_loss_path, val_loss, delimiter=',')\n",
    "\n",
    "###############################################################################\n",
    "# Training Curve\n",
    "def plot_training_curve(path, checkpoint_dir, smalldata = False):\n",
    "    import matplotlib.pyplot as plt\n",
    "    train_err_path = os.path.join(checkpoint_dir, f\"{path}_train_err.csv\")\n",
    "    train_loss_path = os.path.join(checkpoint_dir, f\"{path}_train_loss.csv\")\n",
    "    train_err = np.loadtxt(train_err_path, delimiter= ',')\n",
    "    train_loss = np.loadtxt(train_loss_path, delimiter= ',')\n",
    "    if not smalldata:\n",
    "        val_err_path = os.path.join(checkpoint_dir, f\"{path}_val_err.csv\")\n",
    "        val_loss_path = os.path.join(checkpoint_dir, f\"{path}_val_loss.csv\")\n",
    "        val_err = np.loadtxt(val_err_path, delimiter= ',')\n",
    "        val_loss = np.loadtxt(val_loss_path, delimiter= ',')\n",
    "        plt.title(\"Train vs Validation Error\")\n",
    "        n = len(train_err) # number of epochs\n",
    "        plt.plot(range(1,n+1), train_err, label=\"Train\")\n",
    "        plt.plot(range(1,n+1), val_err, label=\"Validation\")\n",
    "        plt.xlabel(\"Epoch\")\n",
    "        plt.ylabel(\"Error\")\n",
    "        plt.legend(loc='best')\n",
    "        plt.show()\n",
    "\n",
    "        plt.title(\"Train vs Validation Loss\")\n",
    "        plt.plot(range(1,n+1), train_loss, label=\"Train\")\n",
    "        plt.plot(range(1,n+1), val_loss, label=\"Validation\")\n",
    "        plt.xlabel(\"Epoch\")\n",
    "        plt.ylabel(\"Loss\")\n",
    "        plt.legend(loc='best')\n",
    "        plt.show()\n",
    "    else:\n",
    "        plt.title(\"Train Error and Train Loss\")\n",
    "        n = len(train_err)\n",
    "        plt.plot(range(1,n+1), train_err, label=\"Train Error\")\n",
    "        plt.plot(range(1,n+1), train_loss, label=\"Train Loss\")\n",
    "        plt.xlabel(\"Epoch\")\n",
    "        plt.ylabel(\"Value Ratio\")\n",
    "        plt.legend(loc='best')\n",
    "        plt.show()"
   ]
  },
  {
   "cell_type": "code",
   "execution_count": 108,
   "metadata": {
    "colab": {},
    "colab_type": "code",
    "collapsed": true,
    "id": "17YTQv4l54W1",
    "jupyter": {
     "outputs_hidden": true
    }
   },
   "outputs": [
    {
     "data": {
      "text/plain": [
       "'\\nChoice of Loss Function: Cross-Entroypy Loss\\n--> Chosen for its suitability for multi-class classification tasks,\\nproviding a measure of how well the predicted probabilities match \\nthe true class labels\\n\\nChoice of Optimizer: Adam\\n--> Chosen for its adaptive learning rate, combining the benefits of \\nAdaGrad and RMSProp, making it effective and efficient for training neural\\nnetworks'"
      ]
     },
     "execution_count": 108,
     "metadata": {},
     "output_type": "execute_result"
    }
   ],
   "source": [
    "def train_model(net, batch_size, learning_rate, num_epochs, checkpoint_frequency):\n",
    "    torch.manual_seed(1000)\n",
    "\n",
    "    train_loader, val_loader, test_loader, classes = get_data_loader(\n",
    "            target_classes=[\"A\", \"B\", \"C\", \"D\", \"E\", \"F\", \"G\", \"H\", \"I\"], batch_size=batch_size)\n",
    "    \n",
    "    # Define the Loss function and optimizer\n",
    "    criterion = nn.CrossEntropyLoss()\n",
    "    optimizer = optim.Adam(net.parameters(), lr=learning_rate)\n",
    "    \n",
    "    train_err = np.zeros(num_epochs)\n",
    "    train_loss = np.zeros(num_epochs)\n",
    "    val_err = np.zeros(num_epochs)\n",
    "    val_loss = np.zeros(num_epochs)\n",
    "    \n",
    "    # Create directories for checkpoints if they don't exist\n",
    "    checkpoint_dir = '/Users/harrynguyen/Documents/GitHub/APS360/Labs/3/model_checkpoint'\n",
    "    os.makedirs(checkpoint_dir, exist_ok=True)\n",
    "\n",
    "    start_time = time.time()\n",
    "    net.train()\n",
    "    for epoch in range(num_epochs):\n",
    "        total_train_loss = 0.0\n",
    "        total_train_err = 0.0\n",
    "        total_epoch = 0\n",
    "        \n",
    "        for i, data in enumerate(train_loader, 0):\n",
    "            inputs, labels = data\n",
    "            labels = labels.long()  # Convert labels to the required format\n",
    "            \n",
    "            optimizer.zero_grad()\n",
    "            outputs = net(inputs)\n",
    "            loss = criterion(outputs, labels)\n",
    "            loss.backward()\n",
    "            optimizer.step()\n",
    "            \n",
    "            corr = (outputs.argmax(dim=1) != labels).sum().item()\n",
    "            total_train_err += corr\n",
    "            total_train_loss += loss.item()\n",
    "            total_epoch += len(labels)\n",
    "        \n",
    "        train_err[epoch] = float(total_train_err) / total_epoch\n",
    "        train_loss[epoch] = float(total_train_loss) / (i + 1)\n",
    "        val_err[epoch], val_loss[epoch] = evaluate(net, val_loader, criterion)\n",
    "        print((\"Epoch {}: Train err: {}, Train loss: {} |\"+\n",
    "               \"Validation err: {}, Validation loss: {}\").format(\n",
    "                   epoch + 1,\n",
    "                   train_err[epoch],\n",
    "                   train_loss[epoch],\n",
    "                   val_err[epoch],\n",
    "                   val_loss[epoch]))\n",
    "        \n",
    "        # Save checkpoint\n",
    "        if (epoch + 1) % checkpoint_frequency == 0:\n",
    "            save_files(net.name, batch_size, learning_rate, epoch, checkpoint_dir,\n",
    "                       train_err, train_loss, val_err, val_loss)\n",
    "            print(f\"Model checkpoint saved at {epoch + 1}th epoch\")\n",
    "    \n",
    "    print('Finished Training')\n",
    "    end_time = time.time()\n",
    "    elapsed_time = end_time - start_time\n",
    "    print(f\"Total time elapsed: {elapsed_time:.2f} seconds\")\n",
    "    \n",
    "    # # Save metrics to CSV\n",
    "    # epochs = np.arange(1, num_epochs + 1)\n",
    "    # np.savetxt(f\"{checkpoint_dir}/train_err.csv\", train_err, delimiter=',')\n",
    "    # np.savetxt(f\"{checkpoint_dir}/train_loss.csv\", train_loss, delimiter=',')\n",
    "    # np.savetxt(f\"{checkpoint_dir}/val_err.csv\", val_err, delimiter=',')\n",
    "    # np.savetxt(f\"{checkpoint_dir}/val_loss.csv\", val_loss, delimiter=',')\n",
    "    \n",
    "    return net, train_err, train_loss, val_err, val_loss\n",
    "\n",
    "\n",
    "'''\n",
    "Choice of Loss Function: Cross-Entroypy Loss\n",
    "--> Chosen for its suitability for multi-class classification tasks,\n",
    "providing a measure of how well the predicted probabilities match \n",
    "the true class labels\n",
    "\n",
    "Choice of Optimizer: Adam\n",
    "--> Chosen for its adaptive learning rate, combining the benefits of \n",
    "AdaGrad and RMSProp, making it effective and efficient for training neural\n",
    "networks'''"
   ]
  },
  {
   "cell_type": "markdown",
   "metadata": {
    "colab_type": "text",
    "id": "bk1RNgAj54rZ"
   },
   "source": [
    "### Part (c) “Overfit” to a Small Dataset - 5 pt\n",
    "\n",
    "One way to sanity check our neural network model and training code is to check whether the model is capable\n",
    "of “overfitting” or “memorizing” a small dataset. A properly constructed CNN with correct training code\n",
    "should be able to memorize the answers to a small number of images quickly.\n",
    "\n",
    "Construct a small dataset (e.g. just the images that you have collected). Then show that your model and\n",
    "training code is capable of memorizing the labels of this small data set.\n",
    "\n",
    "With a large batch size (e.g. the entire small dataset) and learning rate that is not too high, You should be\n",
    "able to obtain a 100% training accuracy on that small dataset relatively quickly (within 200 iterations)."
   ]
  },
  {
   "cell_type": "code",
   "execution_count": 82,
   "metadata": {
    "colab": {},
    "colab_type": "code",
    "collapsed": true,
    "id": "lXYRBhQO6d3u",
    "jupyter": {
     "outputs_hidden": true
    }
   },
   "outputs": [],
   "source": [
    "def get_small_data_loader(batch_size):\n",
    "    classes = ('A', 'B', 'C', 'D', 'E', 'F', 'G', 'H', 'I')\n",
    "\n",
    "    transform = transforms.Compose([\n",
    "        transforms.Resize((224,224)),\n",
    "        transforms.ToTensor(),\n",
    "        transforms.Normalize(mean=[0.485, 0.456, 0.406],\n",
    "                             std=[0.229, 0.224, 0.225])\n",
    "    ])\n",
    "\n",
    "    #Loadd small dataset\n",
    "    small_dataset = datasets.ImageFolder('/Users/harrynguyen/Documents/GitHub/APS360/Labs/3/small_dataset',\n",
    "                                         transform=transform)\n",
    "    small_loader = torch.utils.data.DataLoader(small_dataset, \n",
    "                                               batch_size=batch_size, \n",
    "                                               shuffle=True,\n",
    "                                                num_workers=1)\n",
    "    return small_loader, classes"
   ]
  },
  {
   "cell_type": "code",
   "execution_count": 83,
   "metadata": {},
   "outputs": [],
   "source": [
    "def train_on_small_dataset(net, batch_size = 8, learning_rate=0.001, num_epochs=20):\n",
    "    # Fixed PyTorch random seed for reproducibility\n",
    "    torch.manual_seed(1000)\n",
    "    \n",
    "    # Obtain the small dataset loader\n",
    "    small_loader, classes = get_small_data_loader(batch_size=batch_size)\n",
    "    \n",
    "    # Define the Loss function and optimizer\n",
    "    criterion = nn.CrossEntropyLoss()\n",
    "    optimizer = optim.Adam(net.parameters(), lr=learning_rate)\n",
    "\n",
    "    train_err = np.zeros(num_epochs)\n",
    "    train_loss = np.zeros(num_epochs)\n",
    "    \n",
    "    checkpoint_dir = '/Users/harrynguyen/Documents/GitHub/APS360/Labs/3/small_checkpoint'\n",
    "    os.makedirs(checkpoint_dir, exist_ok=True)\n",
    "\n",
    "    net.train()\n",
    "    for epoch in range(num_epochs):\n",
    "        total_train_loss = 0.0\n",
    "        total_train_err = 0.0\n",
    "        total_epoch = 0\n",
    "        \n",
    "        for i, data in enumerate(small_loader, 0):\n",
    "            inputs, labels = data\n",
    "            labels = labels.long()  # Convert labels to Long type\n",
    "            \n",
    "            optimizer.zero_grad()\n",
    "            outputs = net(inputs)\n",
    "            loss = criterion(outputs, labels)\n",
    "            loss.backward()\n",
    "            optimizer.step()\n",
    "            \n",
    "            corr = (outputs.argmax(dim=1) != labels).sum().item()\n",
    "            total_train_err += corr\n",
    "            total_train_loss += loss.item()\n",
    "            total_epoch += len(labels)\n",
    "        \n",
    "        train_err[epoch] = float(total_train_err) / total_epoch\n",
    "        train_loss[epoch] = float(total_train_loss) / (i + 1)\n",
    "        \n",
    "        print(f\"Epoch {epoch + 1}: Train err: {train_err[epoch]}, Train loss: {train_loss[epoch]}\")\n",
    "        \n",
    "        # Check if training error is zero (i.e., model has overfitted)\n",
    "        if train_err[epoch] == 0.0:\n",
    "            print(f\"Model has memorized the dataset in {epoch + 1} epochs.\")\n",
    "            break\n",
    "    \n",
    "        # model_path = get_model_name(net.name, batch_size, learning_rate, epoch)\n",
    "        # torch.save(net.state_dict(), model_path)\n",
    "    print('Finished Training on Small Dataset')\n",
    "\n",
    "    #Save metrics to CSV\n",
    "    model_path = get_model_name(net.name, batch_size, learning_rate, epoch)\n",
    "    train_err_path = os.path.join(checkpoint_dir, f\"{model_path}_train_err.csv\")\n",
    "    train_loss_path = os.path.join(checkpoint_dir, f\"{model_path}_train_loss.csv\")\n",
    "    epochs = np.arange(1, num_epochs + 1)\n",
    "    np.savetxt(train_err_path, train_err, delimiter= ',')\n",
    "    np.savetxt(train_loss_path, train_loss, delimiter= ',')\n",
    "\n",
    "    return net, train_err, train_loss\n",
    "\n",
    "\n",
    "# Example of how to call train_on_small_dataset\n",
    "# Assume net is an instance of the ASLClassifier model\n",
    "# train_on_small_dataset(net)\n"
   ]
  },
  {
   "cell_type": "code",
   "execution_count": 91,
   "metadata": {},
   "outputs": [
    {
     "name": "stdout",
     "output_type": "stream",
     "text": [
      "Epoch 1: Train err: 0.8888888888888888, Train loss: 2.5234713554382324\n",
      "Epoch 2: Train err: 0.8888888888888888, Train loss: 2.2069159348805747\n",
      "Epoch 3: Train err: 0.9111111111111111, Train loss: 2.1965991059939065\n",
      "Epoch 4: Train err: 0.8222222222222222, Train loss: 2.063323676586151\n",
      "Epoch 5: Train err: 0.6444444444444445, Train loss: 1.8076063593228657\n",
      "Epoch 6: Train err: 0.45555555555555555, Train loss: 1.3915549019972484\n",
      "Epoch 7: Train err: 0.28888888888888886, Train loss: 1.3775867174069087\n",
      "Epoch 8: Train err: 0.3, Train loss: 0.7074908781796694\n",
      "Epoch 9: Train err: 0.28888888888888886, Train loss: 0.7543661370873451\n",
      "Epoch 10: Train err: 0.15555555555555556, Train loss: 0.3971026645352443\n",
      "Epoch 11: Train err: 0.13333333333333333, Train loss: 0.31333390654375154\n",
      "Epoch 12: Train err: 0.06666666666666667, Train loss: 0.15863611735403538\n",
      "Epoch 13: Train err: 0.03333333333333333, Train loss: 0.07195909054280492\n",
      "Epoch 14: Train err: 0.07777777777777778, Train loss: 0.5381678578123683\n",
      "Epoch 15: Train err: 0.1111111111111111, Train loss: 0.29668988784154254\n",
      "Epoch 16: Train err: 0.05555555555555555, Train loss: 0.16076748252574666\n",
      "Epoch 17: Train err: 0.08888888888888889, Train loss: 0.2771379967064907\n",
      "Epoch 18: Train err: 0.15555555555555556, Train loss: 0.9676114555137852\n",
      "Epoch 19: Train err: 0.06666666666666667, Train loss: 0.3618133223305146\n",
      "Epoch 20: Train err: 0.044444444444444446, Train loss: 0.09896044247579994\n",
      "Finished Training on Small Dataset\n"
     ]
    }
   ],
   "source": [
    "small_model = ASLClassifier()\n",
    "small_model, train_err, train_loss = train_on_small_dataset(small_model)\n"
   ]
  },
  {
   "cell_type": "code",
   "execution_count": 92,
   "metadata": {},
   "outputs": [
    {
     "data": {
      "image/png": "[encoded data removed]",
      "text/plain": [
       "<Figure size 640x480 with 1 Axes>"
      ]
     },
     "metadata": {},
     "output_type": "display_data"
    }
   ],
   "source": [
    "small_model_path = get_model_name(small_model.name, 8, 0.001, 19)\n",
    "checkpoint_dir = '/Users/harrynguyen/Documents/GitHub/APS360/Labs/3/small_checkpoint'\n",
    "plot_training_curve(small_model_path, checkpoint_dir, smalldata=True)"
   ]
  },
  {
   "cell_type": "markdown",
   "metadata": {
    "colab_type": "text",
    "id": "nvDLw-Vz6eVS"
   },
   "source": [
    "### 3. Hyperparameter Search [15 pt]\n",
    "\n",
    "### Part (a) - 3 pt\n",
    "\n",
    "List 3 hyperparameters that you think are most worth tuning. Choose at least one hyperparameter related to\n",
    "the model architecture."
   ]
  },
  {
   "cell_type": "code",
   "execution_count": null,
   "metadata": {
    "colab": {},
    "colab_type": "code",
    "collapsed": true,
    "id": "HXRQbgMqR_Qy",
    "jupyter": {
     "outputs_hidden": true
    }
   },
   "outputs": [],
   "source": [
    "'''\n",
    "3 hyperpameters that I think are most worth tuning are:\n",
    "- Learning Rate: determines the size of the steps taken during gradient\n",
    "                 descent to minimize loss function. Tuning range is \n",
    "                 between 10^-3 to 10^-1.\n",
    "- Batch Size:    defines the number of samples that will be propagated\n",
    "                 through the network at one time. Common values (used\n",
    "                 for tuning) are 16, 32, 64, 128, etc.\n",
    "- Number of Filters in Convolutional Layers: \n",
    "                 This hyperparameter is related to the model architecture.\n",
    "                 It affects the capacity of the network to learn different \n",
    "                 features from the input data. Common values are the power\n",
    "                 of 2, such as 32, 64, 128, etc.\n",
    "'''"
   ]
  },
  {
   "cell_type": "markdown",
   "metadata": {
    "colab_type": "text",
    "id": "zeD6EzPB6kSW"
   },
   "source": [
    "### Part (b) - 5 pt\n",
    "\n",
    "Tune the hyperparameters you listed in Part (a), trying as many values as you need to until you feel satisfied\n",
    "that you are getting a good model. Plot the training curve of at least 4 different hyperparameter settings."
   ]
  },
  {
   "cell_type": "code",
   "execution_count": 99,
   "metadata": {
    "colab": {},
    "colab_type": "code",
    "collapsed": true,
    "id": "UkvdR-cB6nzm",
    "jupyter": {
     "outputs_hidden": true
    }
   },
   "outputs": [],
   "source": [
    "import matplotlib.pyplot as plt\n",
    "import torch.optim as optim\n",
    "import torch.nn as nn\n",
    "import numpy as np\n",
    "import os\n",
    "\n",
    "# Function to train and evaluate the model\n",
    "def train_and_evaluate_model(learning_rate, batch_size, num_filters, epochs, checkpoint_frequency):\n",
    "    class CustomASLClassifier(nn.Module):\n",
    "        def __init__(self, num_classes=9):\n",
    "            super(CustomASLClassifier, self).__init__()\n",
    "            self.conv1 = nn.Conv2d(3, num_filters, kernel_size=3, stride=1, padding=1)\n",
    "            self.conv2 = nn.Conv2d(num_filters, num_filters*2, kernel_size=3, stride=1, padding=1)\n",
    "            self.conv3 = nn.Conv2d(num_filters*2, num_filters*4, kernel_size=3, stride=1, padding=1)\n",
    "            self.conv4 = nn.Conv2d(num_filters*4, num_filters*8, kernel_size=3, stride=1, padding=1)\n",
    "            self.pool = nn.MaxPool2d(kernel_size=2, stride=2, padding=0)\n",
    "            self.fc1 = nn.Linear(num_filters*8 * 14 * 14, 1024)\n",
    "            self.fc2 = nn.Linear(1024, 512)\n",
    "            self.fc3 = nn.Linear(512, num_classes)\n",
    "        \n",
    "        def forward(self, x):\n",
    "            x = self.pool(F.relu(self.conv1(x)))\n",
    "            x = self.pool(F.relu(self.conv2(x)))\n",
    "            x = self.pool(F.relu(self.conv3(x)))\n",
    "            x = self.pool(F.relu(self.conv4(x)))\n",
    "            x = x.view(-1, num_filters*8 * 14 * 14)\n",
    "            x = F.relu(self.fc1(x))\n",
    "            x = F.relu(self.fc2(x))\n",
    "            x = self.fc3(x)\n",
    "            return x\n",
    "\n",
    "    # Initialize model, train and evaluate\n",
    "    model = CustomASLClassifier()\n",
    "    train_err, train_loss, val_err, val_loss = train_model(model, batch_size, learning_rate, epochs, \n",
    "                                                           checkpoint_frequency)\n",
    "    \n",
    "    return train_err, train_loss, val_err, val_loss\n",
    "\n",
    "\n"
   ]
  },
  {
   "cell_type": "code",
   "execution_count": 109,
   "metadata": {},
   "outputs": [
    {
     "ename": "RuntimeError",
     "evalue": "expected scalar type Long but found Float",
     "output_type": "error",
     "traceback": [
      "\u001b[0;31m---------------------------------------------------------------------------\u001b[0m",
      "\u001b[0;31mRuntimeError\u001b[0m                              Traceback (most recent call last)",
      "Cell \u001b[0;32mIn[109], line 13\u001b[0m\n\u001b[1;32m     11\u001b[0m \u001b[38;5;66;03m# Train and evaluate models with different hyperparameter settings\u001b[39;00m\n\u001b[1;32m     12\u001b[0m \u001b[38;5;28;01mfor\u001b[39;00m params \u001b[38;5;129;01min\u001b[39;00m hyperparams:\n\u001b[0;32m---> 13\u001b[0m     train_err, train_loss, val_err, val_loss \u001b[38;5;241m=\u001b[39m \u001b[43mtrain_and_evaluate_model\u001b[49m\u001b[43m(\u001b[49m\n\u001b[1;32m     14\u001b[0m \u001b[43m        \u001b[49m\u001b[43mparams\u001b[49m\u001b[43m[\u001b[49m\u001b[38;5;124;43m'\u001b[39;49m\u001b[38;5;124;43mlearning_rate\u001b[39;49m\u001b[38;5;124;43m'\u001b[39;49m\u001b[43m]\u001b[49m\u001b[43m,\u001b[49m\u001b[43m \u001b[49m\u001b[43mparams\u001b[49m\u001b[43m[\u001b[49m\u001b[38;5;124;43m'\u001b[39;49m\u001b[38;5;124;43mbatch_size\u001b[39;49m\u001b[38;5;124;43m'\u001b[39;49m\u001b[43m]\u001b[49m\u001b[43m,\u001b[49m\u001b[43m \u001b[49m\u001b[43mparams\u001b[49m\u001b[43m[\u001b[49m\u001b[38;5;124;43m'\u001b[39;49m\u001b[38;5;124;43mnum_filters\u001b[39;49m\u001b[38;5;124;43m'\u001b[39;49m\u001b[43m]\u001b[49m\u001b[43m,\u001b[49m\n\u001b[1;32m     15\u001b[0m \u001b[43m        \u001b[49m\u001b[43mepochs\u001b[49m\u001b[38;5;241;43m=\u001b[39;49m\u001b[38;5;241;43m20\u001b[39;49m\u001b[43m,\u001b[49m\u001b[43m \u001b[49m\u001b[43mcheckpoint_frequency\u001b[49m\u001b[38;5;241;43m=\u001b[39;49m\u001b[38;5;241;43m5\u001b[39;49m\u001b[43m)\u001b[49m\n\u001b[1;32m     16\u001b[0m     results\u001b[38;5;241m.\u001b[39mappend({\n\u001b[1;32m     17\u001b[0m         \u001b[38;5;124m'\u001b[39m\u001b[38;5;124mparams\u001b[39m\u001b[38;5;124m'\u001b[39m: params,\n\u001b[1;32m     18\u001b[0m         \u001b[38;5;124m'\u001b[39m\u001b[38;5;124mtrain_err\u001b[39m\u001b[38;5;124m'\u001b[39m: train_err,\n\u001b[0;32m   (...)\u001b[0m\n\u001b[1;32m     21\u001b[0m         \u001b[38;5;124m'\u001b[39m\u001b[38;5;124mval_loss\u001b[39m\u001b[38;5;124m'\u001b[39m: val_loss\n\u001b[1;32m     22\u001b[0m     })\n",
      "Cell \u001b[0;32mIn[99], line 34\u001b[0m, in \u001b[0;36mtrain_and_evaluate_model\u001b[0;34m(learning_rate, batch_size, num_filters, epochs, checkpoint_frequency)\u001b[0m\n\u001b[1;32m     32\u001b[0m \u001b[38;5;66;03m# Initialize model, train and evaluate\u001b[39;00m\n\u001b[1;32m     33\u001b[0m model \u001b[38;5;241m=\u001b[39m CustomASLClassifier()\n\u001b[0;32m---> 34\u001b[0m train_err, train_loss, val_err, val_loss \u001b[38;5;241m=\u001b[39m \u001b[43mtrain_model\u001b[49m\u001b[43m(\u001b[49m\u001b[43mmodel\u001b[49m\u001b[43m,\u001b[49m\u001b[43m \u001b[49m\u001b[43mbatch_size\u001b[49m\u001b[43m,\u001b[49m\u001b[43m \u001b[49m\u001b[43mlearning_rate\u001b[49m\u001b[43m,\u001b[49m\u001b[43m \u001b[49m\u001b[43mepochs\u001b[49m\u001b[43m,\u001b[49m\u001b[43m \u001b[49m\n\u001b[1;32m     35\u001b[0m \u001b[43m                                                       \u001b[49m\u001b[43mcheckpoint_frequency\u001b[49m\u001b[43m)\u001b[49m\n\u001b[1;32m     37\u001b[0m \u001b[38;5;28;01mreturn\u001b[39;00m train_err, train_loss, val_err, val_loss\n",
      "Cell \u001b[0;32mIn[108], line 44\u001b[0m, in \u001b[0;36mtrain_model\u001b[0;34m(net, batch_size, learning_rate, num_epochs, checkpoint_frequency)\u001b[0m\n\u001b[1;32m     42\u001b[0m train_err[epoch] \u001b[38;5;241m=\u001b[39m \u001b[38;5;28mfloat\u001b[39m(total_train_err) \u001b[38;5;241m/\u001b[39m total_epoch\n\u001b[1;32m     43\u001b[0m train_loss[epoch] \u001b[38;5;241m=\u001b[39m \u001b[38;5;28mfloat\u001b[39m(total_train_loss) \u001b[38;5;241m/\u001b[39m (i \u001b[38;5;241m+\u001b[39m \u001b[38;5;241m1\u001b[39m)\n\u001b[0;32m---> 44\u001b[0m val_err[epoch], val_loss[epoch] \u001b[38;5;241m=\u001b[39m \u001b[43mevaluate\u001b[49m\u001b[43m(\u001b[49m\u001b[43mnet\u001b[49m\u001b[43m,\u001b[49m\u001b[43m \u001b[49m\u001b[43mval_loader\u001b[49m\u001b[43m,\u001b[49m\u001b[43m \u001b[49m\u001b[43mcriterion\u001b[49m\u001b[43m)\u001b[49m\n\u001b[1;32m     45\u001b[0m \u001b[38;5;28mprint\u001b[39m((\u001b[38;5;124m\"\u001b[39m\u001b[38;5;124mEpoch \u001b[39m\u001b[38;5;132;01m{}\u001b[39;00m\u001b[38;5;124m: Train err: \u001b[39m\u001b[38;5;132;01m{}\u001b[39;00m\u001b[38;5;124m, Train loss: \u001b[39m\u001b[38;5;132;01m{}\u001b[39;00m\u001b[38;5;124m |\u001b[39m\u001b[38;5;124m\"\u001b[39m\u001b[38;5;241m+\u001b[39m\n\u001b[1;32m     46\u001b[0m        \u001b[38;5;124m\"\u001b[39m\u001b[38;5;124mValidation err: \u001b[39m\u001b[38;5;132;01m{}\u001b[39;00m\u001b[38;5;124m, Validation loss: \u001b[39m\u001b[38;5;132;01m{}\u001b[39;00m\u001b[38;5;124m\"\u001b[39m)\u001b[38;5;241m.\u001b[39mformat(\n\u001b[1;32m     47\u001b[0m            epoch \u001b[38;5;241m+\u001b[39m \u001b[38;5;241m1\u001b[39m,\n\u001b[0;32m   (...)\u001b[0m\n\u001b[1;32m     50\u001b[0m            val_err[epoch],\n\u001b[1;32m     51\u001b[0m            val_loss[epoch]))\n\u001b[1;32m     53\u001b[0m \u001b[38;5;66;03m# Save checkpoint\u001b[39;00m\n",
      "Cell \u001b[0;32mIn[107], line 130\u001b[0m, in \u001b[0;36mevaluate\u001b[0;34m(net, loader, criterion)\u001b[0m\n\u001b[1;32m    128\u001b[0m labels \u001b[38;5;241m=\u001b[39m labels\u001b[38;5;241m.\u001b[39mlong() \n\u001b[1;32m    129\u001b[0m outputs \u001b[38;5;241m=\u001b[39m net(inputs)\n\u001b[0;32m--> 130\u001b[0m loss \u001b[38;5;241m=\u001b[39m \u001b[43mcriterion\u001b[49m\u001b[43m(\u001b[49m\u001b[43moutputs\u001b[49m\u001b[43m,\u001b[49m\u001b[43m \u001b[49m\u001b[43mlabels\u001b[49m\u001b[38;5;241;43m.\u001b[39;49m\u001b[43mfloat\u001b[49m\u001b[43m(\u001b[49m\u001b[43m)\u001b[49m\u001b[43m)\u001b[49m\n\u001b[1;32m    131\u001b[0m corr \u001b[38;5;241m=\u001b[39m (outputs\u001b[38;5;241m.\u001b[39margmax(dim\u001b[38;5;241m=\u001b[39m\u001b[38;5;241m1\u001b[39m) \u001b[38;5;241m!=\u001b[39m labels)\u001b[38;5;241m.\u001b[39msum()\u001b[38;5;241m.\u001b[39mitem()\n\u001b[1;32m    132\u001b[0m total_err \u001b[38;5;241m+\u001b[39m\u001b[38;5;241m=\u001b[39m corr\n",
      "File \u001b[0;32m/Library/Frameworks/Python.framework/Versions/3.12/lib/python3.12/site-packages/torch/nn/modules/module.py:1511\u001b[0m, in \u001b[0;36mModule._wrapped_call_impl\u001b[0;34m(self, *args, **kwargs)\u001b[0m\n\u001b[1;32m   1509\u001b[0m     \u001b[38;5;28;01mreturn\u001b[39;00m \u001b[38;5;28mself\u001b[39m\u001b[38;5;241m.\u001b[39m_compiled_call_impl(\u001b[38;5;241m*\u001b[39margs, \u001b[38;5;241m*\u001b[39m\u001b[38;5;241m*\u001b[39mkwargs)  \u001b[38;5;66;03m# type: ignore[misc]\u001b[39;00m\n\u001b[1;32m   1510\u001b[0m \u001b[38;5;28;01melse\u001b[39;00m:\n\u001b[0;32m-> 1511\u001b[0m     \u001b[38;5;28;01mreturn\u001b[39;00m \u001b[38;5;28;43mself\u001b[39;49m\u001b[38;5;241;43m.\u001b[39;49m\u001b[43m_call_impl\u001b[49m\u001b[43m(\u001b[49m\u001b[38;5;241;43m*\u001b[39;49m\u001b[43margs\u001b[49m\u001b[43m,\u001b[49m\u001b[43m \u001b[49m\u001b[38;5;241;43m*\u001b[39;49m\u001b[38;5;241;43m*\u001b[39;49m\u001b[43mkwargs\u001b[49m\u001b[43m)\u001b[49m\n",
      "File \u001b[0;32m/Library/Frameworks/Python.framework/Versions/3.12/lib/python3.12/site-packages/torch/nn/modules/module.py:1520\u001b[0m, in \u001b[0;36mModule._call_impl\u001b[0;34m(self, *args, **kwargs)\u001b[0m\n\u001b[1;32m   1515\u001b[0m \u001b[38;5;66;03m# If we don't have any hooks, we want to skip the rest of the logic in\u001b[39;00m\n\u001b[1;32m   1516\u001b[0m \u001b[38;5;66;03m# this function, and just call forward.\u001b[39;00m\n\u001b[1;32m   1517\u001b[0m \u001b[38;5;28;01mif\u001b[39;00m \u001b[38;5;129;01mnot\u001b[39;00m (\u001b[38;5;28mself\u001b[39m\u001b[38;5;241m.\u001b[39m_backward_hooks \u001b[38;5;129;01mor\u001b[39;00m \u001b[38;5;28mself\u001b[39m\u001b[38;5;241m.\u001b[39m_backward_pre_hooks \u001b[38;5;129;01mor\u001b[39;00m \u001b[38;5;28mself\u001b[39m\u001b[38;5;241m.\u001b[39m_forward_hooks \u001b[38;5;129;01mor\u001b[39;00m \u001b[38;5;28mself\u001b[39m\u001b[38;5;241m.\u001b[39m_forward_pre_hooks\n\u001b[1;32m   1518\u001b[0m         \u001b[38;5;129;01mor\u001b[39;00m _global_backward_pre_hooks \u001b[38;5;129;01mor\u001b[39;00m _global_backward_hooks\n\u001b[1;32m   1519\u001b[0m         \u001b[38;5;129;01mor\u001b[39;00m _global_forward_hooks \u001b[38;5;129;01mor\u001b[39;00m _global_forward_pre_hooks):\n\u001b[0;32m-> 1520\u001b[0m     \u001b[38;5;28;01mreturn\u001b[39;00m \u001b[43mforward_call\u001b[49m\u001b[43m(\u001b[49m\u001b[38;5;241;43m*\u001b[39;49m\u001b[43margs\u001b[49m\u001b[43m,\u001b[49m\u001b[43m \u001b[49m\u001b[38;5;241;43m*\u001b[39;49m\u001b[38;5;241;43m*\u001b[39;49m\u001b[43mkwargs\u001b[49m\u001b[43m)\u001b[49m\n\u001b[1;32m   1522\u001b[0m \u001b[38;5;28;01mtry\u001b[39;00m:\n\u001b[1;32m   1523\u001b[0m     result \u001b[38;5;241m=\u001b[39m \u001b[38;5;28;01mNone\u001b[39;00m\n",
      "File \u001b[0;32m/Library/Frameworks/Python.framework/Versions/3.12/lib/python3.12/site-packages/torch/nn/modules/loss.py:1179\u001b[0m, in \u001b[0;36mCrossEntropyLoss.forward\u001b[0;34m(self, input, target)\u001b[0m\n\u001b[1;32m   1178\u001b[0m \u001b[38;5;28;01mdef\u001b[39;00m \u001b[38;5;21mforward\u001b[39m(\u001b[38;5;28mself\u001b[39m, \u001b[38;5;28minput\u001b[39m: Tensor, target: Tensor) \u001b[38;5;241m-\u001b[39m\u001b[38;5;241m>\u001b[39m Tensor:\n\u001b[0;32m-> 1179\u001b[0m     \u001b[38;5;28;01mreturn\u001b[39;00m \u001b[43mF\u001b[49m\u001b[38;5;241;43m.\u001b[39;49m\u001b[43mcross_entropy\u001b[49m\u001b[43m(\u001b[49m\u001b[38;5;28;43minput\u001b[39;49m\u001b[43m,\u001b[49m\u001b[43m \u001b[49m\u001b[43mtarget\u001b[49m\u001b[43m,\u001b[49m\u001b[43m \u001b[49m\u001b[43mweight\u001b[49m\u001b[38;5;241;43m=\u001b[39;49m\u001b[38;5;28;43mself\u001b[39;49m\u001b[38;5;241;43m.\u001b[39;49m\u001b[43mweight\u001b[49m\u001b[43m,\u001b[49m\n\u001b[1;32m   1180\u001b[0m \u001b[43m                           \u001b[49m\u001b[43mignore_index\u001b[49m\u001b[38;5;241;43m=\u001b[39;49m\u001b[38;5;28;43mself\u001b[39;49m\u001b[38;5;241;43m.\u001b[39;49m\u001b[43mignore_index\u001b[49m\u001b[43m,\u001b[49m\u001b[43m \u001b[49m\u001b[43mreduction\u001b[49m\u001b[38;5;241;43m=\u001b[39;49m\u001b[38;5;28;43mself\u001b[39;49m\u001b[38;5;241;43m.\u001b[39;49m\u001b[43mreduction\u001b[49m\u001b[43m,\u001b[49m\n\u001b[1;32m   1181\u001b[0m \u001b[43m                           \u001b[49m\u001b[43mlabel_smoothing\u001b[49m\u001b[38;5;241;43m=\u001b[39;49m\u001b[38;5;28;43mself\u001b[39;49m\u001b[38;5;241;43m.\u001b[39;49m\u001b[43mlabel_smoothing\u001b[49m\u001b[43m)\u001b[49m\n",
      "File \u001b[0;32m/Library/Frameworks/Python.framework/Versions/3.12/lib/python3.12/site-packages/torch/nn/functional.py:3059\u001b[0m, in \u001b[0;36mcross_entropy\u001b[0;34m(input, target, weight, size_average, ignore_index, reduce, reduction, label_smoothing)\u001b[0m\n\u001b[1;32m   3057\u001b[0m \u001b[38;5;28;01mif\u001b[39;00m size_average \u001b[38;5;129;01mis\u001b[39;00m \u001b[38;5;129;01mnot\u001b[39;00m \u001b[38;5;28;01mNone\u001b[39;00m \u001b[38;5;129;01mor\u001b[39;00m reduce \u001b[38;5;129;01mis\u001b[39;00m \u001b[38;5;129;01mnot\u001b[39;00m \u001b[38;5;28;01mNone\u001b[39;00m:\n\u001b[1;32m   3058\u001b[0m     reduction \u001b[38;5;241m=\u001b[39m _Reduction\u001b[38;5;241m.\u001b[39mlegacy_get_string(size_average, reduce)\n\u001b[0;32m-> 3059\u001b[0m \u001b[38;5;28;01mreturn\u001b[39;00m \u001b[43mtorch\u001b[49m\u001b[38;5;241;43m.\u001b[39;49m\u001b[43m_C\u001b[49m\u001b[38;5;241;43m.\u001b[39;49m\u001b[43m_nn\u001b[49m\u001b[38;5;241;43m.\u001b[39;49m\u001b[43mcross_entropy_loss\u001b[49m\u001b[43m(\u001b[49m\u001b[38;5;28;43minput\u001b[39;49m\u001b[43m,\u001b[49m\u001b[43m \u001b[49m\u001b[43mtarget\u001b[49m\u001b[43m,\u001b[49m\u001b[43m \u001b[49m\u001b[43mweight\u001b[49m\u001b[43m,\u001b[49m\u001b[43m \u001b[49m\u001b[43m_Reduction\u001b[49m\u001b[38;5;241;43m.\u001b[39;49m\u001b[43mget_enum\u001b[49m\u001b[43m(\u001b[49m\u001b[43mreduction\u001b[49m\u001b[43m)\u001b[49m\u001b[43m,\u001b[49m\u001b[43m \u001b[49m\u001b[43mignore_index\u001b[49m\u001b[43m,\u001b[49m\u001b[43m \u001b[49m\u001b[43mlabel_smoothing\u001b[49m\u001b[43m)\u001b[49m\n",
      "\u001b[0;31mRuntimeError\u001b[0m: expected scalar type Long but found Float"
     ]
    }
   ],
   "source": [
    "# Hyperparameter settings to try\n",
    "hyperparams = [\n",
    "    {'learning_rate': 0.001, 'batch_size': 32, 'num_filters': 32},\n",
    "    {'learning_rate': 0.001, 'batch_size': 64, 'num_filters': 64},\n",
    "    {'learning_rate': 0.01, 'batch_size': 64, 'num_filters': 64},\n",
    "    {'learning_rate': 0.01, 'batch_size': 128, 'num_filters': 128},\n",
    "]\n",
    "\n",
    "results = []\n",
    "\n",
    "# Train and evaluate models with different hyperparameter settings\n",
    "for params in hyperparams:\n",
    "    train_err, train_loss, val_err, val_loss = train_and_evaluate_model(\n",
    "        params['learning_rate'], params['batch_size'], params['num_filters'],\n",
    "        epochs=20, checkpoint_frequency=5)\n",
    "    results.append({\n",
    "        'params': params,\n",
    "        'train_err': train_err,\n",
    "        'train_loss': train_loss,\n",
    "        'val_err': val_err,\n",
    "        'val_loss': val_loss\n",
    "    })"
   ]
  },
  {
   "cell_type": "code",
   "execution_count": null,
   "metadata": {},
   "outputs": [],
   "source": [
    "# Plotting the results\n",
    "for result in results:\n",
    "    params = result['params']\n",
    "    train_err = result['train_err']\n",
    "    train_loss = result['train_loss']\n",
    "    val_err = result['val_err']\n",
    "    val_loss = result['val_loss']\n",
    "    \n",
    "    epochs = np.arange(1, len(train_err) + 1)\n",
    "    \n",
    "    plt.figure(figsize=(12, 5))\n",
    "    plt.subplot(1, 2, 1)\n",
    "    plt.plot(epochs, train_loss, label='Train Loss')\n",
    "    plt.plot(epochs, val_loss, label='Validation Loss')\n",
    "    plt.xlabel('Epoch')\n",
    "    plt.ylabel('Loss')\n",
    "    plt.title(f'Learning Rate: {params[\"learning_rate\"]}, Batch Size: {params[\"batch_size\"]}, Filters: {params[\"num_filters\"]}')\n",
    "    plt.legend()\n",
    "    \n",
    "    plt.subplot(1, 2, 2)\n",
    "    plt.plot(epochs, train_err, label='Train Error')\n",
    "    plt.plot(epochs, val_err, label='Validation Error')\n",
    "    plt.xlabel('Epoch')\n",
    "    plt.ylabel('Error')\n",
    "    plt.title(f'Learning Rate: {params[\"learning_rate\"]}, Batch Size: {params[\"batch_size\"]}, Filters: {params[\"num_filters\"]}')\n",
    "    plt.legend()\n",
    "    \n",
    "    plt.show()"
   ]
  },
  {
   "cell_type": "markdown",
   "metadata": {
    "colab_type": "text",
    "id": "H93iN5_l60BO"
   },
   "source": [
    "### Part (c) - 3 pt\n",
    "Choose the best model out of all the ones that you have trained. Justify your choice."
   ]
  },
  {
   "cell_type": "code",
   "execution_count": null,
   "metadata": {
    "colab": {},
    "colab_type": "code",
    "collapsed": true,
    "id": "kIhcN7IG6zRO",
    "jupyter": {
     "outputs_hidden": true
    }
   },
   "outputs": [],
   "source": []
  },
  {
   "cell_type": "markdown",
   "metadata": {
    "colab_type": "text",
    "id": "QzNA5oup67JO"
   },
   "source": [
    "### Part (d) - 4 pt\n",
    "Report the test accuracy of your best model. You should only do this step once and prior to this step you should have only used the training and validation data."
   ]
  },
  {
   "cell_type": "code",
   "execution_count": null,
   "metadata": {
    "colab": {},
    "colab_type": "code",
    "collapsed": true,
    "id": "2eJ7AbVl6-ax",
    "jupyter": {
     "outputs_hidden": true
    }
   },
   "outputs": [],
   "source": []
  },
  {
   "cell_type": "markdown",
   "metadata": {
    "colab_type": "text",
    "id": "Wrem-iXV6_Bz"
   },
   "source": [
    "### 4. Transfer Learning [15 pt]\n",
    "For many image classification tasks, it is generally not a good idea to train a very large deep neural network\n",
    "model from scratch due to the enormous compute requirements and lack of sufficient amounts of training\n",
    "data.\n",
    "\n",
    "One of the better options is to try using an existing model that performs a similar task to the one you need\n",
    "to solve. This method of utilizing a pre-trained network for other similar tasks is broadly termed **Transfer\n",
    "Learning**. In this assignment, we will use Transfer Learning to extract features from the hand gesture\n",
    "images. Then, train a smaller network to use these features as input and classify the hand gestures.\n",
    "\n",
    "As you have learned from the CNN lecture, convolution layers extract various features from the images which\n",
    "get utilized by the fully connected layers for correct classification. AlexNet architecture played a pivotal\n",
    "role in establishing Deep Neural Nets as a go-to tool for image classification problems and we will use an\n",
    "ImageNet pre-trained AlexNet model to extract features in this assignment."
   ]
  },
  {
   "cell_type": "markdown",
   "metadata": {
    "colab_type": "text",
    "id": "rWdQJz4Q7O2F"
   },
   "source": [
    "### Part (a) - 5 pt\n",
    "Here is the code to load the AlexNet network, with pretrained weights. When you first run the code, PyTorch\n",
    "will download the pretrained weights from the internet."
   ]
  },
  {
   "cell_type": "code",
   "execution_count": 112,
   "metadata": {
    "colab": {},
    "colab_type": "code",
    "collapsed": true,
    "id": "BJKcTW9C7TZk",
    "jupyter": {
     "outputs_hidden": true
    }
   },
   "outputs": [
    {
     "name": "stderr",
     "output_type": "stream",
     "text": [
      "/Library/Frameworks/Python.framework/Versions/3.12/lib/python3.12/site-packages/torchvision/models/_utils.py:208: UserWarning: The parameter 'pretrained' is deprecated since 0.13 and may be removed in the future, please use 'weights' instead.\n",
      "  warnings.warn(\n",
      "/Library/Frameworks/Python.framework/Versions/3.12/lib/python3.12/site-packages/torchvision/models/_utils.py:223: UserWarning: Arguments other than a weight enum or `None` for 'weights' are deprecated since 0.13 and may be removed in the future. The current behavior is equivalent to passing `weights=AlexNet_Weights.IMAGENET1K_V1`. You can also use `weights=AlexNet_Weights.DEFAULT` to get the most up-to-date weights.\n",
      "  warnings.warn(msg)\n",
      "Downloading: \"https://download.pytorch.org/models/alexnet-owt-7be5be79.pth\" to /Users/harrynguyen/.cache/torch/hub/checkpoints/alexnet-owt-7be5be79.pth\n",
      "100.0%\n"
     ]
    },
    {
     "data": {
      "text/plain": [
       "AlexNet(\n",
       "  (features): Sequential(\n",
       "    (0): Conv2d(3, 64, kernel_size=(11, 11), stride=(4, 4), padding=(2, 2))\n",
       "    (1): ReLU(inplace=True)\n",
       "    (2): MaxPool2d(kernel_size=3, stride=2, padding=0, dilation=1, ceil_mode=False)\n",
       "    (3): Conv2d(64, 192, kernel_size=(5, 5), stride=(1, 1), padding=(2, 2))\n",
       "    (4): ReLU(inplace=True)\n",
       "    (5): MaxPool2d(kernel_size=3, stride=2, padding=0, dilation=1, ceil_mode=False)\n",
       "    (6): Conv2d(192, 384, kernel_size=(3, 3), stride=(1, 1), padding=(1, 1))\n",
       "    (7): ReLU(inplace=True)\n",
       "    (8): Conv2d(384, 256, kernel_size=(3, 3), stride=(1, 1), padding=(1, 1))\n",
       "    (9): ReLU(inplace=True)\n",
       "    (10): Conv2d(256, 256, kernel_size=(3, 3), stride=(1, 1), padding=(1, 1))\n",
       "    (11): ReLU(inplace=True)\n",
       "    (12): MaxPool2d(kernel_size=3, stride=2, padding=0, dilation=1, ceil_mode=False)\n",
       "  )\n",
       "  (avgpool): AdaptiveAvgPool2d(output_size=(6, 6))\n",
       "  (classifier): Sequential(\n",
       "    (0): Dropout(p=0.5, inplace=False)\n",
       "    (1): Linear(in_features=9216, out_features=4096, bias=True)\n",
       "    (2): ReLU(inplace=True)\n",
       "    (3): Dropout(p=0.5, inplace=False)\n",
       "    (4): Linear(in_features=4096, out_features=4096, bias=True)\n",
       "    (5): ReLU(inplace=True)\n",
       "    (6): Linear(in_features=4096, out_features=1000, bias=True)\n",
       "  )\n",
       ")"
      ]
     },
     "execution_count": 112,
     "metadata": {},
     "output_type": "execute_result"
    }
   ],
   "source": [
    "import torchvision.models\n",
    "alexnet = torchvision.models.alexnet(pretrained=True)\n",
    "alexnet.eval()"
   ]
  },
  {
   "cell_type": "markdown",
   "metadata": {
    "colab_type": "text",
    "id": "NQ0GZYaP7VAR"
   },
   "source": [
    "The alexnet model is split up into two components: *alexnet.features* and *alexnet.classifier*. The\n",
    "first neural network component, *alexnet.features*, is used to compute convolutional features, which are\n",
    "taken as input in *alexnet.classifier*.\n",
    "\n",
    "The neural network alexnet.features expects an image tensor of shape Nx3x224x224 as input and it will\n",
    "output a tensor of shape Nx256x6x6 . (N = batch size).\n",
    "\n",
    "Compute the AlexNet features for each of your training, validation, and test data. Here is an example code\n",
    "snippet showing how you can compute the AlexNet features for some images (your actual code might be\n",
    "different):"
   ]
  },
  {
   "cell_type": "code",
   "execution_count": 118,
   "metadata": {
    "colab": {},
    "colab_type": "code",
    "collapsed": true,
    "id": "oX7SjVdB7XAE",
    "jupyter": {
     "outputs_hidden": true
    }
   },
   "outputs": [],
   "source": [
    "from torchvision import transforms, datasets\n",
    "from torch.utils.data import DataLoader\n",
    "\n",
    "# Define the transformation\n",
    "transform = transforms.Compose([\n",
    "    transforms.Resize((224, 224)),\n",
    "    transforms.ToTensor(),\n",
    "    transforms.Normalize(mean=[0.485, 0.456, 0.406], std=[0.229, 0.224, 0.225]),\n",
    "])\n",
    "\n",
    "# Load the datasets\n",
    "train_dataset = datasets.ImageFolder('/Users/harrynguyen/Documents/GitHub/APS360/Labs/3/asl_train', transform=transform)\n",
    "val_dataset = datasets.ImageFolder('/Users/harrynguyen/Documents/GitHub/APS360/Labs/3/asl_val', transform=transform)\n",
    "test_dataset = datasets.ImageFolder('/Users/harrynguyen/Documents/GitHub/APS360/Labs/3/asl_test', transform=transform)\n",
    "\n",
    "# Define the data loaders\n",
    "batch_size = 64\n",
    "train_loader = DataLoader(train_dataset, batch_size=batch_size, shuffle=True, num_workers=4)\n",
    "val_loader = DataLoader(val_dataset, batch_size=batch_size, shuffle=False, num_workers=4)\n",
    "test_loader = DataLoader(test_dataset, batch_size=batch_size, shuffle=False, num_workers=4)\n",
    "\n"
   ]
  },
  {
   "cell_type": "markdown",
   "metadata": {
    "colab_type": "text",
    "id": "DYcjHg_A7cCM"
   },
   "source": [
    "**Save the computed features**. You will be using these features as input to your neural network in Part\n",
    "(b), and you do not want to re-compute the features every time. Instead, run *alexnet.features* once for\n",
    "each image, and save the result."
   ]
  },
  {
   "cell_type": "code",
   "execution_count": 113,
   "metadata": {
    "colab": {},
    "colab_type": "code",
    "collapsed": true,
    "id": "TBo1BpL373LX",
    "jupyter": {
     "outputs_hidden": true
    }
   },
   "outputs": [],
   "source": [
    "def extract_and_save_features(dataloader, model, feature_file, label_file):\n",
    "    features = []\n",
    "    labels = []\n",
    "    with torch.no_grad():\n",
    "        for inputs, targets in dataloader:\n",
    "            outputs = model.features(inputs)\n",
    "            features.append(outputs)\n",
    "            labels.append(targets)\n",
    "    features = torch.cat(features)\n",
    "    labels = torch.cat(labels)\n",
    "    torch.save(features, feature_file)\n",
    "    torch.save(labels, label_file)\n",
    "\n",
    "# Extract and save features for each dataset\n",
    "extract_and_save_features(train_loader, alexnet, 'train_features.pt', 'train_labels.pt')\n",
    "extract_and_save_features(val_loader, alexnet, 'val_features.pt', 'val_labels.pt')\n",
    "extract_and_save_features(test_loader, alexnet, 'test_features.pt', 'test_labels.pt')"
   ]
  },
  {
   "cell_type": "markdown",
   "metadata": {
    "colab_type": "text",
    "id": "OFWvvhFN73qY"
   },
   "source": [
    "### Part (b) - 3 pt\n",
    "Build a convolutional neural network model that takes as input these AlexNet features, and makes a\n",
    "prediction. Your model should be a subclass of nn.Module.\n",
    "\n",
    "Explain your choice of neural network architecture: how many layers did you choose? What types of layers\n",
    "did you use: fully-connected or convolutional? What about other decisions like pooling layers, activation\n",
    "functions, number of channels / hidden units in each layer?\n",
    "\n",
    "Here is an example of how your model may be called:"
   ]
  },
  {
   "cell_type": "code",
   "execution_count": 127,
   "metadata": {
    "colab": {},
    "colab_type": "code",
    "collapsed": true,
    "id": "oVTuHUeV78-U",
    "jupyter": {
     "outputs_hidden": true
    }
   },
   "outputs": [
    {
     "data": {
      "text/plain": [
       "\"\\nExplanation of Choices:\\n\\nFully Connected Layers:\\n - First Fully Connected Layer: Reduces the dimensionality \\nfrom 9216 (256 * 6 * 6) to 1024. This layer helps in \\nlearning complex representations of the input features.\\n - Second Fully Connected Layer: Maps the 1024 features \\n to the number of classes (9). This layer provides the \\n final output logits for classification.\\n\\nActivation Function (ReLU):\\n- ReLU is used after the first fully connected layer \\n to introduce non-linearity. This activation function \\n helps the model learn complex patterns and prevents issues \\n related to vanishing gradients.\\n\\nFlattening the Input:\\n - The input features from AlexNet are in the shape \\n [N, 256, 6, 6]. Before feeding them into the fully \\n connected layers, we flatten these features to a 1D \\n tensor of size 9216 (256 * 6 * 6).\\n\\nSoftmax Function:\\n - Although not included in the model definition, the \\n softmax function is applied to the output logits to get \\n the probability distribution over the classes. This is \\n useful for interpreting the model's predictions.\\n\""
      ]
     },
     "execution_count": 127,
     "metadata": {},
     "output_type": "execute_result"
    }
   ],
   "source": [
    "import torch.nn as nn\n",
    "import torch.nn.functional as F\n",
    "\n",
    "class AlexNetFeatureClassifier(nn.Module):\n",
    "    def __init__(self, num_classes=9):\n",
    "        super(AlexNetFeatureClassifier, self).__init__()\n",
    "        self.fc1 = nn.Linear(3*224*224, 256*6*6)\n",
    "        self.fc2 = nn.Linear(256*6*6,1024)\n",
    "        self.fc3 = nn.Linear(1024, num_classes)\n",
    "    \n",
    "    def forward(self, x):\n",
    "        print(f\"Input shape before flattening: {x.shape}\")\n",
    "        x = x.view(x.size(0), -1)  # Flatten the tensor\n",
    "        print(f\"Shape after flattening: {x.shape}\")\n",
    "        x = F.relu(self.fc1(x))    # First fully connected layer with ReLU\n",
    "        x = F.relu(self.fc2(x))    # Second fully connected layer\n",
    "        x = self.fc3(x)            \n",
    "        return x\n",
    "\n",
    "# Example usage:\n",
    "# features = ...  # Load precomputed AlexNet features\n",
    "# model = AlexNetFeatureClassifier(num_classes=9)\n",
    "# output = model(features)\n",
    "# prob = F.softmax(output, dim=1)\n",
    "\n",
    "'''\n",
    "Explanation of Choices:\n",
    "\n",
    "Fully Connected Layers:\n",
    " - First Fully Connected Layer: Reduces the dimensionality \n",
    "from 9216 (256 * 6 * 6) to 1024. This layer helps in \n",
    "learning complex representations of the input features.\n",
    " - Second Fully Connected Layer: Maps the 1024 features \n",
    " to the number of classes (9). This layer provides the \n",
    " final output logits for classification.\n",
    "\n",
    "Activation Function (ReLU):\n",
    "- ReLU is used after the first fully connected layer \n",
    " to introduce non-linearity. This activation function \n",
    " helps the model learn complex patterns and prevents issues \n",
    " related to vanishing gradients.\n",
    "\n",
    "Flattening the Input:\n",
    " - The input features from AlexNet are in the shape \n",
    " [N, 256, 6, 6]. Before feeding them into the fully \n",
    " connected layers, we flatten these features to a 1D \n",
    " tensor of size 9216 (256 * 6 * 6).\n",
    "\n",
    "Softmax Function:\n",
    " - Although not included in the model definition, the \n",
    " softmax function is applied to the output logits to get \n",
    " the probability distribution over the classes. This is \n",
    " useful for interpreting the model's predictions.\n",
    "'''\n"
   ]
  },
  {
   "cell_type": "markdown",
   "metadata": {
    "colab_type": "text",
    "id": "wVAGuURu7-9q"
   },
   "source": [
    "### Part (c) - 5 pt\n",
    "Train your new network, including any hyperparameter tuning. Plot and submit the training curve of your\n",
    "best model only.\n",
    "\n",
    "Note: Depending on how you are caching (saving) your AlexNet features, PyTorch might still be tracking\n",
    "updates to the **AlexNet weights**, which we are not tuning. One workaround is to convert your AlexNet\n",
    "feature tensor into a numpy array, and then back into a PyTorch tensor."
   ]
  },
  {
   "cell_type": "code",
   "execution_count": 115,
   "metadata": {
    "colab": {},
    "colab_type": "code",
    "collapsed": true,
    "id": "JCmiH11x7-q1",
    "jupyter": {
     "outputs_hidden": true
    }
   },
   "outputs": [],
   "source": [
    "# Load the precomputed features and labels\n",
    "train_features = torch.load('train_features.pt')\n",
    "train_labels = torch.load('train_labels.pt')\n",
    "val_features = torch.load('val_features.pt')\n",
    "val_labels = torch.load('val_labels.pt')\n",
    "test_features = torch.load('test_features.pt')\n",
    "test_labels = torch.load('test_labels.pt')\n"
   ]
  },
  {
   "cell_type": "code",
   "execution_count": 116,
   "metadata": {},
   "outputs": [],
   "source": [
    "def convert_to_tensor(tensor):\n",
    "    return torch.from_numpy(tensor.detach().numpy())\n",
    "\n",
    "train_features = convert_to_tensor(train_features)\n",
    "train_labels = convert_to_tensor(train_labels)\n",
    "val_features = convert_to_tensor(val_features)\n",
    "val_labels = convert_to_tensor(val_labels)\n",
    "test_features = convert_to_tensor(test_features)\n",
    "test_labels = convert_to_tensor(test_labels)\n"
   ]
  },
  {
   "cell_type": "code",
   "execution_count": 119,
   "metadata": {},
   "outputs": [],
   "source": [
    "from torch.utils.data import TensorDataset\n",
    "\n",
    "# Create TensorDatasets\n",
    "train_dataset = TensorDataset(train_features, train_labels)\n",
    "val_dataset = TensorDataset(val_features, val_labels)\n",
    "test_dataset = TensorDataset(test_features, test_labels)\n",
    "\n",
    "#Data Loader already defined\n"
   ]
  },
  {
   "cell_type": "code",
   "execution_count": 128,
   "metadata": {},
   "outputs": [
    {
     "name": "stdout",
     "output_type": "stream",
     "text": [
      "Input shape before flattening: torch.Size([64, 3, 224, 224])\n",
      "Shape after flattening: torch.Size([64, 150528])\n"
     ]
    },
    {
     "ename": "",
     "evalue": "",
     "output_type": "error",
     "traceback": [
      "\u001b[1;31mFailed to interrupt the Kernel. \n",
      "\u001b[1;31mUnable to start Kernel 'Python 3.12.1' due to a timeout waiting for the ports to get used. \n",
      "\u001b[1;31mView Jupyter <a href='command:jupyter.viewOutput'>log</a> for further details."
     ]
    }
   ],
   "source": [
    "import torch.optim as optim\n",
    "import numpy as np\n",
    "import matplotlib.pyplot as plt\n",
    "\n",
    "def train_model_alex(net, train_loader, val_loader, num_epochs, learning_rate):\n",
    "    criterion = nn.CrossEntropyLoss()\n",
    "    optimizer = optim.Adam(net.parameters(), lr=learning_rate)\n",
    "    \n",
    "    train_losses = []\n",
    "    val_losses = []\n",
    "    \n",
    "    net.train()\n",
    "    for epoch in range(num_epochs):\n",
    "        running_loss = 0.0\n",
    "        \n",
    "        for inputs, labels in train_loader:\n",
    "            optimizer.zero_grad()\n",
    "            outputs = net(inputs)\n",
    "            loss = criterion(outputs, labels)\n",
    "            loss.backward()\n",
    "            optimizer.step()\n",
    "            running_loss += loss.item() * inputs.size(0)\n",
    "        \n",
    "        epoch_loss = running_loss / len(train_loader.dataset)\n",
    "        train_losses.append(epoch_loss)\n",
    "        \n",
    "        net.eval()\n",
    "        val_loss = 0.0\n",
    "        with torch.no_grad():\n",
    "            for inputs, labels in val_loader:\n",
    "                outputs = net(inputs)\n",
    "                loss = criterion(outputs, labels)\n",
    "                val_loss += loss.item() * inputs.size(0)\n",
    "        \n",
    "        epoch_val_loss = val_loss / len(val_loader.dataset)\n",
    "        val_losses.append(epoch_val_loss)\n",
    "        \n",
    "        print(f'Epoch {epoch+1}/{num_epochs}, Train Loss: {epoch_loss:.4f}, Validation Loss: {epoch_val_loss:.4f}')\n",
    "    \n",
    "    return train_losses, val_losses\n",
    "\n",
    "# Initialize and train the model\n",
    "model = AlexNetFeatureClassifier(num_classes=9)\n",
    "train_losses, val_losses = train_model_alex(model, train_loader, val_loader, num_epochs=30, learning_rate=0.001)\n",
    "\n",
    "# Plot the training curve\n",
    "plt.plot(train_losses, label='Train Loss')\n",
    "plt.plot(val_losses, label='Validation Loss')\n",
    "plt.xlabel('Epoch')\n",
    "plt.ylabel('Loss')\n",
    "plt.legend()\n",
    "plt.title('Training Curve')\n",
    "plt.show()\n"
   ]
  },
  {
   "cell_type": "markdown",
   "metadata": {
    "colab_type": "text",
    "id": "hQ2tvqJ68Mqb"
   },
   "source": [
    "### Part (d) - 2 pt\n",
    "Report the test accuracy of your best model. How does the test accuracy compare to Part 3(d) without transfer learning?"
   ]
  },
  {
   "cell_type": "code",
   "execution_count": null,
   "metadata": {
    "colab": {},
    "colab_type": "code",
    "collapsed": true,
    "id": "yCp_kFSg8Q2T",
    "jupyter": {
     "outputs_hidden": true
    }
   },
   "outputs": [],
   "source": []
  }
 ],
 "metadata": {
  "colab": {
   "collapsed_sections": [],
   "name": "Lab 3 - Gesture Recognition.ipynb",
   "provenance": []
  },
  "kernelspec": {
   "display_name": "Python 3 (ipykernel)",
   "language": "python",
   "name": "python3"
  },
  "language_info": {
   "codemirror_mode": {
    "name": "ipython",
    "version": 3
   },
   "file_extension": ".py",
   "mimetype": "text/x-python",
   "name": "python",
   "nbconvert_exporter": "python",
   "pygments_lexer": "ipython3",
   "version": "3.12.1"
  }
 },
 "nbformat": 4,
 "nbformat_minor": 4
}
